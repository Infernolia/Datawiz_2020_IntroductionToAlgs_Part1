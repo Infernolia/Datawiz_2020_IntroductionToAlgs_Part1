{
 "cells": [
  {
   "cell_type": "markdown",
   "metadata": {},
   "source": [
    "# DATAWIZ TASK 3"
   ]
  },
  {
   "cell_type": "markdown",
   "metadata": {},
   "source": [
    "### <font color=purple> DEFINING THE PROBLEM STATEMENT </font>\n",
    "#### To understand the linear, polynomial and ridge regression algorithms, implement all 3 using sklearn/your own code in Python on the dataset provided and to predict y."
   ]
  },
  {
   "cell_type": "markdown",
   "metadata": {},
   "source": [
    "### <font color=purple> Importing required libraries </font>"
   ]
  },
  {
   "cell_type": "code",
   "execution_count": 311,
   "metadata": {},
   "outputs": [],
   "source": [
    "%matplotlib inline\n",
    "import numpy as np\n",
    "import pandas as pd\n",
    "import matplotlib.pyplot as plt\n",
    "import seaborn as sns\n",
    "sns.set()\n",
    "import scipy "
   ]
  },
  {
   "cell_type": "markdown",
   "metadata": {},
   "source": [
    "### <font color=purple>Importing dataset</font>"
   ]
  },
  {
   "cell_type": "code",
   "execution_count": 312,
   "metadata": {},
   "outputs": [],
   "source": [
    "df=pd.read_csv(\"C:\\\\Users\\\\Admin\\\\Downloads\\\\datasets_1256_2242_train.csv\")"
   ]
  },
  {
   "cell_type": "markdown",
   "metadata": {},
   "source": [
    "### <font color=purple> Analyzing data </font>"
   ]
  },
  {
   "cell_type": "code",
   "execution_count": 313,
   "metadata": {},
   "outputs": [
    {
     "data": {
      "text/html": [
       "<div>\n",
       "<style scoped>\n",
       "    .dataframe tbody tr th:only-of-type {\n",
       "        vertical-align: middle;\n",
       "    }\n",
       "\n",
       "    .dataframe tbody tr th {\n",
       "        vertical-align: top;\n",
       "    }\n",
       "\n",
       "    .dataframe thead th {\n",
       "        text-align: right;\n",
       "    }\n",
       "</style>\n",
       "<table border=\"1\" class=\"dataframe\">\n",
       "  <thead>\n",
       "    <tr style=\"text-align: right;\">\n",
       "      <th></th>\n",
       "      <th>x</th>\n",
       "      <th>y</th>\n",
       "    </tr>\n",
       "  </thead>\n",
       "  <tbody>\n",
       "    <tr>\n",
       "      <th>0</th>\n",
       "      <td>24.0</td>\n",
       "      <td>21.549452</td>\n",
       "    </tr>\n",
       "    <tr>\n",
       "      <th>1</th>\n",
       "      <td>50.0</td>\n",
       "      <td>47.464463</td>\n",
       "    </tr>\n",
       "    <tr>\n",
       "      <th>2</th>\n",
       "      <td>15.0</td>\n",
       "      <td>17.218656</td>\n",
       "    </tr>\n",
       "    <tr>\n",
       "      <th>3</th>\n",
       "      <td>38.0</td>\n",
       "      <td>36.586398</td>\n",
       "    </tr>\n",
       "    <tr>\n",
       "      <th>4</th>\n",
       "      <td>87.0</td>\n",
       "      <td>87.288984</td>\n",
       "    </tr>\n",
       "  </tbody>\n",
       "</table>\n",
       "</div>"
      ],
      "text/plain": [
       "      x          y\n",
       "0  24.0  21.549452\n",
       "1  50.0  47.464463\n",
       "2  15.0  17.218656\n",
       "3  38.0  36.586398\n",
       "4  87.0  87.288984"
      ]
     },
     "execution_count": 313,
     "metadata": {},
     "output_type": "execute_result"
    }
   ],
   "source": [
    "df.head()"
   ]
  },
  {
   "cell_type": "code",
   "execution_count": 314,
   "metadata": {},
   "outputs": [
    {
     "data": {
      "text/html": [
       "<div>\n",
       "<style scoped>\n",
       "    .dataframe tbody tr th:only-of-type {\n",
       "        vertical-align: middle;\n",
       "    }\n",
       "\n",
       "    .dataframe tbody tr th {\n",
       "        vertical-align: top;\n",
       "    }\n",
       "\n",
       "    .dataframe thead th {\n",
       "        text-align: right;\n",
       "    }\n",
       "</style>\n",
       "<table border=\"1\" class=\"dataframe\">\n",
       "  <thead>\n",
       "    <tr style=\"text-align: right;\">\n",
       "      <th></th>\n",
       "      <th>x</th>\n",
       "      <th>y</th>\n",
       "    </tr>\n",
       "  </thead>\n",
       "  <tbody>\n",
       "    <tr>\n",
       "      <th>count</th>\n",
       "      <td>700.000000</td>\n",
       "      <td>699.000000</td>\n",
       "    </tr>\n",
       "    <tr>\n",
       "      <th>mean</th>\n",
       "      <td>54.985939</td>\n",
       "      <td>49.939869</td>\n",
       "    </tr>\n",
       "    <tr>\n",
       "      <th>std</th>\n",
       "      <td>134.681703</td>\n",
       "      <td>29.109217</td>\n",
       "    </tr>\n",
       "    <tr>\n",
       "      <th>min</th>\n",
       "      <td>0.000000</td>\n",
       "      <td>-3.839981</td>\n",
       "    </tr>\n",
       "    <tr>\n",
       "      <th>25%</th>\n",
       "      <td>25.000000</td>\n",
       "      <td>24.929968</td>\n",
       "    </tr>\n",
       "    <tr>\n",
       "      <th>50%</th>\n",
       "      <td>49.000000</td>\n",
       "      <td>48.973020</td>\n",
       "    </tr>\n",
       "    <tr>\n",
       "      <th>75%</th>\n",
       "      <td>75.000000</td>\n",
       "      <td>74.929911</td>\n",
       "    </tr>\n",
       "    <tr>\n",
       "      <th>max</th>\n",
       "      <td>3530.157369</td>\n",
       "      <td>108.871618</td>\n",
       "    </tr>\n",
       "  </tbody>\n",
       "</table>\n",
       "</div>"
      ],
      "text/plain": [
       "                 x           y\n",
       "count   700.000000  699.000000\n",
       "mean     54.985939   49.939869\n",
       "std     134.681703   29.109217\n",
       "min       0.000000   -3.839981\n",
       "25%      25.000000   24.929968\n",
       "50%      49.000000   48.973020\n",
       "75%      75.000000   74.929911\n",
       "max    3530.157369  108.871618"
      ]
     },
     "execution_count": 314,
     "metadata": {},
     "output_type": "execute_result"
    }
   ],
   "source": [
    "df.describe()"
   ]
  },
  {
   "cell_type": "markdown",
   "metadata": {},
   "source": [
    "### <font color=purple> Checking for missing values </font>"
   ]
  },
  {
   "cell_type": "code",
   "execution_count": 315,
   "metadata": {},
   "outputs": [
    {
     "data": {
      "text/plain": [
       "x    0\n",
       "y    1\n",
       "dtype: int64"
      ]
     },
     "execution_count": 315,
     "metadata": {},
     "output_type": "execute_result"
    }
   ],
   "source": [
    "df.isnull().sum()"
   ]
  },
  {
   "cell_type": "code",
   "execution_count": 316,
   "metadata": {},
   "outputs": [
    {
     "name": "stdout",
     "output_type": "stream",
     "text": [
      "<class 'pandas.core.frame.DataFrame'>\n",
      "RangeIndex: 700 entries, 0 to 699\n",
      "Data columns (total 2 columns):\n",
      " #   Column  Non-Null Count  Dtype  \n",
      "---  ------  --------------  -----  \n",
      " 0   x       700 non-null    float64\n",
      " 1   y       699 non-null    float64\n",
      "dtypes: float64(2)\n",
      "memory usage: 11.1 KB\n"
     ]
    }
   ],
   "source": [
    "df.info()"
   ]
  },
  {
   "cell_type": "markdown",
   "metadata": {},
   "source": [
    "### <font color=purple> Replacing missing value with median of the column </font>"
   ]
  },
  {
   "cell_type": "code",
   "execution_count": 317,
   "metadata": {},
   "outputs": [],
   "source": [
    "df['y']=df['y'].replace(np.nan,df['y'].median())"
   ]
  },
  {
   "cell_type": "code",
   "execution_count": 318,
   "metadata": {},
   "outputs": [
    {
     "data": {
      "text/plain": [
       "x    0\n",
       "y    0\n",
       "dtype: int64"
      ]
     },
     "execution_count": 318,
     "metadata": {},
     "output_type": "execute_result"
    }
   ],
   "source": [
    "df.isnull().sum()"
   ]
  },
  {
   "cell_type": "markdown",
   "metadata": {},
   "source": [
    "### <font color=purple> Checking for outliers </font>\n",
    "#### <font color=brown>1. Using scatter plot </font>"
   ]
  },
  {
   "cell_type": "code",
   "execution_count": 319,
   "metadata": {},
   "outputs": [
    {
     "data": {
      "text/plain": [
       "Text(0.5, 1, 'x vs y')"
      ]
     },
     "execution_count": 319,
     "metadata": {},
     "output_type": "execute_result"
    },
    {
     "data": {
      "text/plain": [
       "<Figure size 1440x720 with 0 Axes>"
      ]
     },
     "metadata": {},
     "output_type": "display_data"
    },
    {
     "data": {
      "image/png": "[encoded data removed]",
      "text/plain": [
       "<Figure size 360x360 with 1 Axes>"
      ]
     },
     "metadata": {},
     "output_type": "display_data"
    }
   ],
   "source": [
    "plt.figure(figsize=(20,10))\n",
    "\n",
    "sns.relplot('x','y',data=df)\n",
    "plt.title('x vs y')"
   ]
  },
  {
   "cell_type": "markdown",
   "metadata": {},
   "source": [
    "##### <font color=red> An outlier can be spotted around x=3500 </font>\n",
    "#### <font color=brown> 2. Using Z-score </font>\n"
   ]
  },
  {
   "cell_type": "code",
   "execution_count": 320,
   "metadata": {},
   "outputs": [],
   "source": [
    "def detect_outliers(data):\n",
    "    outliers=[]\n",
    "    threshold=3 #if Z-score goes beyond 3 standard deviations, outlier is detected\n",
    "    mean=np.mean(data)\n",
    "    std=np.std(data)\n",
    "    for i in data:\n",
    "        z_score=(i-mean)/std #z-score formula\n",
    "        if np.abs(z_score)>threshold:\n",
    "            outliers.append(i)\n",
    "    return outliers        \n",
    "    "
   ]
  },
  {
   "cell_type": "code",
   "execution_count": 321,
   "metadata": {},
   "outputs": [
    {
     "data": {
      "text/plain": [
       "[3530.15736917]"
      ]
     },
     "execution_count": 321,
     "metadata": {},
     "output_type": "execute_result"
    }
   ],
   "source": [
    "detect_outliers(df['x'])"
   ]
  },
  {
   "cell_type": "code",
   "execution_count": 322,
   "metadata": {},
   "outputs": [
    {
     "data": {
      "text/plain": [
       "[]"
      ]
     },
     "execution_count": 322,
     "metadata": {},
     "output_type": "execute_result"
    }
   ],
   "source": [
    "detect_outliers(df['y'])"
   ]
  },
  {
   "cell_type": "markdown",
   "metadata": {},
   "source": [
    "#### <font color=red>outlier confirmed at x=3530.14736917 <font color=red>\n",
    "#### <font color=brown> Finding index of outlier </font>"
   ]
  },
  {
   "cell_type": "code",
   "execution_count": 323,
   "metadata": {},
   "outputs": [
    {
     "data": {
      "text/plain": [
       "41        0.000000\n",
       "614       0.000000\n",
       "33        0.000000\n",
       "464       0.000000\n",
       "67        0.000000\n",
       "          ...     \n",
       "676     100.000000\n",
       "269     100.000000\n",
       "158     100.000000\n",
       "632     100.000000\n",
       "213    3530.157369\n",
       "Name: x, Length: 700, dtype: float64"
      ]
     },
     "execution_count": 323,
     "metadata": {},
     "output_type": "execute_result"
    }
   ],
   "source": [
    "df['x'].sort_values()"
   ]
  },
  {
   "cell_type": "markdown",
   "metadata": {},
   "source": [
    "#### <font color=brown> Removing outlier </font>"
   ]
  },
  {
   "cell_type": "code",
   "execution_count": 324,
   "metadata": {},
   "outputs": [],
   "source": [
    "df.drop(df.index[[213]], inplace=True)"
   ]
  },
  {
   "cell_type": "code",
   "execution_count": 325,
   "metadata": {},
   "outputs": [
    {
     "data": {
      "text/plain": [
       "507      0.0\n",
       "67       0.0\n",
       "614      0.0\n",
       "41       0.0\n",
       "96       0.0\n",
       "       ...  \n",
       "676    100.0\n",
       "269    100.0\n",
       "158    100.0\n",
       "685    100.0\n",
       "298    100.0\n",
       "Name: x, Length: 699, dtype: float64"
      ]
     },
     "execution_count": 325,
     "metadata": {},
     "output_type": "execute_result"
    }
   ],
   "source": [
    "df['x'].sort_values()"
   ]
  },
  {
   "cell_type": "markdown",
   "metadata": {},
   "source": [
    "### <font color=purple> Importing libraries for implementing algorithms </font>"
   ]
  },
  {
   "cell_type": "code",
   "execution_count": 326,
   "metadata": {},
   "outputs": [],
   "source": [
    "#Import models from scikit learn module: \n",
    "from sklearn.linear_model import LinearRegression \n",
    "#from sklearn.cross_validation import KFold  \n",
    "from sklearn.model_selection import KFold \n",
    "from sklearn import metrics \n",
    "from sklearn.preprocessing import PolynomialFeatures\n",
    "from sklearn.linear_model import Ridge"
   ]
  },
  {
   "cell_type": "markdown",
   "metadata": {},
   "source": [
    "### <font color=purple> Defining a function for </font>  \n",
    " <font color=brown>1.Predicting values of independent variable<br/>    2.Finding Root mean Square error<br/>   3.Finding value of R-square <br/>  4.Splitting dataset for cross validation<br/>   5.Finding model accuracy</font>"
   ]
  },
  {
   "cell_type": "code",
   "execution_count": 327,
   "metadata": {},
   "outputs": [],
   "source": [
    "def classification_model(model, data, predictors, outcome):\n",
    "    model.fit(data[predictors],data[outcome])\n",
    "    predictions = model.predict(data[predictors])\n",
    "    RMSE =(metrics.mean_squared_error(predictions,data[outcome]))\n",
    "    R2 = metrics.r2_score(predictions,data[outcome]) \n",
    "    print(\"RMSE : \",RMSE)\n",
    "    print(\"R-squared :\", R2)\n",
    "\n",
    "\n",
    "    kf = KFold(5,shuffle=True)\n",
    "    error = []\n",
    "    for train, test in kf.split(data):\n",
    "        train_predictors = (data[predictors].iloc[train,:])\n",
    "        train_target = data[outcome].iloc[train]\n",
    "        model.fit(train_predictors, train_target)\n",
    "        error.append(model.score(data[predictors].iloc[test,:], data[outcome].iloc[test]))\n",
    "    print(\"Cross-Validation Score : %s\" % \"{0:.3%}\".format(np.mean(error)))"
   ]
  },
  {
   "cell_type": "markdown",
   "metadata": {},
   "source": [
    "### <font color=purple> Using linear regression </font>"
   ]
  },
  {
   "cell_type": "code",
   "execution_count": 328,
   "metadata": {},
   "outputs": [
    {
     "name": "stdout",
     "output_type": "stream",
     "text": [
      "RMSE :  7.867752733487686\n",
      "R-squared : 0.9906142588882534\n",
      "Cross-Validation Score : 99.058%\n"
     ]
    }
   ],
   "source": [
    "predictor_var=['x']\n",
    "outcome_var=['y']\n",
    "model=LinearRegression()\n",
    "classification_model(model, df,predictor_var,outcome_var)"
   ]
  },
  {
   "cell_type": "markdown",
   "metadata": {},
   "source": [
    "### <font color=purple> Visualizing the line of best fit </font>"
   ]
  },
  {
   "cell_type": "code",
   "execution_count": 329,
   "metadata": {},
   "outputs": [
    {
     "name": "stdout",
     "output_type": "stream",
     "text": [
      "1.0006563818563041\n",
      "-0.10726546430097052\n"
     ]
    },
    {
     "data": {
      "text/plain": [
       "[<matplotlib.lines.Line2D at 0x19bb2f94888>]"
      ]
     },
     "execution_count": 329,
     "metadata": {},
     "output_type": "execute_result"
    },
    {
     "data": {
      "image/png": "[encoded data removed]",
      "text/plain": [
       "<Figure size 432x288 with 1 Axes>"
      ]
     },
     "metadata": {},
     "output_type": "display_data"
    }
   ],
   "source": [
    "m, b = np.polyfit(df['x'], df['y'], 1)\n",
    "\n",
    "\n",
    "print(m)\n",
    "print(b)\n",
    "\n",
    "plt.plot(df['x'], df['y'], 'o')\n",
    "#create scatter plot\n",
    "\n",
    "plt.plot(df['x'], m*df['x'] + b)"
   ]
  },
  {
   "cell_type": "markdown",
   "metadata": {},
   "source": [
    "### <font color=purple> Using Polynomial Regression </font>\n",
    "#### <font color=brown> Defining a function to input highest degree n </font>"
   ]
  },
  {
   "cell_type": "code",
   "execution_count": 330,
   "metadata": {},
   "outputs": [],
   "source": [
    "def poly_degree(n):\n",
    "    new_df=df.copy()\n",
    "    for i in range(2,n+1):\n",
    "        new_df['x^'+str(i)]=new_df['x']**i\n",
    "    column_list=list(new_df.columns)\n",
    "    \n",
    "\n",
    "    column_list.remove(column_list[1])\n",
    "    print(new_df.head())\n",
    "    return new_df,column_list\n",
    "       "
   ]
  },
  {
   "cell_type": "code",
   "execution_count": 331,
   "metadata": {},
   "outputs": [
    {
     "name": "stdout",
     "output_type": "stream",
     "text": [
      "      x          y     x^2       x^3         x^4           x^5           x^6\n",
      "0  24.0  21.549452   576.0   13824.0    331776.0  7.962624e+06  1.911030e+08\n",
      "1  50.0  47.464463  2500.0  125000.0   6250000.0  3.125000e+08  1.562500e+10\n",
      "2  15.0  17.218656   225.0    3375.0     50625.0  7.593750e+05  1.139062e+07\n",
      "3  38.0  36.586398  1444.0   54872.0   2085136.0  7.923517e+07  3.010936e+09\n",
      "4  87.0  87.288984  7569.0  658503.0  57289761.0  4.984209e+09  4.336262e+11\n",
      "RMSE :  7.867752733487686\n",
      "R-squared : 0.9906142588882534\n",
      "Cross-Validation Score : 99.063%\n"
     ]
    }
   ],
   "source": [
    "poly_degree(6)\n",
    "predictor_var=trial\n",
    "outcome_var=['y']\n",
    "model=LinearRegression()\n",
    "classification_model(model, df,predictor_var,outcome_var)"
   ]
  },
  {
   "cell_type": "code",
   "execution_count": 332,
   "metadata": {},
   "outputs": [
    {
     "name": "stdout",
     "output_type": "stream",
     "text": [
      "      x          y     x^2       x^3         x^4           x^5           x^6  \\\n",
      "0  24.0  21.549452   576.0   13824.0    331776.0  7.962624e+06  1.911030e+08   \n",
      "1  50.0  47.464463  2500.0  125000.0   6250000.0  3.125000e+08  1.562500e+10   \n",
      "2  15.0  17.218656   225.0    3375.0     50625.0  7.593750e+05  1.139062e+07   \n",
      "3  38.0  36.586398  1444.0   54872.0   2085136.0  7.923517e+07  3.010936e+09   \n",
      "4  87.0  87.288984  7569.0  658503.0  57289761.0  4.984209e+09  4.336262e+11   \n",
      "\n",
      "            x^7           x^8           x^9  ...          x^41          x^42  \\\n",
      "0  4.586471e+09  1.100753e+11  2.641808e+12  ...  3.878474e+56  9.308338e+57   \n",
      "1  7.812500e+11  3.906250e+13  1.953125e+15  ...  4.547474e+69  2.273737e+71   \n",
      "2  1.708594e+08  2.562891e+09  3.844336e+10  ...  1.658600e+48  2.487900e+49   \n",
      "3  1.144156e+11  4.347792e+12  1.652161e+14  ...  5.903743e+64  2.243422e+66   \n",
      "4  3.772548e+13  3.282117e+15  2.855442e+17  ...  3.313518e+79  2.882761e+81   \n",
      "\n",
      "           x^43          x^44          x^45          x^46          x^47  \\\n",
      "0  2.234001e+59  5.361603e+60  1.286785e+62  3.088283e+63  7.411880e+64   \n",
      "1  1.136868e+73  5.684342e+74  2.842171e+76  1.421085e+78  7.105427e+79   \n",
      "2  3.731850e+50  5.597774e+51  8.396662e+52  1.259499e+54  1.889249e+55   \n",
      "3  8.525005e+67  3.239502e+69  1.231011e+71  4.677841e+72  1.777580e+74   \n",
      "4  2.508002e+83  2.181962e+85  1.898307e+87  1.651527e+89  1.436828e+91   \n",
      "\n",
      "           x^48          x^49          x^50  \n",
      "0  1.778851e+66  4.269243e+67  1.024618e+69  \n",
      "1  3.552714e+81  1.776357e+83  8.881784e+84  \n",
      "2  2.833873e+56  4.250810e+57  6.376215e+58  \n",
      "3  6.754802e+75  2.566825e+77  9.753934e+78  \n",
      "4  1.250041e+93  1.087535e+95  9.461557e+96  \n",
      "\n",
      "[5 rows x 51 columns]\n",
      "RMSE :  7.867752733487686\n",
      "R-squared : 0.9906142588882534\n",
      "Cross-Validation Score : 99.044%\n"
     ]
    }
   ],
   "source": [
    "poly_degree(50)\n",
    "predictor_var=trial\n",
    "outcome_var=['y']\n",
    "model=LinearRegression()\n",
    "classification_model(model, df,predictor_var,outcome_var)"
   ]
  },
  {
   "cell_type": "markdown",
   "metadata": {},
   "source": [
    "### <font color=purple> Using Ridge regression </font>"
   ]
  },
  {
   "cell_type": "code",
   "execution_count": 333,
   "metadata": {},
   "outputs": [
    {
     "name": "stdout",
     "output_type": "stream",
     "text": [
      "RMSE :  7.867752735935635\n",
      "R-squared : 0.9906142268071643\n",
      "Cross-Validation Score : 99.061%\n"
     ]
    }
   ],
   "source": [
    "predictor_var=['x']\n",
    "outcome_var=['y']\n",
    "model=Ridge()\n",
    "classification_model(model, df,predictor_var,outcome_var)"
   ]
  },
  {
   "cell_type": "markdown",
   "metadata": {},
   "source": [
    "### <font color=purple>References</font>\n",
    "   * https://www.youtube.com/watch?v=9lRv01HDU0s \n",
    "   * https://docs.scipy.org/doc/scipy/reference/interpolate.html \n",
    "   * https://apmonitor.com/che263/index.php/Main/PythonDataRegression \n",
    "   * https://ncss-wpengine.netdna-ssl.com/wp-content/themes/ncss/pdf/Procedures/NCSS/Ridge_Regression.pdf \n",
    "   * https://scikit-learn.org/stable/modules/generated/sklearn.linear_model.RidgeCV.html#sklearn.linear_model.RidgeCV"
   ]
  }
 ],
 "metadata": {
  "kernelspec": {
   "display_name": "Python 3",
   "language": "python",
   "name": "python3"
  },
  "language_info": {
   "codemirror_mode": {
    "name": "ipython",
    "version": 3
   },
   "file_extension": ".py",
   "mimetype": "text/x-python",
   "name": "python",
   "nbconvert_exporter": "python",
   "pygments_lexer": "ipython3",
   "version": "3.7.6"
  }
 },
 "nbformat": 4,
 "nbformat_minor": 4
}

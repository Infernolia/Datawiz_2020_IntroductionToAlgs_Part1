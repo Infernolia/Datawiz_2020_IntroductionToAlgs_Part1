{
 "cells": [
  {
   "cell_type": "markdown",
   "metadata": {},
   "source": [
    "## Group Name : Data_Wizards\n",
    "## Group Members\n",
    "### <font color=purple> Pushkar Jain </font>\n",
    "### <font color=purple> Tanuj Pancholi </font>\n",
    "\n",
    "# <center>DATAWIZ TASK 3 - Machine learning</center>\n",
    "### Defining the problem statement \n",
    "##### Implement all 3 using sklearn/your own code in Python on the dataset that we have provided, to predict y "
   ]
  },
  {
   "cell_type": "code",
   "execution_count": 147,
   "metadata": {},
   "outputs": [
    {
     "data": {
      "text/html": [
       "\n",
       "    <div class=\"bk-root\">\n",
       "        <a href=\"https://bokeh.org\" target=\"_blank\" class=\"bk-logo bk-logo-small bk-logo-notebook\"></a>\n",
       "        <span id=\"20597\">Loading BokehJS ...</span>\n",
       "    </div>"
      ]
     },
     "metadata": {},
     "output_type": "display_data"
    },
    {
     "data": {
      "application/javascript": [
       "\n",
       "(function(root) {\n",
       "  function now() {\n",
       "    return new Date();\n",
       "  }\n",
       "\n",
       "  var force = true;\n",
       "\n",
       "  if (typeof root._bokeh_onload_callbacks === \"undefined\" || force === true) {\n",
       "    root._bokeh_onload_callbacks = [];\n",
       "    root._bokeh_is_loading = undefined;\n",
       "  }\n",
       "\n",
       "  var JS_MIME_TYPE = 'application/javascript';\n",
       "  var HTML_MIME_TYPE = 'text/html';\n",
       "  var EXEC_MIME_TYPE = 'application/vnd.bokehjs_exec.v0+json';\n",
       "  var CLASS_NAME = 'output_bokeh rendered_html';\n",
       "\n",
       "  /**\n",
       "   * Render data to the DOM node\n",
       "   */\n",
       "  function render(props, node) {\n",
       "    var script = document.createElement(\"script\");\n",
       "    node.appendChild(script);\n",
       "  }\n",
       "\n",
       "  /**\n",
       "   * Handle when an output is cleared or removed\n",
       "   */\n",
       "  function handleClearOutput(event, handle) {\n",
       "    var cell = handle.cell;\n",
       "\n",
       "    var id = cell.output_area._bokeh_element_id;\n",
       "    var server_id = cell.output_area._bokeh_server_id;\n",
       "    // Clean up Bokeh references\n",
       "    if (id != null && id in Bokeh.index) {\n",
       "      Bokeh.index[id].model.document.clear();\n",
       "      delete Bokeh.index[id];\n",
       "    }\n",
       "\n",
       "    if (server_id !== undefined) {\n",
       "      // Clean up Bokeh references\n",
       "      var cmd = \"from bokeh.io.state import curstate; print(curstate().uuid_to_server['\" + server_id + \"'].get_sessions()[0].document.roots[0]._id)\";\n",
       "      cell.notebook.kernel.execute(cmd, {\n",
       "        iopub: {\n",
       "          output: function(msg) {\n",
       "            var id = msg.content.text.trim();\n",
       "            if (id in Bokeh.index) {\n",
       "              Bokeh.index[id].model.document.clear();\n",
       "              delete Bokeh.index[id];\n",
       "            }\n",
       "          }\n",
       "        }\n",
       "      });\n",
       "      // Destroy server and session\n",
       "      var cmd = \"import bokeh.io.notebook as ion; ion.destroy_server('\" + server_id + \"')\";\n",
       "      cell.notebook.kernel.execute(cmd);\n",
       "    }\n",
       "  }\n",
       "\n",
       "  /**\n",
       "   * Handle when a new output is added\n",
       "   */\n",
       "  function handleAddOutput(event, handle) {\n",
       "    var output_area = handle.output_area;\n",
       "    var output = handle.output;\n",
       "\n",
       "    // limit handleAddOutput to display_data with EXEC_MIME_TYPE content only\n",
       "    if ((output.output_type != \"display_data\") || (!output.data.hasOwnProperty(EXEC_MIME_TYPE))) {\n",
       "      return\n",
       "    }\n",
       "\n",
       "    var toinsert = output_area.element.find(\".\" + CLASS_NAME.split(' ')[0]);\n",
       "\n",
       "    if (output.metadata[EXEC_MIME_TYPE][\"id\"] !== undefined) {\n",
       "      toinsert[toinsert.length - 1].firstChild.textContent = output.data[JS_MIME_TYPE];\n",
       "      // store reference to embed id on output_area\n",
       "      output_area._bokeh_element_id = output.metadata[EXEC_MIME_TYPE][\"id\"];\n",
       "    }\n",
       "    if (output.metadata[EXEC_MIME_TYPE][\"server_id\"] !== undefined) {\n",
       "      var bk_div = document.createElement(\"div\");\n",
       "      bk_div.innerHTML = output.data[HTML_MIME_TYPE];\n",
       "      var script_attrs = bk_div.children[0].attributes;\n",
       "      for (var i = 0; i < script_attrs.length; i++) {\n",
       "        toinsert[toinsert.length - 1].firstChild.setAttribute(script_attrs[i].name, script_attrs[i].value);\n",
       "      }\n",
       "      // store reference to server id on output_area\n",
       "      output_area._bokeh_server_id = output.metadata[EXEC_MIME_TYPE][\"server_id\"];\n",
       "    }\n",
       "  }\n",
       "\n",
       "  function register_renderer(events, OutputArea) {\n",
       "\n",
       "    function append_mime(data, metadata, element) {\n",
       "      // create a DOM node to render to\n",
       "      var toinsert = this.create_output_subarea(\n",
       "        metadata,\n",
       "        CLASS_NAME,\n",
       "        EXEC_MIME_TYPE\n",
       "      );\n",
       "      this.keyboard_manager.register_events(toinsert);\n",
       "      // Render to node\n",
       "      var props = {data: data, metadata: metadata[EXEC_MIME_TYPE]};\n",
       "      render(props, toinsert[toinsert.length - 1]);\n",
       "      element.append(toinsert);\n",
       "      return toinsert\n",
       "    }\n",
       "\n",
       "    /* Handle when an output is cleared or removed */\n",
       "    events.on('clear_output.CodeCell', handleClearOutput);\n",
       "    events.on('delete.Cell', handleClearOutput);\n",
       "\n",
       "    /* Handle when a new output is added */\n",
       "    events.on('output_added.OutputArea', handleAddOutput);\n",
       "\n",
       "    /**\n",
       "     * Register the mime type and append_mime function with output_area\n",
       "     */\n",
       "    OutputArea.prototype.register_mime_type(EXEC_MIME_TYPE, append_mime, {\n",
       "      /* Is output safe? */\n",
       "      safe: true,\n",
       "      /* Index of renderer in `output_area.display_order` */\n",
       "      index: 0\n",
       "    });\n",
       "  }\n",
       "\n",
       "  // register the mime type if in Jupyter Notebook environment and previously unregistered\n",
       "  if (root.Jupyter !== undefined) {\n",
       "    var events = require('base/js/events');\n",
       "    var OutputArea = require('notebook/js/outputarea').OutputArea;\n",
       "\n",
       "    if (OutputArea.prototype.mime_types().indexOf(EXEC_MIME_TYPE) == -1) {\n",
       "      register_renderer(events, OutputArea);\n",
       "    }\n",
       "  }\n",
       "\n",
       "  \n",
       "  if (typeof (root._bokeh_timeout) === \"undefined\" || force === true) {\n",
       "    root._bokeh_timeout = Date.now() + 5000;\n",
       "    root._bokeh_failed_load = false;\n",
       "  }\n",
       "\n",
       "  var NB_LOAD_WARNING = {'data': {'text/html':\n",
       "     \"<div style='background-color: #fdd'>\\n\"+\n",
       "     \"<p>\\n\"+\n",
       "     \"BokehJS does not appear to have successfully loaded. If loading BokehJS from CDN, this \\n\"+\n",
       "     \"may be due to a slow or bad network connection. Possible fixes:\\n\"+\n",
       "     \"</p>\\n\"+\n",
       "     \"<ul>\\n\"+\n",
       "     \"<li>re-rerun `output_notebook()` to attempt to load from CDN again, or</li>\\n\"+\n",
       "     \"<li>use INLINE resources instead, as so:</li>\\n\"+\n",
       "     \"</ul>\\n\"+\n",
       "     \"<code>\\n\"+\n",
       "     \"from bokeh.resources import INLINE\\n\"+\n",
       "     \"output_notebook(resources=INLINE)\\n\"+\n",
       "     \"</code>\\n\"+\n",
       "     \"</div>\"}};\n",
       "\n",
       "  function display_loaded() {\n",
       "    var el = document.getElementById(\"20597\");\n",
       "    if (el != null) {\n",
       "      el.textContent = \"BokehJS is loading...\";\n",
       "    }\n",
       "    if (root.Bokeh !== undefined) {\n",
       "      if (el != null) {\n",
       "        el.textContent = \"BokehJS \" + root.Bokeh.version + \" successfully loaded.\";\n",
       "      }\n",
       "    } else if (Date.now() < root._bokeh_timeout) {\n",
       "      setTimeout(display_loaded, 100)\n",
       "    }\n",
       "  }\n",
       "\n",
       "\n",
       "  function run_callbacks() {\n",
       "    try {\n",
       "      root._bokeh_onload_callbacks.forEach(function(callback) {\n",
       "        if (callback != null)\n",
       "          callback();\n",
       "      });\n",
       "    } finally {\n",
       "      delete root._bokeh_onload_callbacks\n",
       "    }\n",
       "    console.debug(\"Bokeh: all callbacks have finished\");\n",
       "  }\n",
       "\n",
       "  function load_libs(css_urls, js_urls, callback) {\n",
       "    if (css_urls == null) css_urls = [];\n",
       "    if (js_urls == null) js_urls = [];\n",
       "\n",
       "    root._bokeh_onload_callbacks.push(callback);\n",
       "    if (root._bokeh_is_loading > 0) {\n",
       "      console.debug(\"Bokeh: BokehJS is being loaded, scheduling callback at\", now());\n",
       "      return null;\n",
       "    }\n",
       "    if (js_urls == null || js_urls.length === 0) {\n",
       "      run_callbacks();\n",
       "      return null;\n",
       "    }\n",
       "    console.debug(\"Bokeh: BokehJS not loaded, scheduling load and callback at\", now());\n",
       "    root._bokeh_is_loading = css_urls.length + js_urls.length;\n",
       "\n",
       "    function on_load() {\n",
       "      root._bokeh_is_loading--;\n",
       "      if (root._bokeh_is_loading === 0) {\n",
       "        console.debug(\"Bokeh: all BokehJS libraries/stylesheets loaded\");\n",
       "        run_callbacks()\n",
       "      }\n",
       "    }\n",
       "\n",
       "    function on_error() {\n",
       "      console.error(\"failed to load \" + url);\n",
       "    }\n",
       "\n",
       "    for (var i = 0; i < css_urls.length; i++) {\n",
       "      var url = css_urls[i];\n",
       "      const element = document.createElement(\"link\");\n",
       "      element.onload = on_load;\n",
       "      element.onerror = on_error;\n",
       "      element.rel = \"stylesheet\";\n",
       "      element.type = \"text/css\";\n",
       "      element.href = url;\n",
       "      console.debug(\"Bokeh: injecting link tag for BokehJS stylesheet: \", url);\n",
       "      document.body.appendChild(element);\n",
       "    }\n",
       "\n",
       "    for (var i = 0; i < js_urls.length; i++) {\n",
       "      var url = js_urls[i];\n",
       "      var element = document.createElement('script');\n",
       "      element.onload = on_load;\n",
       "      element.onerror = on_error;\n",
       "      element.async = false;\n",
       "      element.src = url;\n",
       "      console.debug(\"Bokeh: injecting script tag for BokehJS library: \", url);\n",
       "      document.head.appendChild(element);\n",
       "    }\n",
       "  };var element = document.getElementById(\"20597\");\n",
       "  if (element == null) {\n",
       "    console.error(\"Bokeh: ERROR: autoload.js configured with elementid '20597' but no matching script tag was found. \")\n",
       "    return false;\n",
       "  }\n",
       "\n",
       "  function inject_raw_css(css) {\n",
       "    const element = document.createElement(\"style\");\n",
       "    element.appendChild(document.createTextNode(css));\n",
       "    document.body.appendChild(element);\n",
       "  }\n",
       "\n",
       "  \n",
       "  var js_urls = [\"https://cdn.pydata.org/bokeh/release/bokeh-1.4.0.min.js\", \"https://cdn.pydata.org/bokeh/release/bokeh-widgets-1.4.0.min.js\", \"https://cdn.pydata.org/bokeh/release/bokeh-tables-1.4.0.min.js\", \"https://cdn.pydata.org/bokeh/release/bokeh-gl-1.4.0.min.js\"];\n",
       "  var css_urls = [];\n",
       "  \n",
       "\n",
       "  var inline_js = [\n",
       "    function(Bokeh) {\n",
       "      Bokeh.set_log_level(\"info\");\n",
       "    },\n",
       "    function(Bokeh) {\n",
       "    \n",
       "    \n",
       "    }\n",
       "  ];\n",
       "\n",
       "  function run_inline_js() {\n",
       "    \n",
       "    if (root.Bokeh !== undefined || force === true) {\n",
       "      \n",
       "    for (var i = 0; i < inline_js.length; i++) {\n",
       "      inline_js[i].call(root, root.Bokeh);\n",
       "    }\n",
       "    if (force === true) {\n",
       "        display_loaded();\n",
       "      }} else if (Date.now() < root._bokeh_timeout) {\n",
       "      setTimeout(run_inline_js, 100);\n",
       "    } else if (!root._bokeh_failed_load) {\n",
       "      console.log(\"Bokeh: BokehJS failed to load within specified timeout.\");\n",
       "      root._bokeh_failed_load = true;\n",
       "    } else if (force !== true) {\n",
       "      var cell = $(document.getElementById(\"20597\")).parents('.cell').data().cell;\n",
       "      cell.output_area.append_execute_result(NB_LOAD_WARNING)\n",
       "    }\n",
       "\n",
       "  }\n",
       "\n",
       "  if (root._bokeh_is_loading === 0) {\n",
       "    console.debug(\"Bokeh: BokehJS loaded, going straight to plotting\");\n",
       "    run_inline_js();\n",
       "  } else {\n",
       "    load_libs(css_urls, js_urls, function() {\n",
       "      console.debug(\"Bokeh: BokehJS plotting callback run at\", now());\n",
       "      run_inline_js();\n",
       "    });\n",
       "  }\n",
       "}(window));"
      ],
      "application/vnd.bokehjs_load.v0+json": "\n(function(root) {\n  function now() {\n    return new Date();\n  }\n\n  var force = true;\n\n  if (typeof root._bokeh_onload_callbacks === \"undefined\" || force === true) {\n    root._bokeh_onload_callbacks = [];\n    root._bokeh_is_loading = undefined;\n  }\n\n  \n\n  \n  if (typeof (root._bokeh_timeout) === \"undefined\" || force === true) {\n    root._bokeh_timeout = Date.now() + 5000;\n    root._bokeh_failed_load = false;\n  }\n\n  var NB_LOAD_WARNING = {'data': {'text/html':\n     \"<div style='background-color: #fdd'>\\n\"+\n     \"<p>\\n\"+\n     \"BokehJS does not appear to have successfully loaded. If loading BokehJS from CDN, this \\n\"+\n     \"may be due to a slow or bad network connection. Possible fixes:\\n\"+\n     \"</p>\\n\"+\n     \"<ul>\\n\"+\n     \"<li>re-rerun `output_notebook()` to attempt to load from CDN again, or</li>\\n\"+\n     \"<li>use INLINE resources instead, as so:</li>\\n\"+\n     \"</ul>\\n\"+\n     \"<code>\\n\"+\n     \"from bokeh.resources import INLINE\\n\"+\n     \"output_notebook(resources=INLINE)\\n\"+\n     \"</code>\\n\"+\n     \"</div>\"}};\n\n  function display_loaded() {\n    var el = document.getElementById(\"20597\");\n    if (el != null) {\n      el.textContent = \"BokehJS is loading...\";\n    }\n    if (root.Bokeh !== undefined) {\n      if (el != null) {\n        el.textContent = \"BokehJS \" + root.Bokeh.version + \" successfully loaded.\";\n      }\n    } else if (Date.now() < root._bokeh_timeout) {\n      setTimeout(display_loaded, 100)\n    }\n  }\n\n\n  function run_callbacks() {\n    try {\n      root._bokeh_onload_callbacks.forEach(function(callback) {\n        if (callback != null)\n          callback();\n      });\n    } finally {\n      delete root._bokeh_onload_callbacks\n    }\n    console.debug(\"Bokeh: all callbacks have finished\");\n  }\n\n  function load_libs(css_urls, js_urls, callback) {\n    if (css_urls == null) css_urls = [];\n    if (js_urls == null) js_urls = [];\n\n    root._bokeh_onload_callbacks.push(callback);\n    if (root._bokeh_is_loading > 0) {\n      console.debug(\"Bokeh: BokehJS is being loaded, scheduling callback at\", now());\n      return null;\n    }\n    if (js_urls == null || js_urls.length === 0) {\n      run_callbacks();\n      return null;\n    }\n    console.debug(\"Bokeh: BokehJS not loaded, scheduling load and callback at\", now());\n    root._bokeh_is_loading = css_urls.length + js_urls.length;\n\n    function on_load() {\n      root._bokeh_is_loading--;\n      if (root._bokeh_is_loading === 0) {\n        console.debug(\"Bokeh: all BokehJS libraries/stylesheets loaded\");\n        run_callbacks()\n      }\n    }\n\n    function on_error() {\n      console.error(\"failed to load \" + url);\n    }\n\n    for (var i = 0; i < css_urls.length; i++) {\n      var url = css_urls[i];\n      const element = document.createElement(\"link\");\n      element.onload = on_load;\n      element.onerror = on_error;\n      element.rel = \"stylesheet\";\n      element.type = \"text/css\";\n      element.href = url;\n      console.debug(\"Bokeh: injecting link tag for BokehJS stylesheet: \", url);\n      document.body.appendChild(element);\n    }\n\n    for (var i = 0; i < js_urls.length; i++) {\n      var url = js_urls[i];\n      var element = document.createElement('script');\n      element.onload = on_load;\n      element.onerror = on_error;\n      element.async = false;\n      element.src = url;\n      console.debug(\"Bokeh: injecting script tag for BokehJS library: \", url);\n      document.head.appendChild(element);\n    }\n  };var element = document.getElementById(\"20597\");\n  if (element == null) {\n    console.error(\"Bokeh: ERROR: autoload.js configured with elementid '20597' but no matching script tag was found. \")\n    return false;\n  }\n\n  function inject_raw_css(css) {\n    const element = document.createElement(\"style\");\n    element.appendChild(document.createTextNode(css));\n    document.body.appendChild(element);\n  }\n\n  \n  var js_urls = [\"https://cdn.pydata.org/bokeh/release/bokeh-1.4.0.min.js\", \"https://cdn.pydata.org/bokeh/release/bokeh-widgets-1.4.0.min.js\", \"https://cdn.pydata.org/bokeh/release/bokeh-tables-1.4.0.min.js\", \"https://cdn.pydata.org/bokeh/release/bokeh-gl-1.4.0.min.js\"];\n  var css_urls = [];\n  \n\n  var inline_js = [\n    function(Bokeh) {\n      Bokeh.set_log_level(\"info\");\n    },\n    function(Bokeh) {\n    \n    \n    }\n  ];\n\n  function run_inline_js() {\n    \n    if (root.Bokeh !== undefined || force === true) {\n      \n    for (var i = 0; i < inline_js.length; i++) {\n      inline_js[i].call(root, root.Bokeh);\n    }\n    if (force === true) {\n        display_loaded();\n      }} else if (Date.now() < root._bokeh_timeout) {\n      setTimeout(run_inline_js, 100);\n    } else if (!root._bokeh_failed_load) {\n      console.log(\"Bokeh: BokehJS failed to load within specified timeout.\");\n      root._bokeh_failed_load = true;\n    } else if (force !== true) {\n      var cell = $(document.getElementById(\"20597\")).parents('.cell').data().cell;\n      cell.output_area.append_execute_result(NB_LOAD_WARNING)\n    }\n\n  }\n\n  if (root._bokeh_is_loading === 0) {\n    console.debug(\"Bokeh: BokehJS loaded, going straight to plotting\");\n    run_inline_js();\n  } else {\n    load_libs(css_urls, js_urls, function() {\n      console.debug(\"Bokeh: BokehJS plotting callback run at\", now());\n      run_inline_js();\n    });\n  }\n}(window));"
     },
     "metadata": {},
     "output_type": "display_data"
    }
   ],
   "source": [
    "import pandas as pd  \n",
    "import numpy as np\n",
    "import matplotlib\n",
    "matplotlib.use('Agg')\n",
    "import matplotlib.pyplot as plt  \n",
    "import seaborn as seabornInstance \n",
    "from sklearn.model_selection import train_test_split \n",
    "from sklearn.linear_model import LinearRegression\n",
    "from sklearn.linear_model import RidgeCV\n",
    "from sklearn.preprocessing import PolynomialFeatures\n",
    "from sklearn import metrics\n",
    "from sklearn.metrics import r2_score\n",
    "%matplotlib inline\n",
    "import bokeh\n",
    "from bokeh.plotting import figure, output_file, show\n",
    "from bokeh.io import output_notebook\n",
    "from bokeh.io import push_notebook, show, output_notebook\n",
    "from bokeh.layouts import row \n",
    "from bokeh.plotting import figure\n",
    "\n",
    "output_notebook()"
   ]
  },
  {
   "cell_type": "markdown",
   "metadata": {},
   "source": [
    "## Step 1: Gather the data"
   ]
  },
  {
   "cell_type": "code",
   "execution_count": 148,
   "metadata": {},
   "outputs": [],
   "source": [
    "df = pd.read_csv(\"datasets_1256_2242_train.csv\")"
   ]
  },
  {
   "cell_type": "code",
   "execution_count": 149,
   "metadata": {},
   "outputs": [
    {
     "data": {
      "text/html": [
       "<div>\n",
       "<style scoped>\n",
       "    .dataframe tbody tr th:only-of-type {\n",
       "        vertical-align: middle;\n",
       "    }\n",
       "\n",
       "    .dataframe tbody tr th {\n",
       "        vertical-align: top;\n",
       "    }\n",
       "\n",
       "    .dataframe thead th {\n",
       "        text-align: right;\n",
       "    }\n",
       "</style>\n",
       "<table border=\"1\" class=\"dataframe\">\n",
       "  <thead>\n",
       "    <tr style=\"text-align: right;\">\n",
       "      <th></th>\n",
       "      <th>x</th>\n",
       "      <th>y</th>\n",
       "    </tr>\n",
       "  </thead>\n",
       "  <tbody>\n",
       "    <tr>\n",
       "      <th>0</th>\n",
       "      <td>24.0</td>\n",
       "      <td>21.549452</td>\n",
       "    </tr>\n",
       "    <tr>\n",
       "      <th>1</th>\n",
       "      <td>50.0</td>\n",
       "      <td>47.464463</td>\n",
       "    </tr>\n",
       "    <tr>\n",
       "      <th>2</th>\n",
       "      <td>15.0</td>\n",
       "      <td>17.218656</td>\n",
       "    </tr>\n",
       "    <tr>\n",
       "      <th>3</th>\n",
       "      <td>38.0</td>\n",
       "      <td>36.586398</td>\n",
       "    </tr>\n",
       "    <tr>\n",
       "      <th>4</th>\n",
       "      <td>87.0</td>\n",
       "      <td>87.288984</td>\n",
       "    </tr>\n",
       "  </tbody>\n",
       "</table>\n",
       "</div>"
      ],
      "text/plain": [
       "      x          y\n",
       "0  24.0  21.549452\n",
       "1  50.0  47.464463\n",
       "2  15.0  17.218656\n",
       "3  38.0  36.586398\n",
       "4  87.0  87.288984"
      ]
     },
     "execution_count": 149,
     "metadata": {},
     "output_type": "execute_result"
    }
   ],
   "source": [
    "df.head()"
   ]
  },
  {
   "cell_type": "markdown",
   "metadata": {},
   "source": [
    "## Step 2: Prepare the Data"
   ]
  },
  {
   "cell_type": "markdown",
   "metadata": {},
   "source": [
    "#### <font color=red> Checking for null values </font>"
   ]
  },
  {
   "cell_type": "code",
   "execution_count": 150,
   "metadata": {
    "scrolled": false
   },
   "outputs": [
    {
     "name": "stdout",
     "output_type": "stream",
     "text": [
      "<class 'pandas.core.frame.DataFrame'>\n",
      "RangeIndex: 700 entries, 0 to 699\n",
      "Data columns (total 2 columns):\n",
      " #   Column  Non-Null Count  Dtype  \n",
      "---  ------  --------------  -----  \n",
      " 0   x       700 non-null    float64\n",
      " 1   y       699 non-null    float64\n",
      "dtypes: float64(2)\n",
      "memory usage: 11.1 KB\n"
     ]
    }
   ],
   "source": [
    "df.info()"
   ]
  },
  {
   "cell_type": "markdown",
   "metadata": {},
   "source": [
    "#### As the number of x and y values are not equal there is one null value"
   ]
  },
  {
   "cell_type": "markdown",
   "metadata": {},
   "source": [
    "#### <font color=red> Removing Null Values </font>"
   ]
  },
  {
   "cell_type": "code",
   "execution_count": 151,
   "metadata": {},
   "outputs": [],
   "source": [
    "df.dropna(inplace = True)"
   ]
  },
  {
   "cell_type": "markdown",
   "metadata": {},
   "source": [
    "#### Rechecking for Null Values"
   ]
  },
  {
   "cell_type": "code",
   "execution_count": 152,
   "metadata": {},
   "outputs": [
    {
     "name": "stdout",
     "output_type": "stream",
     "text": [
      "<class 'pandas.core.frame.DataFrame'>\n",
      "Int64Index: 699 entries, 0 to 699\n",
      "Data columns (total 2 columns):\n",
      " #   Column  Non-Null Count  Dtype  \n",
      "---  ------  --------------  -----  \n",
      " 0   x       699 non-null    float64\n",
      " 1   y       699 non-null    float64\n",
      "dtypes: float64(2)\n",
      "memory usage: 16.4 KB\n"
     ]
    }
   ],
   "source": [
    "df.info()"
   ]
  },
  {
   "cell_type": "markdown",
   "metadata": {},
   "source": [
    "#### As the number of x and y values are  equal there is no null value"
   ]
  },
  {
   "cell_type": "markdown",
   "metadata": {},
   "source": [
    "#### <font color=red> Finding Co-relation between data </font>"
   ]
  },
  {
   "cell_type": "code",
   "execution_count": 153,
   "metadata": {},
   "outputs": [
    {
     "data": {
      "text/html": [
       "<div>\n",
       "<style scoped>\n",
       "    .dataframe tbody tr th:only-of-type {\n",
       "        vertical-align: middle;\n",
       "    }\n",
       "\n",
       "    .dataframe tbody tr th {\n",
       "        vertical-align: top;\n",
       "    }\n",
       "\n",
       "    .dataframe thead th {\n",
       "        text-align: right;\n",
       "    }\n",
       "</style>\n",
       "<table border=\"1\" class=\"dataframe\">\n",
       "  <thead>\n",
       "    <tr style=\"text-align: right;\">\n",
       "      <th></th>\n",
       "      <th>x</th>\n",
       "      <th>y</th>\n",
       "    </tr>\n",
       "  </thead>\n",
       "  <tbody>\n",
       "    <tr>\n",
       "      <th>x</th>\n",
       "      <td>1.00000</td>\n",
       "      <td>0.99534</td>\n",
       "    </tr>\n",
       "    <tr>\n",
       "      <th>y</th>\n",
       "      <td>0.99534</td>\n",
       "      <td>1.00000</td>\n",
       "    </tr>\n",
       "  </tbody>\n",
       "</table>\n",
       "</div>"
      ],
      "text/plain": [
       "         x        y\n",
       "x  1.00000  0.99534\n",
       "y  0.99534  1.00000"
      ]
     },
     "execution_count": 153,
     "metadata": {},
     "output_type": "execute_result"
    }
   ],
   "source": [
    "df.corr()"
   ]
  },
  {
   "cell_type": "markdown",
   "metadata": {},
   "source": [
    "#### As x vs y is 0.99 the data is varying linearly"
   ]
  },
  {
   "cell_type": "markdown",
   "metadata": {},
   "source": [
    "#### Reshaping the data"
   ]
  },
  {
   "cell_type": "code",
   "execution_count": 154,
   "metadata": {},
   "outputs": [],
   "source": [
    "X = df['x'].values.reshape(-1,1)\n",
    "Y = df['y'].values.reshape(-1,1)"
   ]
  },
  {
   "cell_type": "markdown",
   "metadata": {},
   "source": [
    "#### <font color=red> Plotting the data </font>"
   ]
  },
  {
   "cell_type": "code",
   "execution_count": 155,
   "metadata": {},
   "outputs": [
    {
     "data": {
      "text/html": [
       "\n",
       "\n",
       "\n",
       "\n",
       "\n",
       "\n",
       "  <div class=\"bk-root\" id=\"bfc54b3f-2a33-4bbb-8e04-01dbf30c9670\" data-root-id=\"20598\"></div>\n"
      ]
     },
     "metadata": {},
     "output_type": "display_data"
    },
    {
     "data": {
      "application/javascript": [
       "(function(root) {\n",
       "  function embed_document(root) {\n",
       "    \n",
       "  var docs_json = {\"a1422734-f6d3-4872-9d7c-fecfc2c9aad0\":{\"roots\":{\"references\":[{\"attributes\":{\"below\":[{\"id\":\"20607\",\"type\":\"LinearAxis\"}],\"center\":[{\"id\":\"20611\",\"type\":\"Grid\"},{\"id\":\"20616\",\"type\":\"Grid\"}],\"left\":[{\"id\":\"20612\",\"type\":\"LinearAxis\"}],\"renderers\":[{\"id\":\"20633\",\"type\":\"GlyphRenderer\"}],\"title\":{\"id\":\"21154\",\"type\":\"Title\"},\"toolbar\":{\"id\":\"20623\",\"type\":\"Toolbar\"},\"x_range\":{\"id\":\"20599\",\"type\":\"DataRange1d\"},\"x_scale\":{\"id\":\"20603\",\"type\":\"LinearScale\"},\"y_range\":{\"id\":\"20601\",\"type\":\"DataRange1d\"},\"y_scale\":{\"id\":\"20605\",\"type\":\"LinearScale\"}},\"id\":\"20598\",\"subtype\":\"Figure\",\"type\":\"Plot\"},{\"attributes\":{\"active_drag\":\"auto\",\"active_inspect\":\"auto\",\"active_multi\":null,\"active_scroll\":\"auto\",\"active_tap\":\"auto\",\"tools\":[{\"id\":\"20617\",\"type\":\"PanTool\"},{\"id\":\"20618\",\"type\":\"WheelZoomTool\"},{\"id\":\"20619\",\"type\":\"BoxZoomTool\"},{\"id\":\"20620\",\"type\":\"SaveTool\"},{\"id\":\"20621\",\"type\":\"ResetTool\"},{\"id\":\"20622\",\"type\":\"HelpTool\"}]},\"id\":\"20623\",\"type\":\"Toolbar\"},{\"attributes\":{\"callback\":null,\"data\":{\"x\":{\"__ndarray__\":\"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\",\"dtype\":\"float64\",\"shape\":[699]},\"y\":{\"__ndarray__\":\"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\",\"dtype\":\"float64\",\"shape\":[699]}},\"selected\":{\"id\":\"21160\",\"type\":\"Selection\"},\"selection_policy\":{\"id\":\"21161\",\"type\":\"UnionRenderers\"}},\"id\":\"20630\",\"type\":\"ColumnDataSource\"},{\"attributes\":{},\"id\":\"21160\",\"type\":\"Selection\"},{\"attributes\":{\"bottom_units\":\"screen\",\"fill_alpha\":{\"value\":0.5},\"fill_color\":{\"value\":\"lightgrey\"},\"left_units\":\"screen\",\"level\":\"overlay\",\"line_alpha\":{\"value\":1.0},\"line_color\":{\"value\":\"black\"},\"line_dash\":[4,4],\"line_width\":{\"value\":2},\"render_mode\":\"css\",\"right_units\":\"screen\",\"top_units\":\"screen\"},\"id\":\"21159\",\"type\":\"BoxAnnotation\"},{\"attributes\":{\"dimension\":1,\"ticker\":{\"id\":\"20613\",\"type\":\"BasicTicker\"}},\"id\":\"20616\",\"type\":\"Grid\"},{\"attributes\":{},\"id\":\"20622\",\"type\":\"HelpTool\"},{\"attributes\":{\"formatter\":{\"id\":\"21158\",\"type\":\"BasicTickFormatter\"},\"ticker\":{\"id\":\"20608\",\"type\":\"BasicTicker\"}},\"id\":\"20607\",\"type\":\"LinearAxis\"},{\"attributes\":{},\"id\":\"20621\",\"type\":\"ResetTool\"},{\"attributes\":{},\"id\":\"21158\",\"type\":\"BasicTickFormatter\"},{\"attributes\":{},\"id\":\"20613\",\"type\":\"BasicTicker\"},{\"attributes\":{\"fill_alpha\":{\"value\":0.2},\"fill_color\":{\"value\":\"red\"},\"line_color\":{\"value\":\"red\"},\"size\":{\"units\":\"screen\",\"value\":5},\"x\":{\"field\":\"x\"},\"y\":{\"field\":\"y\"}},\"id\":\"20631\",\"type\":\"Cross\"},{\"attributes\":{\"formatter\":{\"id\":\"21156\",\"type\":\"BasicTickFormatter\"},\"ticker\":{\"id\":\"20613\",\"type\":\"BasicTicker\"}},\"id\":\"20612\",\"type\":\"LinearAxis\"},{\"attributes\":{\"callback\":null},\"id\":\"20599\",\"type\":\"DataRange1d\"},{\"attributes\":{\"callback\":null},\"id\":\"20601\",\"type\":\"DataRange1d\"},{\"attributes\":{},\"id\":\"20608\",\"type\":\"BasicTicker\"},{\"attributes\":{\"text\":\"\"},\"id\":\"21154\",\"type\":\"Title\"},{\"attributes\":{\"overlay\":{\"id\":\"21159\",\"type\":\"BoxAnnotation\"}},\"id\":\"20619\",\"type\":\"BoxZoomTool\"},{\"attributes\":{},\"id\":\"20605\",\"type\":\"LinearScale\"},{\"attributes\":{\"ticker\":{\"id\":\"20608\",\"type\":\"BasicTicker\"}},\"id\":\"20611\",\"type\":\"Grid\"},{\"attributes\":{},\"id\":\"21161\",\"type\":\"UnionRenderers\"},{\"attributes\":{},\"id\":\"20603\",\"type\":\"LinearScale\"},{\"attributes\":{},\"id\":\"20618\",\"type\":\"WheelZoomTool\"},{\"attributes\":{},\"id\":\"21156\",\"type\":\"BasicTickFormatter\"},{\"attributes\":{},\"id\":\"20620\",\"type\":\"SaveTool\"},{\"attributes\":{\"source\":{\"id\":\"20630\",\"type\":\"ColumnDataSource\"}},\"id\":\"20634\",\"type\":\"CDSView\"},{\"attributes\":{\"fill_alpha\":{\"value\":0.1},\"fill_color\":{\"value\":\"#1f77b4\"},\"line_alpha\":{\"value\":0.1},\"line_color\":{\"value\":\"#1f77b4\"},\"size\":{\"units\":\"screen\",\"value\":5},\"x\":{\"field\":\"x\"},\"y\":{\"field\":\"y\"}},\"id\":\"20632\",\"type\":\"Cross\"},{\"attributes\":{\"data_source\":{\"id\":\"20630\",\"type\":\"ColumnDataSource\"},\"glyph\":{\"id\":\"20631\",\"type\":\"Cross\"},\"hover_glyph\":null,\"muted_glyph\":null,\"nonselection_glyph\":{\"id\":\"20632\",\"type\":\"Cross\"},\"selection_glyph\":null,\"view\":{\"id\":\"20634\",\"type\":\"CDSView\"}},\"id\":\"20633\",\"type\":\"GlyphRenderer\"},{\"attributes\":{},\"id\":\"20617\",\"type\":\"PanTool\"}],\"root_ids\":[\"20598\"]},\"title\":\"Bokeh Application\",\"version\":\"1.4.0\"}};\n",
       "  var render_items = [{\"docid\":\"a1422734-f6d3-4872-9d7c-fecfc2c9aad0\",\"roots\":{\"20598\":\"bfc54b3f-2a33-4bbb-8e04-01dbf30c9670\"}}];\n",
       "  root.Bokeh.embed.embed_items_notebook(docs_json, render_items);\n",
       "\n",
       "  }\n",
       "  if (root.Bokeh !== undefined) {\n",
       "    embed_document(root);\n",
       "  } else {\n",
       "    var attempts = 0;\n",
       "    var timer = setInterval(function(root) {\n",
       "      if (root.Bokeh !== undefined) {\n",
       "        clearInterval(timer);\n",
       "        embed_document(root);\n",
       "      } else {\n",
       "        attempts++;\n",
       "        if (attempts > 100) {\n",
       "          clearInterval(timer);\n",
       "          console.log(\"Bokeh: ERROR: Unable to run BokehJS code because BokehJS library is missing\");\n",
       "        }\n",
       "      }\n",
       "    }, 10, root)\n",
       "  }\n",
       "})(window);"
      ],
      "application/vnd.bokehjs_exec.v0+json": ""
     },
     "metadata": {
      "application/vnd.bokehjs_exec.v0+json": {
       "id": "20598"
      }
     },
     "output_type": "display_data"
    }
   ],
   "source": [
    "p = figure()\n",
    "p.cross(X.flatten(),Y.flatten(),color=\"red\",fill_alpha=0.2, size=5)\n",
    "show(p)"
   ]
  },
  {
   "cell_type": "markdown",
   "metadata": {},
   "source": [
    "#### <font color=red>Splitting the data in train and test dataset </font> "
   ]
  },
  {
   "cell_type": "code",
   "execution_count": 156,
   "metadata": {},
   "outputs": [],
   "source": [
    "X_train, X_test, Y_train, Y_test = train_test_split(X, Y, test_size=0.2, random_state=0)"
   ]
  },
  {
   "cell_type": "markdown",
   "metadata": {},
   "source": [
    "## Step 3: Selecting Model - Linear Regression"
   ]
  },
  {
   "cell_type": "code",
   "execution_count": 157,
   "metadata": {},
   "outputs": [],
   "source": [
    "regressor = LinearRegression()  "
   ]
  },
  {
   "cell_type": "markdown",
   "metadata": {},
   "source": [
    "## Step 3.1: Training the Model"
   ]
  },
  {
   "cell_type": "code",
   "execution_count": 158,
   "metadata": {},
   "outputs": [
    {
     "data": {
      "text/plain": [
       "LinearRegression(copy_X=True, fit_intercept=True, n_jobs=None, normalize=False)"
      ]
     },
     "execution_count": 158,
     "metadata": {},
     "output_type": "execute_result"
    }
   ],
   "source": [
    "regressor.fit(X_train, Y_train)"
   ]
  },
  {
   "cell_type": "code",
   "execution_count": 159,
   "metadata": {},
   "outputs": [
    {
     "name": "stdout",
     "output_type": "stream",
     "text": [
      "[0.0283478]\n"
     ]
    }
   ],
   "source": [
    "#To retrieve the intercept:\n",
    "print(regressor.intercept_)"
   ]
  },
  {
   "cell_type": "code",
   "execution_count": 160,
   "metadata": {
    "scrolled": false
   },
   "outputs": [
    {
     "name": "stdout",
     "output_type": "stream",
     "text": [
      "[[0.99831656]]\n"
     ]
    }
   ],
   "source": [
    "print(regressor.coef_)"
   ]
  },
  {
   "cell_type": "markdown",
   "metadata": {},
   "source": [
    "## Step 3.2: Evaluate the Model"
   ]
  },
  {
   "cell_type": "code",
   "execution_count": 161,
   "metadata": {
    "scrolled": true
   },
   "outputs": [
    {
     "data": {
      "text/plain": [
       "0.9916592070219102"
      ]
     },
     "execution_count": 161,
     "metadata": {},
     "output_type": "execute_result"
    }
   ],
   "source": [
    "regressor.score(X_test,Y_test)"
   ]
  },
  {
   "cell_type": "code",
   "execution_count": 162,
   "metadata": {
    "scrolled": true
   },
   "outputs": [
    {
     "name": "stdout",
     "output_type": "stream",
     "text": [
      "Mean Absolute Error: 2.2074272654412033\n",
      "Mean Squared Error: 7.551490700376495\n",
      "Root Mean Squared Error: 2.747997580125662\n"
     ]
    }
   ],
   "source": [
    "print('Mean Absolute Error:', metrics.mean_absolute_error(Y_test, regressor.predict(X_test)))  \n",
    "print('Mean Squared Error:', metrics.mean_squared_error(Y_test, regressor.predict(X_test)))  \n",
    "print('Root Mean Squared Error:', np.sqrt(metrics.mean_squared_error(Y_test, regressor.predict(X_test))))"
   ]
  },
  {
   "cell_type": "markdown",
   "metadata": {},
   "source": [
    "## Step 3.3: Get predictions"
   ]
  },
  {
   "cell_type": "code",
   "execution_count": 163,
   "metadata": {},
   "outputs": [
    {
     "data": {
      "text/html": [
       "<div>\n",
       "<style scoped>\n",
       "    .dataframe tbody tr th:only-of-type {\n",
       "        vertical-align: middle;\n",
       "    }\n",
       "\n",
       "    .dataframe tbody tr th {\n",
       "        vertical-align: top;\n",
       "    }\n",
       "\n",
       "    .dataframe thead th {\n",
       "        text-align: right;\n",
       "    }\n",
       "</style>\n",
       "<table border=\"1\" class=\"dataframe\">\n",
       "  <thead>\n",
       "    <tr style=\"text-align: right;\">\n",
       "      <th></th>\n",
       "      <th>Actual</th>\n",
       "      <th>Predicted</th>\n",
       "    </tr>\n",
       "  </thead>\n",
       "  <tbody>\n",
       "    <tr>\n",
       "      <th>0</th>\n",
       "      <td>29.667360</td>\n",
       "      <td>28.979528</td>\n",
       "    </tr>\n",
       "    <tr>\n",
       "      <th>1</th>\n",
       "      <td>56.687188</td>\n",
       "      <td>57.930708</td>\n",
       "    </tr>\n",
       "    <tr>\n",
       "      <th>2</th>\n",
       "      <td>85.027790</td>\n",
       "      <td>83.886939</td>\n",
       "    </tr>\n",
       "    <tr>\n",
       "      <th>3</th>\n",
       "      <td>73.138500</td>\n",
       "      <td>75.900406</td>\n",
       "    </tr>\n",
       "    <tr>\n",
       "      <th>4</th>\n",
       "      <td>48.437538</td>\n",
       "      <td>53.937442</td>\n",
       "    </tr>\n",
       "    <tr>\n",
       "      <th>...</th>\n",
       "      <td>...</td>\n",
       "      <td>...</td>\n",
       "    </tr>\n",
       "    <tr>\n",
       "      <th>135</th>\n",
       "      <td>14.002263</td>\n",
       "      <td>16.001413</td>\n",
       "    </tr>\n",
       "    <tr>\n",
       "      <th>136</th>\n",
       "      <td>94.151492</td>\n",
       "      <td>96.865054</td>\n",
       "    </tr>\n",
       "    <tr>\n",
       "      <th>137</th>\n",
       "      <td>40.831821</td>\n",
       "      <td>42.955960</td>\n",
       "    </tr>\n",
       "    <tr>\n",
       "      <th>138</th>\n",
       "      <td>19.471008</td>\n",
       "      <td>18.996362</td>\n",
       "    </tr>\n",
       "    <tr>\n",
       "      <th>139</th>\n",
       "      <td>17.609462</td>\n",
       "      <td>18.996362</td>\n",
       "    </tr>\n",
       "  </tbody>\n",
       "</table>\n",
       "<p>140 rows × 2 columns</p>\n",
       "</div>"
      ],
      "text/plain": [
       "        Actual  Predicted\n",
       "0    29.667360  28.979528\n",
       "1    56.687188  57.930708\n",
       "2    85.027790  83.886939\n",
       "3    73.138500  75.900406\n",
       "4    48.437538  53.937442\n",
       "..         ...        ...\n",
       "135  14.002263  16.001413\n",
       "136  94.151492  96.865054\n",
       "137  40.831821  42.955960\n",
       "138  19.471008  18.996362\n",
       "139  17.609462  18.996362\n",
       "\n",
       "[140 rows x 2 columns]"
      ]
     },
     "execution_count": 163,
     "metadata": {},
     "output_type": "execute_result"
    }
   ],
   "source": [
    "Y_pred = regressor.predict(X_test)\n",
    "df1 = pd.DataFrame({'Actual': Y_test.flatten(), 'Predicted': Y_pred.flatten()})\n",
    "df1"
   ]
  },
  {
   "cell_type": "code",
   "execution_count": 164,
   "metadata": {},
   "outputs": [
    {
     "data": {
      "text/html": [
       "\n",
       "\n",
       "\n",
       "\n",
       "\n",
       "\n",
       "  <div class=\"bk-root\" id=\"c0e47aab-7290-4545-b336-878b2edc1725\" data-root-id=\"21216\"></div>\n"
      ]
     },
     "metadata": {},
     "output_type": "display_data"
    },
    {
     "data": {
      "application/javascript": [
       "(function(root) {\n",
       "  function embed_document(root) {\n",
       "    \n",
       "  var docs_json = {\"7012633d-045b-4aa9-8844-06f3d79ccae9\":{\"roots\":{\"references\":[{\"attributes\":{\"below\":[{\"id\":\"21227\",\"type\":\"LinearAxis\"}],\"center\":[{\"id\":\"21231\",\"type\":\"Grid\"},{\"id\":\"21236\",\"type\":\"Grid\"},{\"id\":\"21261\",\"type\":\"Legend\"}],\"left\":[{\"id\":\"21232\",\"type\":\"LinearAxis\"}],\"plot_width\":900,\"renderers\":[{\"id\":\"21253\",\"type\":\"GlyphRenderer\"},{\"id\":\"21266\",\"type\":\"GlyphRenderer\"}],\"title\":{\"id\":\"21217\",\"type\":\"Title\"},\"toolbar\":{\"id\":\"21243\",\"type\":\"Toolbar\"},\"x_range\":{\"id\":\"21219\",\"type\":\"DataRange1d\"},\"x_scale\":{\"id\":\"21223\",\"type\":\"LinearScale\"},\"y_range\":{\"id\":\"21221\",\"type\":\"DataRange1d\"},\"y_scale\":{\"id\":\"21225\",\"type\":\"LinearScale\"}},\"id\":\"21216\",\"subtype\":\"Figure\",\"type\":\"Plot\"},{\"attributes\":{\"active_drag\":\"auto\",\"active_inspect\":\"auto\",\"active_multi\":null,\"active_scroll\":\"auto\",\"active_tap\":\"auto\",\"tools\":[{\"id\":\"21237\",\"type\":\"PanTool\"},{\"id\":\"21238\",\"type\":\"WheelZoomTool\"},{\"id\":\"21239\",\"type\":\"BoxZoomTool\"},{\"id\":\"21240\",\"type\":\"SaveTool\"},{\"id\":\"21241\",\"type\":\"ResetTool\"},{\"id\":\"21242\",\"type\":\"HelpTool\"}]},\"id\":\"21243\",\"type\":\"Toolbar\"},{\"attributes\":{},\"id\":\"21237\",\"type\":\"PanTool\"},{\"attributes\":{},\"id\":\"21225\",\"type\":\"LinearScale\"},{\"attributes\":{\"line_alpha\":0.1,\"line_color\":\"#1f77b4\",\"line_width\":1.5,\"x\":{\"field\":\"x\"},\"y\":{\"field\":\"y\"}},\"id\":\"21265\",\"type\":\"Line\"},{\"attributes\":{\"line_color\":\"brown\",\"line_width\":1.5,\"x\":{\"field\":\"x\"},\"y\":{\"field\":\"y\"}},\"id\":\"21264\",\"type\":\"Line\"},{\"attributes\":{\"data_source\":{\"id\":\"21263\",\"type\":\"ColumnDataSource\"},\"glyph\":{\"id\":\"21264\",\"type\":\"Line\"},\"hover_glyph\":null,\"muted_glyph\":null,\"nonselection_glyph\":{\"id\":\"21265\",\"type\":\"Line\"},\"selection_glyph\":null,\"view\":{\"id\":\"21267\",\"type\":\"CDSView\"}},\"id\":\"21266\",\"type\":\"GlyphRenderer\"},{\"attributes\":{\"grid_line_alpha\":0.3,\"ticker\":{\"id\":\"21228\",\"type\":\"BasicTicker\"}},\"id\":\"21231\",\"type\":\"Grid\"},{\"attributes\":{\"text\":\"Actual vs Predicted\"},\"id\":\"21217\",\"type\":\"Title\"},{\"attributes\":{\"callback\":null,\"data\":{\"x\":[0,1,2,3,4,5,6,7,8,9,10,11,12,13,14,15,16,17,18,19,20,21,22,23,24,25,26,27,28,29,30,31,32,33,34,35,36,37,38,39,40,41,42,43,44,45,46,47,48,49,50,51,52,53,54,55,56,57,58,59,60,61,62,63,64,65,66,67,68,69,70,71,72,73,74,75,76,77,78,79,80,81,82,83,84,85,86,87,88,89,90,91,92,93,94,95,96,97,98,99,100,101,102,103,104,105,106,107,108,109,110,111,112,113,114,115,116,117,118,119,120,121,122,123,124,125,126,127,128,129,130,131,132,133,134,135,136,137,138,139],\"y\":{\"__ndarray__\":\"8p0HWsL6PED2qXdzIfdMQAvWhZvD+FRAkF9bQqD5UkB7M00a/vdKQJ9abZejeElAYyWQd0F3WED8sLKne/w4QD34t21s+ElAhUb4Z7f5RkAowbzTlQEuQFMkxpUO+lFAg9WgKiq6UUAx1GchTwMqQPywsqd7/DhAcSCizET2TkBJERtIVfhVQPU4IDaUt1dAdkvmErR6UEDTglf2e3ZOQLSGe79FelFA9ql3cyH3TEBWm9VfyzdXQO+7WN+ne0JALfftizl7Q0CGzfyWti8IQAC9IsHa+EhAsEAosGgUFECqc9BxjHhVQAC9IsHa+EhA77tY36d7QkBD//Khxv01QMKBjRRJ+UdAazKDOMt6REDBEDbXu7lSQCJz6wDzOVJA04JX9nt2TkA05Qwgs/ZNQOQ3VlRhOlFABcRd9TT+NEAic+sA8zlSQMiIyEij/jNAqnPQcYx4VUCKTTOcEf8yQAnQzQ6U+kRAAsPaTQr3WEAT43hcTfxAQMqDk2OeByBAQ//yocb9NUD8sLKne/w4QNskqwaoOFVAVpvVX8s3V0CBOohOWP02QKpz0HGMeFVAbRQys+X5PkAydLXiJbdYQPKdB1rC+jxA9TggNpS3V0D8sLKne/w4QGEf2OoReUhAMdRnIU8DKkCfWm2Xo3hJQO+7WN+ne0JAwHDoFeUFJEDbJKsGqDhVQJ3pFVoWOVRAVpvVX8s3V0Av/aUYaXlTQDnsR1QN/DlAyoOTY54HIEA75xJvCAUmQNKbc5ZcADBAtl09yCsEKEAL1oWbw/hUQJ3pFVoWOVRAlNZqDF03WEAw2ZwGVPo9QDyHYDDfuFRAGGBAszk4VkAa0ZfwxndLQCPkQj6AeUdARpoLfpi6UEBJERtIVfhVQIPVoCoqulFAEL7sog12T0DSm3OWXAAwQJ0a0hT2EBxA9ql3cyH3TEBrMoM4y3pEQK1KknpyAixAzprw7jH5U0DclQJENXhKQNOCV/Z7dk5A0ptzllwAMECdGtIU9hAcQCPkQj6AeUdAik0znBH/MkC5buLGj/dLQDnsR1QN/DlA8p0HWsL6PEAFxF31NP40QFab1V/LN1dAnRrSFPYQHECKTTOcEf8yQLBAKLBoFBRAYyWQd0F3WED2qXdzIfdMQDyHYDDfuFRAqnPQcYx4VUD2qXdzIfdMQGCugK2EOVNAwRA217u5UkBF+r28wQYiQPywsqd7/DhAJer6yq93V0A9+LdtbPhJQHZL5hK0elBA8p0HWsL6PEDormUeHnhWQLf9iokCuFZAGGBAszk4VkA57EdUDfw5QCJz6wDzOVJA8p0HWsL6PEAQvuyiDXZPQMSHRaF491dARfq9vMEGIkB0RS6GhHxAQDJ0teIlt1hAAL0iwdr4SEB3J90An/s6QCJz6wDzOVJAJer6yq93V0AydLXiJbdYQEkRG0hV+FVA0ptzllwAMECU1moMXTdYQKhtGOVcekVAik0znBH/MkCKTTOcEf8yQA==\",\"dtype\":\"float64\",\"shape\":[140]}},\"selected\":{\"id\":\"21812\",\"type\":\"Selection\"},\"selection_policy\":{\"id\":\"21813\",\"type\":\"UnionRenderers\"}},\"id\":\"21263\",\"type\":\"ColumnDataSource\"},{\"attributes\":{\"items\":[{\"id\":\"21262\",\"type\":\"LegendItem\"},{\"id\":\"21276\",\"type\":\"LegendItem\"}]},\"id\":\"21261\",\"type\":\"Legend\"},{\"attributes\":{},\"id\":\"21813\",\"type\":\"UnionRenderers\"},{\"attributes\":{},\"id\":\"21233\",\"type\":\"BasicTicker\"},{\"attributes\":{},\"id\":\"21238\",\"type\":\"WheelZoomTool\"},{\"attributes\":{},\"id\":\"21259\",\"type\":\"BasicTickFormatter\"},{\"attributes\":{\"source\":{\"id\":\"21263\",\"type\":\"ColumnDataSource\"}},\"id\":\"21267\",\"type\":\"CDSView\"},{\"attributes\":{},\"id\":\"21274\",\"type\":\"Selection\"},{\"attributes\":{\"data_source\":{\"id\":\"21250\",\"type\":\"ColumnDataSource\"},\"glyph\":{\"id\":\"21251\",\"type\":\"Line\"},\"hover_glyph\":null,\"muted_glyph\":null,\"nonselection_glyph\":{\"id\":\"21252\",\"type\":\"Line\"},\"selection_glyph\":null,\"view\":{\"id\":\"21254\",\"type\":\"CDSView\"}},\"id\":\"21253\",\"type\":\"GlyphRenderer\"},{\"attributes\":{\"overlay\":{\"id\":\"21260\",\"type\":\"BoxAnnotation\"}},\"id\":\"21239\",\"type\":\"BoxZoomTool\"},{\"attributes\":{\"line_alpha\":0.1,\"line_color\":\"#1f77b4\",\"line_width\":2,\"x\":{\"field\":\"x\"},\"y\":{\"field\":\"y\"}},\"id\":\"21252\",\"type\":\"Line\"},{\"attributes\":{\"callback\":null},\"id\":\"21219\",\"type\":\"DataRange1d\"},{\"attributes\":{},\"id\":\"21240\",\"type\":\"SaveTool\"},{\"attributes\":{\"bottom_units\":\"screen\",\"fill_alpha\":{\"value\":0.5},\"fill_color\":{\"value\":\"lightgrey\"},\"left_units\":\"screen\",\"level\":\"overlay\",\"line_alpha\":{\"value\":1.0},\"line_color\":{\"value\":\"black\"},\"line_dash\":[4,4],\"line_width\":{\"value\":2},\"render_mode\":\"css\",\"right_units\":\"screen\",\"top_units\":\"screen\"},\"id\":\"21260\",\"type\":\"BoxAnnotation\"},{\"attributes\":{\"callback\":null},\"id\":\"21221\",\"type\":\"DataRange1d\"},{\"attributes\":{},\"id\":\"21242\",\"type\":\"HelpTool\"},{\"attributes\":{\"source\":{\"id\":\"21250\",\"type\":\"ColumnDataSource\"}},\"id\":\"21254\",\"type\":\"CDSView\"},{\"attributes\":{\"axis_label\":\"values\",\"formatter\":{\"id\":\"21257\",\"type\":\"BasicTickFormatter\"},\"ticker\":{\"id\":\"21233\",\"type\":\"BasicTicker\"}},\"id\":\"21232\",\"type\":\"LinearAxis\"},{\"attributes\":{},\"id\":\"21257\",\"type\":\"BasicTickFormatter\"},{\"attributes\":{},\"id\":\"21241\",\"type\":\"ResetTool\"},{\"attributes\":{},\"id\":\"21275\",\"type\":\"UnionRenderers\"},{\"attributes\":{\"label\":{\"value\":\"predicted value\"},\"renderers\":[{\"id\":\"21266\",\"type\":\"GlyphRenderer\"}]},\"id\":\"21276\",\"type\":\"LegendItem\"},{\"attributes\":{},\"id\":\"21812\",\"type\":\"Selection\"},{\"attributes\":{\"line_color\":\"yellow\",\"line_width\":2,\"x\":{\"field\":\"x\"},\"y\":{\"field\":\"y\"}},\"id\":\"21251\",\"type\":\"Line\"},{\"attributes\":{\"label\":{\"value\":\"target variable\"},\"renderers\":[{\"id\":\"21253\",\"type\":\"GlyphRenderer\"}]},\"id\":\"21262\",\"type\":\"LegendItem\"},{\"attributes\":{\"axis_label\":\"features\",\"formatter\":{\"id\":\"21259\",\"type\":\"BasicTickFormatter\"},\"ticker\":{\"id\":\"21228\",\"type\":\"BasicTicker\"}},\"id\":\"21227\",\"type\":\"LinearAxis\"},{\"attributes\":{},\"id\":\"21223\",\"type\":\"LinearScale\"},{\"attributes\":{},\"id\":\"21228\",\"type\":\"BasicTicker\"},{\"attributes\":{\"callback\":null,\"data\":{\"x\":[0,1,2,3,4,5,6,7,8,9,10,11,12,13,14,15,16,17,18,19,20,21,22,23,24,25,26,27,28,29,30,31,32,33,34,35,36,37,38,39,40,41,42,43,44,45,46,47,48,49,50,51,52,53,54,55,56,57,58,59,60,61,62,63,64,65,66,67,68,69,70,71,72,73,74,75,76,77,78,79,80,81,82,83,84,85,86,87,88,89,90,91,92,93,94,95,96,97,98,99,100,101,102,103,104,105,106,107,108,109,110,111,112,113,114,115,116,117,118,119,120,121,122,123,124,125,126,127,128,129,130,131,132,133,134,135,136,137,138,139],\"y\":{\"__ndarray__\":\"bSkxGdiqPUCaTRXG9VdMQHmU503HQVVAzc79MN1IUkAjbPRBAThIQMYMOykfokpATNR/lCAmV0AXO47dDf41QCml0hUN2klApjBrOYKARkAE1dTsYMInQFTuFUjW01FAEa2yQpOXUUBH2EM9dTsqQJLpjs2nnzZA5kUeb48LTUAFLMH7jR5WQEhS0sMQDFhAIPmcHgjTT0C3cM3bYIJOQEYBy9+3bVJA6nbVh57OS0APzHYqxQBXQNhus1+U8URAmEHG7eEmQ0CEN8Kn22/6P/S+de6LfEhAibKWhgpxF0BHLLUgDNJUQKf5dIZzu0dARCsgguTYQkD9azfJqAM1QLu5dKP6Y0dA6AEDczo7RkBHr8QL+/1SQNKN0bbxbVFALgZqjLExTkCKeMru8n5MQDAULOVn0FFANvhODpcDL0Avk3bdutNRQNn8bKKeVzhAW9RhZA2SVUBMwZ6fd1gxQD/xUqAFo0VAu4jGRTvAWECORz7pI30+QMmfQooOlh9A6VTocjl2MUCyYW5zOlo7QBA+Ukw3rFRAtI2ie1SjV0CYQaXf+AUzQEBEMC+8NlZASphI7W4LPUAL/5a+H75XQMDJeIzZpzpAFy1A22ovWUAs2W/1tZw4QPcx7h9uQEpABTs4t41PKUB4xzGrWnhKQB3i5QrrS0FAV5Xq8zJ2IkBKc/HYC4xVQB20kcpYdVNAbOpdOOeoV0ADEG+EophTQOGj1ftTZzpAsCBJIJCBLUABCDTl/rcgQBgA0zejeSZAEtoh58U5G0DeLNKCX2FVQPAmjQsmXVRAFpPMJEmhWEAcB387YD4/QEV5zUhQk1VAN1QIu1NhVUDbuM1tpTNLQAHWkcDyZUhAnXmDedlAUECAykKFtANWQHli7yhCyVJAXCoErDTWT0DTdbiItQgxQB0w8UKYTRBAzokcpqYjTkAB2nfBN6dAQMM52bxgQChAzikza8pIU0Cr+BJsVI5MQDV/Ck+BGU5A82hX38gqMEAWa8qr+fsXQGl35QaFzUpAK1+GteciNkAXIQIvL59NQBlJDhryHTpAPW1De6tVOkAEwB1Nmos2QP+OLIkBqFdAX9Jp9KLWHUC9KVkMJqk2QB8FeKCIZBBA7abvkL2fWUAmzThwe2ZPQDUw6kEezlVA/G/jHqQkVkC+00spO0ZLQN/aT+fGh1JAfIH2dk3fUkCn6gKELecUQLKSAzQZMEBAnj1+DCkMWEDAHY+2/XlKQNhJXEtxk09AveinD4+nO0Aud0V0eCdWQIP1A0cXu1dAd4DMc6lGVkDa6Dl1Jzk8QNt+v7m7/lFA1gTuzEZXPUDa7Q6EP0dPQAKrNHPSFlhAAlqh5cy0J0AKnfjmjolBQOGhg4kaBllAOab+rL8lSEBnwHLnNpU4QDOqDOPumVFAF5tWCsGEV0D8OLsxFOFYQCaH9IAepVZAnkisnCgBLEBv08ALsolXQF12oRx5akRAH8Lw+JN4M0CACqq6BZwxQA==\",\"dtype\":\"float64\",\"shape\":[140]}},\"selected\":{\"id\":\"21274\",\"type\":\"Selection\"},\"selection_policy\":{\"id\":\"21275\",\"type\":\"UnionRenderers\"}},\"id\":\"21250\",\"type\":\"ColumnDataSource\"},{\"attributes\":{\"dimension\":1,\"grid_line_alpha\":0.3,\"ticker\":{\"id\":\"21233\",\"type\":\"BasicTicker\"}},\"id\":\"21236\",\"type\":\"Grid\"}],\"root_ids\":[\"21216\"]},\"title\":\"Bokeh Application\",\"version\":\"1.4.0\"}};\n",
       "  var render_items = [{\"docid\":\"7012633d-045b-4aa9-8844-06f3d79ccae9\",\"roots\":{\"21216\":\"c0e47aab-7290-4545-b336-878b2edc1725\"}}];\n",
       "  root.Bokeh.embed.embed_items_notebook(docs_json, render_items);\n",
       "\n",
       "  }\n",
       "  if (root.Bokeh !== undefined) {\n",
       "    embed_document(root);\n",
       "  } else {\n",
       "    var attempts = 0;\n",
       "    var timer = setInterval(function(root) {\n",
       "      if (root.Bokeh !== undefined) {\n",
       "        clearInterval(timer);\n",
       "        embed_document(root);\n",
       "      } else {\n",
       "        attempts++;\n",
       "        if (attempts > 100) {\n",
       "          clearInterval(timer);\n",
       "          console.log(\"Bokeh: ERROR: Unable to run BokehJS code because BokehJS library is missing\");\n",
       "        }\n",
       "      }\n",
       "    }, 10, root)\n",
       "  }\n",
       "})(window);"
      ],
      "application/vnd.bokehjs_exec.v0+json": ""
     },
     "metadata": {
      "application/vnd.bokehjs_exec.v0+json": {
       "id": "21216"
      }
     },
     "output_type": "display_data"
    }
   ],
   "source": [
    "p1 = figure(title = \"Actual vs Predicted\", width=900)\n",
    "p1.grid.grid_line_alpha=0.3\n",
    "p1.xaxis.axis_label = 'features'\n",
    "p1.yaxis.axis_label = 'values'\n",
    "\n",
    "p1.line(df1.index,df1['Actual'],color = 'yellow',line_width = 2,legend_label = \"target variable\")\n",
    "p1.line(df1.index,df1['Predicted'] , color = 'brown',line_width = 1.5,legend_label = \"predicted value\")\n",
    "\n",
    "show(p1)"
   ]
  },
  {
   "cell_type": "code",
   "execution_count": 165,
   "metadata": {},
   "outputs": [
    {
     "data": {
      "text/html": [
       "\n",
       "\n",
       "\n",
       "\n",
       "\n",
       "\n",
       "  <div class=\"bk-root\" id=\"48399e0d-d7d1-412c-876a-0726e354bd56\" data-root-id=\"21874\"></div>\n"
      ]
     },
     "metadata": {},
     "output_type": "display_data"
    },
    {
     "data": {
      "application/javascript": [
       "(function(root) {\n",
       "  function embed_document(root) {\n",
       "    \n",
       "  var docs_json = {\"8e0f621c-53e0-4e81-9e1e-5818edd221bd\":{\"roots\":{\"references\":[{\"attributes\":{\"below\":[{\"id\":\"21885\",\"type\":\"LinearAxis\"}],\"center\":[{\"id\":\"21889\",\"type\":\"Grid\"},{\"id\":\"21894\",\"type\":\"Grid\"}],\"left\":[{\"id\":\"21890\",\"type\":\"LinearAxis\"}],\"plot_width\":1000,\"renderers\":[{\"id\":\"21911\",\"type\":\"GlyphRenderer\"},{\"id\":\"21916\",\"type\":\"GlyphRenderer\"}],\"title\":{\"id\":\"21875\",\"type\":\"Title\"},\"toolbar\":{\"id\":\"21901\",\"type\":\"Toolbar\"},\"x_range\":{\"id\":\"21877\",\"type\":\"DataRange1d\"},\"x_scale\":{\"id\":\"21881\",\"type\":\"LinearScale\"},\"y_range\":{\"id\":\"21879\",\"type\":\"DataRange1d\"},\"y_scale\":{\"id\":\"21883\",\"type\":\"LinearScale\"}},\"id\":\"21874\",\"subtype\":\"Figure\",\"type\":\"Plot\"},{\"attributes\":{},\"id\":\"22461\",\"type\":\"Selection\"},{\"attributes\":{},\"id\":\"21898\",\"type\":\"SaveTool\"},{\"attributes\":{\"overlay\":{\"id\":\"22460\",\"type\":\"BoxAnnotation\"}},\"id\":\"21897\",\"type\":\"BoxZoomTool\"},{\"attributes\":{\"bottom_units\":\"screen\",\"fill_alpha\":{\"value\":0.5},\"fill_color\":{\"value\":\"lightgrey\"},\"left_units\":\"screen\",\"level\":\"overlay\",\"line_alpha\":{\"value\":1.0},\"line_color\":{\"value\":\"black\"},\"line_dash\":[4,4],\"line_width\":{\"value\":2},\"render_mode\":\"css\",\"right_units\":\"screen\",\"top_units\":\"screen\"},\"id\":\"22460\",\"type\":\"BoxAnnotation\"},{\"attributes\":{},\"id\":\"21881\",\"type\":\"LinearScale\"},{\"attributes\":{},\"id\":\"21896\",\"type\":\"WheelZoomTool\"},{\"attributes\":{\"active_drag\":\"auto\",\"active_inspect\":\"auto\",\"active_multi\":null,\"active_scroll\":\"auto\",\"active_tap\":\"auto\",\"tools\":[{\"id\":\"21895\",\"type\":\"PanTool\"},{\"id\":\"21896\",\"type\":\"WheelZoomTool\"},{\"id\":\"21897\",\"type\":\"BoxZoomTool\"},{\"id\":\"21898\",\"type\":\"SaveTool\"},{\"id\":\"21899\",\"type\":\"ResetTool\"},{\"id\":\"21900\",\"type\":\"HelpTool\"}]},\"id\":\"21901\",\"type\":\"Toolbar\"},{\"attributes\":{},\"id\":\"22462\",\"type\":\"UnionRenderers\"},{\"attributes\":{\"data_source\":{\"id\":\"21913\",\"type\":\"ColumnDataSource\"},\"glyph\":{\"id\":\"21914\",\"type\":\"Line\"},\"hover_glyph\":null,\"muted_glyph\":null,\"nonselection_glyph\":{\"id\":\"21915\",\"type\":\"Line\"},\"selection_glyph\":null,\"view\":{\"id\":\"21917\",\"type\":\"CDSView\"}},\"id\":\"21916\",\"type\":\"GlyphRenderer\"},{\"attributes\":{\"callback\":null},\"id\":\"21877\",\"type\":\"DataRange1d\"},{\"attributes\":{},\"id\":\"21895\",\"type\":\"PanTool\"},{\"attributes\":{},\"id\":\"21891\",\"type\":\"BasicTicker\"},{\"attributes\":{\"grid_line_alpha\":0.3,\"ticker\":{\"id\":\"21886\",\"type\":\"BasicTicker\"}},\"id\":\"21889\",\"type\":\"Grid\"},{\"attributes\":{\"fill_alpha\":{\"value\":0.1},\"fill_color\":{\"value\":\"#1f77b4\"},\"line_alpha\":{\"value\":0.1},\"line_color\":{\"value\":\"#1f77b4\"},\"x\":{\"field\":\"x\"},\"y\":{\"field\":\"y\"}},\"id\":\"21910\",\"type\":\"Cross\"},{\"attributes\":{},\"id\":\"22459\",\"type\":\"BasicTickFormatter\"},{\"attributes\":{},\"id\":\"21900\",\"type\":\"HelpTool\"},{\"attributes\":{},\"id\":\"21886\",\"type\":\"BasicTicker\"},{\"attributes\":{},\"id\":\"22463\",\"type\":\"Selection\"},{\"attributes\":{},\"id\":\"22464\",\"type\":\"UnionRenderers\"},{\"attributes\":{\"line_alpha\":0.1,\"line_color\":\"#1f77b4\",\"x\":{\"field\":\"x\"},\"y\":{\"field\":\"y\"}},\"id\":\"21915\",\"type\":\"Line\"},{\"attributes\":{},\"id\":\"21883\",\"type\":\"LinearScale\"},{\"attributes\":{},\"id\":\"21899\",\"type\":\"ResetTool\"},{\"attributes\":{\"axis_label\":\"features\",\"formatter\":{\"id\":\"22459\",\"type\":\"BasicTickFormatter\"},\"ticker\":{\"id\":\"21886\",\"type\":\"BasicTicker\"}},\"id\":\"21885\",\"type\":\"LinearAxis\"},{\"attributes\":{\"data_source\":{\"id\":\"21908\",\"type\":\"ColumnDataSource\"},\"glyph\":{\"id\":\"21909\",\"type\":\"Cross\"},\"hover_glyph\":null,\"muted_glyph\":null,\"nonselection_glyph\":{\"id\":\"21910\",\"type\":\"Cross\"},\"selection_glyph\":null,\"view\":{\"id\":\"21912\",\"type\":\"CDSView\"}},\"id\":\"21911\",\"type\":\"GlyphRenderer\"},{\"attributes\":{\"callback\":null,\"data\":{\"x\":{\"__ndarray__\":\"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\",\"dtype\":\"float64\",\"shape\":[559]},\"y\":{\"__ndarray__\":\"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\",\"dtype\":\"float64\",\"shape\":[559]}},\"selected\":{\"id\":\"22461\",\"type\":\"Selection\"},\"selection_policy\":{\"id\":\"22462\",\"type\":\"UnionRenderers\"}},\"id\":\"21908\",\"type\":\"ColumnDataSource\"},{\"attributes\":{\"text\":\"Visualising Linear Regression result on training set\"},\"id\":\"21875\",\"type\":\"Title\"},{\"attributes\":{},\"id\":\"22457\",\"type\":\"BasicTickFormatter\"},{\"attributes\":{\"callback\":null},\"id\":\"21879\",\"type\":\"DataRange1d\"},{\"attributes\":{\"source\":{\"id\":\"21908\",\"type\":\"ColumnDataSource\"}},\"id\":\"21912\",\"type\":\"CDSView\"},{\"attributes\":{\"axis_label\":\"Values\",\"formatter\":{\"id\":\"22457\",\"type\":\"BasicTickFormatter\"},\"ticker\":{\"id\":\"21891\",\"type\":\"BasicTicker\"}},\"id\":\"21890\",\"type\":\"LinearAxis\"},{\"attributes\":{\"line_color\":\"red\",\"x\":{\"field\":\"x\"},\"y\":{\"field\":\"y\"}},\"id\":\"21914\",\"type\":\"Line\"},{\"attributes\":{\"dimension\":1,\"grid_line_alpha\":0.3,\"ticker\":{\"id\":\"21891\",\"type\":\"BasicTicker\"}},\"id\":\"21894\",\"type\":\"Grid\"},{\"attributes\":{\"fill_color\":{\"value\":\"green\"},\"line_color\":{\"value\":\"green\"},\"x\":{\"field\":\"x\"},\"y\":{\"field\":\"y\"}},\"id\":\"21909\",\"type\":\"Cross\"},{\"attributes\":{\"source\":{\"id\":\"21913\",\"type\":\"ColumnDataSource\"}},\"id\":\"21917\",\"type\":\"CDSView\"},{\"attributes\":{\"callback\":null,\"data\":{\"x\":{\"__ndarray__\":\"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\",\"dtype\":\"float64\",\"shape\":[559]},\"y\":{\"__ndarray__\":\"woGNFEn5R0AFxF31NP40QFcMLZ1Yd0xAPfi3bWz4SUAAvSLB2vhIQLlu4saP90tAzprw7jH5U0Aa0ZfwxndLQIbN/Ja2LwhA9ql3cyH3TEDKg5NjngcgQHrC9dxwuFVAAL0iwdr4SEBjJZB3QXdYQFab1V/LN1dAhs38lrYvCEAAvSLB2vhIQLpT0/0hFhBAwHDoFeUFJEBjJZB3QXdYQALD2k0K91hAr1s3edb1T0Ax1GchTwMqQMSHRaF491dAYR/Y6hF5SEAV6TDpfPpQQHszTRr+90pA3JUCRDV4SkCqc9BxjHhVQGCugK2EOVNAkF9bQqD5UkBF+r28wQYiQMEQNte7uVJA8cEQbNd5UkAic+sA8zlSQLKAwzIWfEFANOUMILP2TUAA4J9/NAedP6htGOVcekVABcRd9TT+NECqc9BxjHhVQGCugK2EOVNAsEAosGgUFEDSm3OWXAAwQL51Hfvp/DdAn1ptl6N4SUC+dR376fw3QL51Hfvp/DdAulPT/SEWEEA75xJvCAUmQBhgQLM5OFZAVpvVX8s3V0Al6vrKr3dXQHEgosxE9k5AsEAosGgUFEAJ0M0OlPpEQGEf2OoReUhAvnUd++n8N0AV6TDpfPpQQLKAwzIWfEFAhUb4Z7f5RkCtSpJ6cgIsQAvWhZvD+FRAyoOTY54HIEDormUeHnhWQEcLY7sl+kVANOUMILP2TUA57EdUDfw5QKYtfWKvEhhAtl09yCsEKEBTJMaVDvpRQK9bN3nW9U9AGtGX8MZ3S0BF+r28wQYiQKhtGOVcekVAh0yw9Ob3VkCrT8dfd/k/QALD2k0K91hAD9cIQ+7/MEC3/YqJArhWQLlu4saP90tAQ//yocb9NUAydLXiJbdYQNyVAkQ1eEpAkF9bQqD5UkDSm3OWXAAwQIbN/Ja2LwhA5qitke55RkBtFDKz5fk+QL51Hfvp/DdAMnS14iW3WEAJ0M0OlPpEQNskqwaoOFVAMnS14iW3WEAx1GchTwMqQMqDk2OeByBAuW7ixo/3S0CHTLD05vdWQAC9IsHa+EhAD9cIQ+7/MEDTglf2e3ZOQFab1V/LN1dA/LCyp3v8OECrT8dfd/k/QBPjeFxN/EBAtl09yCsEKECn/MCnzzpQQJTWagxdN1hAp/zAp886UEB6wvXccLhVQAvWhZvD+FRAYR/Y6hF5SEDKg5NjngcgQPHBEGzXeVJAdyfdAJ/7OkBNEp7vf/8xQLlu4saP90tAVwwtnVh3TEA9+LdtbPhJQMEQNte7uVJAvnUd++n8N0AA4J9/NAedPxPjeFxN/EBAjlmjtXD7QkC1YnKtMPs7QPU4IDaUt1dAn1ptl6N4SUBHC2O7JfpFQL51Hfvp/DdAlUfCSep2TUAa0ZfwxndLQKpz0HGMeFVApi19Yq8SGEC1YnKtMPs7QDDZnAZU+j1AWjNSmzdt8D8v/aUYaXlTQADgn380B50/hUb4Z7f5RkC+dR376fw3QFMkxpUO+lFAwoGNFEn5R0BXDC2dWHdMQBhgQLM5OFZACdDNDpT6REA75xJvCAUmQOaorZHueUZAyIjISKP+M0AFxF31NP40QDHUZyFPAypAInPrAPM5UkCU1moMXTdYQGEf2OoReUhAdEUuhoR8QEDIiMhIo/4zQJBfW0Kg+VJAjlmjtXD7QkDxwRBs13lSQGCugK2EOVNAlNZqDF03WEAT43hcTfxAQMEQNte7uVJAYyWQd0F3WECU1moMXTdYQE0Snu9//zFAYR/Y6hF5SEDormUeHnhWQFEeDgnf+0FAh0yw9Ob3VkAT43hcTfxAQL51Hfvp/DdAtIZ7v0V6UUAj5EI+gHlHQC/9pRhpeVNAvnUd++n8N0DormUeHnhWQDDZnAZU+j1AFekw6Xz6UEAAvSLB2vhIQPywsqd7/DhAazKDOMt6RECtSpJ6cgIsQFEeDgnf+0FA9ql3cyH3TEBjJZB3QXdYQAXEXfU0/jRAesL13HC4VUCd6RVaFjlUQOaorZHueUZABcRd9TT+NECKTTOcEf8yQG0UMrPl+T5AI+RCPoB5R0AJ0M0OlPpEQK1KknpyAixAulPT/SEWEEDSm3OWXAAwQOiuZR4eeFZAYR/Y6hF5SEBGmgt+mLpQQMBw6BXlBSRAazKDOMt6REDBEDbXu7lSQPapd3Mh90xARfq9vMEGIkCQX1tCoPlSQDJ0teIlt1hAn1ptl6N4SUAw2ZwGVPo9QNOCV/Z7dk5A9ql3cyH3TEAv/aUYaXlTQGEf2OoReUhAzprw7jH5U0AFxF31NP40QP5Ly4NNuVNARpoLfpi6UEAT43hcTfxAQA/XCEPu/zBAqG0Y5Vx6RUAt9+2LOXtDQJ0a0hT2EBxAuW7ixo/3S0BWm9VfyzdXQJVHwknqdk1AD9cIQ+7/MEAJ0M0OlPpEQEkRG0hV+FVAPfi3bWz4SUCKTTOcEf8yQK1KknpyAixA5qitke55RkCrT8dfd/k/QI5Zo7Vw+0JAAsPaTQr3WEBHC2O7JfpFQJ3pFVoWOVRA8cEQbNd5UkCwQCiwaBQUQG0UMrPl+T5AWjNSmzdt8D/BEDbXu7lSQHszTRr+90pAwHDoFeUFJECrT8dfd/k/QDvnEm8IBSZA8p0HWsL6PEB6wvXccLhVQFab1V/LN1dANOUMILP2TUAYYECzOThWQLBAKLBoFBRAUR4OCd/7QUDOmvDuMflTQHEgosxE9k5A9TggNpS3V0BxIKLMRPZOQKtPx193+T9ACdDNDpT6RED2qXdzIfdMQHszTRr+90pAzJQ4YgL7Q0CwQCiwaBQUQJ9abZejeElAC9aFm8P4VEBHC2O7JfpFQPHBEGzXeVJAnekVWhY5VEAP1whD7v8wQIE6iE5Y/TZAg9WgKiq6UUCGzfyWti8IQDJ0teIlt1hALfftizl7Q0DMlDhiAvtDQMKBjRRJ+UdAtl09yCsEKECmLX1irxIYQKf8wKfPOlBAPfi3bWz4SUDBEDbXu7lSQMEQNte7uVJA0ptzllwAMECqc9BxjHhVQCXq+sqvd1dAg9WgKiq6UUDAcOgV5QUkQPapd3Mh90xA3JUCRDV4SkCVR8JJ6nZNQNyVAkQ1eEpAg9WgKiq6UUA57EdUDfw5QJ9abZejeElAjlmjtXD7QkDKg5NjngcgQEP/8qHG/TVA04JX9nt2TkBGmgt+mLpQQHrC9dxwuFVAwoGNFEn5R0DCgY0USflHQGEf2OoReUhA/LCyp3v8OECFRvhnt/lGQGMlkHdBd1hAq0/HX3f5P0C3/YqJArhWQLKAwzIWfEFAik0znBH/MkA57EdUDfw5QPU4IDaUt1dAnekVWhY5VEBRHg4J3/tBQBXpMOl8+lBAGtGX8MZ3S0DSm3OWXAAwQAnQzQ6U+kRAOexHVA38OUCrT8dfd/k/QHZL5hK0elBAsoDDMhZ8QUAw2ZwGVPo9QOaorZHueUZAjlmjtXD7QkDBEDbXu7lSQCjBvNOVAS5AgTqITlj9NkB7M00a/vdKQNKbc5ZcADBAJer6yq93V0D8sLKne/w4QJ0a0hT2EBxAwoGNFEn5R0AJ0M0OlPpEQGsygzjLekRARpoLfpi6UED2qXdzIfdMQGEf2OoReUhAhs38lrYvCECa81IyKTMAQAXEXfU0/jRAwHDoFeUFJEBgroCthDlTQMiIyEij/jNAtWJyrTD7O0AV6TDpfPpQQLVicq0w+ztAmvNSMikzAED8sLKne/w4QJ0a0hT2EBxA/kvLg025U0D8sLKne/w4QG0UMrPl+T5AAL0iwdr4SEB6wvXccLhVQK9bN3nW9U9AGGBAszk4VkBNEp7vf/8xQLKAwzIWfEFApi19Yq8SGEB7M00a/vdKQC337Ys5e0NAYR/Y6hF5SEAV6TDpfPpQQADgn380B50/kF9bQqD5UkBHC2O7JfpFQFozUps3bfA/UR4OCd/7QUDormUeHnhWQIpNM5wR/zJA8cEQbNd5UkCvWzd51vVPQJ9abZejeElAvnUd++n8N0B3J90An/s6QALD2k0K91hA9ql3cyH3TEAl6vrKr3dXQJrzUjIpMwBAwHDoFeUFJEC5buLGj/dLQAvWhZvD+FRARwtjuyX6RUD2qXdzIfdMQPU4IDaUt1dAAsPaTQr3WEC0hnu/RXpRQGEf2OoReUhAYyWQd0F3WECn/MCnzzpQQADgn380B50/C9aFm8P4VEB3J90An/s6QHszTRr+90pAvnUd++n8N0AQvuyiDXZPQP5Ly4NNuVNA0ptzllwAMEDvu1jfp3tCQHRFLoaEfEBAnekVWhY5VECd6RVaFjlUQNKbc5ZcADBA77tY36d7QkD1OCA2lLdXQAnQzQ6U+kRAMNmcBlT6PUAt9+2LOXtDQALD2k0K91hAn1ptl6N4SUCd6RVaFjlUQDnsR1QN/DlAOexHVA38OUD2qXdzIfdMQGEf2OoReUhAMnS14iW3WECn/MCnzzpQQNOCV/Z7dk5AmvNSMikzAEB7M00a/vdKQGEf2OoReUhAUR4OCd/7QUBtODvF+nhUQLKAwzIWfEFAFekw6Xz6UEDKg5NjngcgQG0UMrPl+T5AQ//yocb9NUAV6TDpfPpQQIVG+Ge3+UZAg9WgKiq6UUB7M00a/vdKQMEQNte7uVJAtIZ7v0V6UUAa0ZfwxndLQKpz0HGMeFVAGGBAszk4VkCGzfyWti8IQIPVoCoqulFAAOCffzQHnT8w2ZwGVPo9QI5Zo7Vw+0JAKMG805UBLkBrMoM4y3pEQAnQzQ6U+kRA6K5lHh54VkBHC2O7JfpFQNKbc5ZcADBAik0znBH/MkA8h2Aw37hUQC337Ys5e0NAwHDoFeUFJEAA4J9/NAedP8iIyEij/jNARpoLfpi6UEA9+LdtbPhJQJ0a0hT2EBxAt/2KiQK4VkDCgY0USflHQCjBvNOVAS5AsoDDMhZ8QUCrT8dfd/k/QBXpMOl8+lBAezNNGv73SkBaM1KbN23wPwXEXfU0/jRAt/2KiQK4VkBD//Khxv01QGMlkHdBd1hAcSCizET2TkAj5EI+gHlHQKhtGOVcekVAGGBAszk4VkDEh0WhePdXQLpT0/0hFhBANOUMILP2TUB6wvXccLhVQL51Hfvp/DdAGtGX8MZ3S0ACw9pNCvdYQBhgQLM5OFZAO+cSbwgFJkDBEDbXu7lSQG0UMrPl+T5ALfftizl7Q0DCgY0USflHQPywsqd7/DhAOexHVA38OUAj5EI+gHlHQJ9abZejeElAGGBAszk4VkBgroCthDlTQDyHYDDfuFRAh0yw9Ob3VkBJERtIVfhVQPU4IDaUt1dAt/2KiQK4VkBgroCthDlTQDvnEm8IBSZAtIZ7v0V6UUC0hnu/RXpRQBrRl/DGd0tA5DdWVGE6UUC3/YqJArhWQLKAwzIWfEFA3JUCRDV4SkD1OCA2lLdXQPapd3Mh90xAhUb4Z7f5RkBF+r28wQYiQADgn380B50/woGNFEn5R0BxIKLMRPZOQAC9IsHa+EhAlUfCSep2TUC6U9P9IRYQQO+7WN+ne0JA6K5lHh54VkBHC2O7JfpFQHcn3QCf+zpAYyWQd0F3WEDCgY0USflHQAC9IsHa+EhAh0yw9Ob3VkDynQdawvo8QNskqwaoOFVAtIZ7v0V6UUBrMoM4y3pEQDnsR1QN/DlAezNNGv73SkD1OCA2lLdXQG04O8X6eFRAqnPQcYx4VUAAvSLB2vhIQPKdB1rC+jxAdyfdAJ/7OkCwQCiwaBQUQBPjeFxN/EBAMdRnIU8DKkB6wvXccLhVQCPkQj6AeUdAOexHVA38OUAowbzTlQEuQMqDk2OeByBAtIZ7v0V6UUC2XT3IKwQoQIPVoCoqulFAg9WgKiq6UUAFxF31NP40QKf8wKfPOlBA/kvLg025U0CwQCiwaBQUQGMlkHdBd1hAPfi3bWz4SUC5buLGj/dLQPywsqd7/DhAAsPaTQr3WEA=\",\"dtype\":\"float64\",\"shape\":[559]}},\"selected\":{\"id\":\"22463\",\"type\":\"Selection\"},\"selection_policy\":{\"id\":\"22464\",\"type\":\"UnionRenderers\"}},\"id\":\"21913\",\"type\":\"ColumnDataSource\"}],\"root_ids\":[\"21874\"]},\"title\":\"Bokeh Application\",\"version\":\"1.4.0\"}};\n",
       "  var render_items = [{\"docid\":\"8e0f621c-53e0-4e81-9e1e-5818edd221bd\",\"roots\":{\"21874\":\"48399e0d-d7d1-412c-876a-0726e354bd56\"}}];\n",
       "  root.Bokeh.embed.embed_items_notebook(docs_json, render_items);\n",
       "\n",
       "  }\n",
       "  if (root.Bokeh !== undefined) {\n",
       "    embed_document(root);\n",
       "  } else {\n",
       "    var attempts = 0;\n",
       "    var timer = setInterval(function(root) {\n",
       "      if (root.Bokeh !== undefined) {\n",
       "        clearInterval(timer);\n",
       "        embed_document(root);\n",
       "      } else {\n",
       "        attempts++;\n",
       "        if (attempts > 100) {\n",
       "          clearInterval(timer);\n",
       "          console.log(\"Bokeh: ERROR: Unable to run BokehJS code because BokehJS library is missing\");\n",
       "        }\n",
       "      }\n",
       "    }, 10, root)\n",
       "  }\n",
       "})(window);"
      ],
      "application/vnd.bokehjs_exec.v0+json": ""
     },
     "metadata": {
      "application/vnd.bokehjs_exec.v0+json": {
       "id": "21874"
      }
     },
     "output_type": "display_data"
    }
   ],
   "source": [
    "p1 = figure(title = \"Visualising Linear Regression result on training set\", width=1000)\n",
    "p1.grid.grid_line_alpha=0.3\n",
    "p1.xaxis.axis_label = 'features'\n",
    "p1.yaxis.axis_label = 'Values'\n",
    "\n",
    "p1.cross(X_train.flatten(),Y_train.flatten(), color='green')\n",
    "p1.line(X_train.flatten(),(regressor.predict(X_train)).flatten(), color='red')\n",
    "\n",
    "\n",
    "\n",
    "show(p1)"
   ]
  },
  {
   "cell_type": "code",
   "execution_count": 166,
   "metadata": {},
   "outputs": [
    {
     "data": {
      "text/html": [
       "\n",
       "\n",
       "\n",
       "\n",
       "\n",
       "\n",
       "  <div class=\"bk-root\" id=\"22a55dbf-05db-4bba-9305-1689fcd86653\" data-root-id=\"22525\"></div>\n"
      ]
     },
     "metadata": {},
     "output_type": "display_data"
    },
    {
     "data": {
      "application/javascript": [
       "(function(root) {\n",
       "  function embed_document(root) {\n",
       "    \n",
       "  var docs_json = {\"88403390-4311-404a-bad6-f81cba6f9999\":{\"roots\":{\"references\":[{\"attributes\":{\"below\":[{\"id\":\"22536\",\"type\":\"LinearAxis\"}],\"center\":[{\"id\":\"22540\",\"type\":\"Grid\"},{\"id\":\"22545\",\"type\":\"Grid\"}],\"left\":[{\"id\":\"22541\",\"type\":\"LinearAxis\"}],\"plot_width\":1000,\"renderers\":[{\"id\":\"22562\",\"type\":\"GlyphRenderer\"},{\"id\":\"22567\",\"type\":\"GlyphRenderer\"}],\"title\":{\"id\":\"22526\",\"type\":\"Title\"},\"toolbar\":{\"id\":\"22552\",\"type\":\"Toolbar\"},\"x_range\":{\"id\":\"22528\",\"type\":\"DataRange1d\"},\"x_scale\":{\"id\":\"22532\",\"type\":\"LinearScale\"},\"y_range\":{\"id\":\"22530\",\"type\":\"DataRange1d\"},\"y_scale\":{\"id\":\"22534\",\"type\":\"LinearScale\"}},\"id\":\"22525\",\"subtype\":\"Figure\",\"type\":\"Plot\"},{\"attributes\":{\"axis_label\":\"features\",\"formatter\":{\"id\":\"23120\",\"type\":\"BasicTickFormatter\"},\"ticker\":{\"id\":\"22537\",\"type\":\"BasicTicker\"}},\"id\":\"22536\",\"type\":\"LinearAxis\"},{\"attributes\":{},\"id\":\"23123\",\"type\":\"UnionRenderers\"},{\"attributes\":{},\"id\":\"22551\",\"type\":\"HelpTool\"},{\"attributes\":{\"bottom_units\":\"screen\",\"fill_alpha\":{\"value\":0.5},\"fill_color\":{\"value\":\"lightgrey\"},\"left_units\":\"screen\",\"level\":\"overlay\",\"line_alpha\":{\"value\":1.0},\"line_color\":{\"value\":\"black\"},\"line_dash\":[4,4],\"line_width\":{\"value\":2},\"render_mode\":\"css\",\"right_units\":\"screen\",\"top_units\":\"screen\"},\"id\":\"23121\",\"type\":\"BoxAnnotation\"},{\"attributes\":{\"fill_color\":{\"value\":\"green\"},\"line_color\":{\"value\":\"green\"},\"x\":{\"field\":\"x\"},\"y\":{\"field\":\"y\"}},\"id\":\"22560\",\"type\":\"Cross\"},{\"attributes\":{\"fill_alpha\":{\"value\":0.1},\"fill_color\":{\"value\":\"#1f77b4\"},\"line_alpha\":{\"value\":0.1},\"line_color\":{\"value\":\"#1f77b4\"},\"x\":{\"field\":\"x\"},\"y\":{\"field\":\"y\"}},\"id\":\"22561\",\"type\":\"Cross\"},{\"attributes\":{},\"id\":\"22546\",\"type\":\"PanTool\"},{\"attributes\":{\"callback\":null},\"id\":\"22530\",\"type\":\"DataRange1d\"},{\"attributes\":{},\"id\":\"23125\",\"type\":\"UnionRenderers\"},{\"attributes\":{},\"id\":\"23124\",\"type\":\"Selection\"},{\"attributes\":{\"callback\":null,\"data\":{\"x\":{\"__ndarray__\":\"AAAAAAAAPUAAAAAAAABNQAAAAAAAAFVAAAAAAAAAU0AAAAAAAABLQAAAAAAAgElAAAAAAACAWEAAAAAAAAA5QAAAAAAAAEpAAAAAAAAAR0AAAAAAAAAuQAAAAAAAAFJAAAAAAADAUUAAAAAAAAAqQAAAAAAAADlAAAAAAAAAT0AAAAAAAABWQAAAAAAAwFdAAAAAAACAUEAAAAAAAIBOQAAAAAAAgFFAAAAAAAAATUAAAAAAAEBXQAAAAAAAgEJAAAAAAACAQ0AAAAAAAAAIQAAAAAAAAElAAAAAAAAAFEAAAAAAAIBVQAAAAAAAAElAAAAAAACAQkAAAAAAAAA2QAAAAAAAAEhAAAAAAACAREAAAAAAAMBSQAAAAAAAQFJAAAAAAACATkAAAAAAAABOQAAAAAAAQFFAAAAAAAAANUAAAAAAAEBSQAAAAAAAADRAAAAAAACAVUAAAAAAAAAzQAAAAAAAAEVAAAAAAAAAWUAAAAAAAABBQAAAAAAAACBAAAAAAAAANkAAAAAAAAA5QAAAAAAAQFVAAAAAAABAV0AAAAAAAAA3QAAAAAAAgFVAAAAAAAAAP0AAAAAAAMBYQAAAAAAAAD1AAAAAAADAV0AAAAAAAAA5QAAAAAAAgEhAAAAAAAAAKkAAAAAAAIBJQAAAAAAAgEJAAAAAAAAAJEAAAAAAAEBVQAAAAAAAQFRAAAAAAABAV0AAAAAAAIBTQAAAAAAAADpAAAAAAAAAIEAAAAAAAAAmQAAAAAAAADBAAAAAAAAAKEAAAAAAAABVQAAAAAAAQFRAAAAAAABAWEAAAAAAAAA+QAAAAAAAwFRAAAAAAABAVkAAAAAAAIBLQAAAAAAAgEdAAAAAAADAUEAAAAAAAABWQAAAAAAAwFFAAAAAAACAT0AAAAAAAAAwQAAAAAAAABxAAAAAAAAATUAAAAAAAIBEQAAAAAAAACxAAAAAAAAAVEAAAAAAAIBKQAAAAAAAgE5AAAAAAAAAMEAAAAAAAAAcQAAAAAAAgEdAAAAAAAAAM0AAAAAAAABMQAAAAAAAADpAAAAAAAAAPUAAAAAAAAA1QAAAAAAAQFdAAAAAAAAAHEAAAAAAAAAzQAAAAAAAABRAAAAAAACAWEAAAAAAAABNQAAAAAAAwFRAAAAAAACAVUAAAAAAAABNQAAAAAAAQFNAAAAAAADAUkAAAAAAAAAiQAAAAAAAADlAAAAAAACAV0AAAAAAAABKQAAAAAAAgFBAAAAAAAAAPUAAAAAAAIBWQAAAAAAAwFZAAAAAAABAVkAAAAAAAAA6QAAAAAAAQFJAAAAAAAAAPUAAAAAAAIBPQAAAAAAAAFhAAAAAAAAAIkAAAAAAAIBAQAAAAAAAwFhAAAAAAAAASUAAAAAAAAA7QAAAAAAAQFJAAAAAAACAV0AAAAAAAMBYQAAAAAAAAFZAAAAAAAAAMEAAAAAAAEBYQAAAAAAAgEVAAAAAAAAAM0AAAAAAAAAzQA==\",\"dtype\":\"float64\",\"shape\":[140]},\"y\":{\"__ndarray__\":\"8p0HWsL6PED2qXdzIfdMQAvWhZvD+FRAkF9bQqD5UkB7M00a/vdKQJ9abZejeElAYyWQd0F3WED8sLKne/w4QD34t21s+ElAhUb4Z7f5RkAowbzTlQEuQFMkxpUO+lFAg9WgKiq6UUAx1GchTwMqQPywsqd7/DhAcSCizET2TkBJERtIVfhVQPU4IDaUt1dAdkvmErR6UEDTglf2e3ZOQLSGe79FelFA9ql3cyH3TEBWm9VfyzdXQO+7WN+ne0JALfftizl7Q0CGzfyWti8IQAC9IsHa+EhAsEAosGgUFECqc9BxjHhVQAC9IsHa+EhA77tY36d7QkBD//Khxv01QMKBjRRJ+UdAazKDOMt6REDBEDbXu7lSQCJz6wDzOVJA04JX9nt2TkA05Qwgs/ZNQOQ3VlRhOlFABcRd9TT+NEAic+sA8zlSQMiIyEij/jNAqnPQcYx4VUCKTTOcEf8yQAnQzQ6U+kRAAsPaTQr3WEAT43hcTfxAQMqDk2OeByBAQ//yocb9NUD8sLKne/w4QNskqwaoOFVAVpvVX8s3V0CBOohOWP02QKpz0HGMeFVAbRQys+X5PkAydLXiJbdYQPKdB1rC+jxA9TggNpS3V0D8sLKne/w4QGEf2OoReUhAMdRnIU8DKkCfWm2Xo3hJQO+7WN+ne0JAwHDoFeUFJEDbJKsGqDhVQJ3pFVoWOVRAVpvVX8s3V0Av/aUYaXlTQDnsR1QN/DlAyoOTY54HIEA75xJvCAUmQNKbc5ZcADBAtl09yCsEKEAL1oWbw/hUQJ3pFVoWOVRAlNZqDF03WEAw2ZwGVPo9QDyHYDDfuFRAGGBAszk4VkAa0ZfwxndLQCPkQj6AeUdARpoLfpi6UEBJERtIVfhVQIPVoCoqulFAEL7sog12T0DSm3OWXAAwQJ0a0hT2EBxA9ql3cyH3TEBrMoM4y3pEQK1KknpyAixAzprw7jH5U0DclQJENXhKQNOCV/Z7dk5A0ptzllwAMECdGtIU9hAcQCPkQj6AeUdAik0znBH/MkC5buLGj/dLQDnsR1QN/DlA8p0HWsL6PEAFxF31NP40QFab1V/LN1dAnRrSFPYQHECKTTOcEf8yQLBAKLBoFBRAYyWQd0F3WED2qXdzIfdMQDyHYDDfuFRAqnPQcYx4VUD2qXdzIfdMQGCugK2EOVNAwRA217u5UkBF+r28wQYiQPywsqd7/DhAJer6yq93V0A9+LdtbPhJQHZL5hK0elBA8p0HWsL6PEDormUeHnhWQLf9iokCuFZAGGBAszk4VkA57EdUDfw5QCJz6wDzOVJA8p0HWsL6PEAQvuyiDXZPQMSHRaF491dARfq9vMEGIkB0RS6GhHxAQDJ0teIlt1hAAL0iwdr4SEB3J90An/s6QCJz6wDzOVJAJer6yq93V0AydLXiJbdYQEkRG0hV+FVA0ptzllwAMECU1moMXTdYQKhtGOVcekVAik0znBH/MkCKTTOcEf8yQA==\",\"dtype\":\"float64\",\"shape\":[140]}},\"selected\":{\"id\":\"23124\",\"type\":\"Selection\"},\"selection_policy\":{\"id\":\"23125\",\"type\":\"UnionRenderers\"}},\"id\":\"22564\",\"type\":\"ColumnDataSource\"},{\"attributes\":{},\"id\":\"23120\",\"type\":\"BasicTickFormatter\"},{\"attributes\":{\"data_source\":{\"id\":\"22559\",\"type\":\"ColumnDataSource\"},\"glyph\":{\"id\":\"22560\",\"type\":\"Cross\"},\"hover_glyph\":null,\"muted_glyph\":null,\"nonselection_glyph\":{\"id\":\"22561\",\"type\":\"Cross\"},\"selection_glyph\":null,\"view\":{\"id\":\"22563\",\"type\":\"CDSView\"}},\"id\":\"22562\",\"type\":\"GlyphRenderer\"},{\"attributes\":{\"callback\":null},\"id\":\"22528\",\"type\":\"DataRange1d\"},{\"attributes\":{\"text\":\"Visualising Linear Regression result on testing set\"},\"id\":\"22526\",\"type\":\"Title\"},{\"attributes\":{\"active_drag\":\"auto\",\"active_inspect\":\"auto\",\"active_multi\":null,\"active_scroll\":\"auto\",\"active_tap\":\"auto\",\"tools\":[{\"id\":\"22546\",\"type\":\"PanTool\"},{\"id\":\"22547\",\"type\":\"WheelZoomTool\"},{\"id\":\"22548\",\"type\":\"BoxZoomTool\"},{\"id\":\"22549\",\"type\":\"SaveTool\"},{\"id\":\"22550\",\"type\":\"ResetTool\"},{\"id\":\"22551\",\"type\":\"HelpTool\"}]},\"id\":\"22552\",\"type\":\"Toolbar\"},{\"attributes\":{\"line_color\":\"red\",\"x\":{\"field\":\"x\"},\"y\":{\"field\":\"y\"}},\"id\":\"22565\",\"type\":\"Line\"},{\"attributes\":{\"source\":{\"id\":\"22559\",\"type\":\"ColumnDataSource\"}},\"id\":\"22563\",\"type\":\"CDSView\"},{\"attributes\":{\"grid_line_alpha\":0.3,\"ticker\":{\"id\":\"22537\",\"type\":\"BasicTicker\"}},\"id\":\"22540\",\"type\":\"Grid\"},{\"attributes\":{},\"id\":\"22549\",\"type\":\"SaveTool\"},{\"attributes\":{\"line_alpha\":0.1,\"line_color\":\"#1f77b4\",\"x\":{\"field\":\"x\"},\"y\":{\"field\":\"y\"}},\"id\":\"22566\",\"type\":\"Line\"},{\"attributes\":{},\"id\":\"22542\",\"type\":\"BasicTicker\"},{\"attributes\":{\"axis_label\":\"Values\",\"formatter\":{\"id\":\"23118\",\"type\":\"BasicTickFormatter\"},\"ticker\":{\"id\":\"22542\",\"type\":\"BasicTicker\"}},\"id\":\"22541\",\"type\":\"LinearAxis\"},{\"attributes\":{},\"id\":\"23118\",\"type\":\"BasicTickFormatter\"},{\"attributes\":{},\"id\":\"22547\",\"type\":\"WheelZoomTool\"},{\"attributes\":{},\"id\":\"22537\",\"type\":\"BasicTicker\"},{\"attributes\":{},\"id\":\"22532\",\"type\":\"LinearScale\"},{\"attributes\":{},\"id\":\"22550\",\"type\":\"ResetTool\"},{\"attributes\":{\"data_source\":{\"id\":\"22564\",\"type\":\"ColumnDataSource\"},\"glyph\":{\"id\":\"22565\",\"type\":\"Line\"},\"hover_glyph\":null,\"muted_glyph\":null,\"nonselection_glyph\":{\"id\":\"22566\",\"type\":\"Line\"},\"selection_glyph\":null,\"view\":{\"id\":\"22568\",\"type\":\"CDSView\"}},\"id\":\"22567\",\"type\":\"GlyphRenderer\"},{\"attributes\":{\"dimension\":1,\"grid_line_alpha\":0.3,\"ticker\":{\"id\":\"22542\",\"type\":\"BasicTicker\"}},\"id\":\"22545\",\"type\":\"Grid\"},{\"attributes\":{\"overlay\":{\"id\":\"23121\",\"type\":\"BoxAnnotation\"}},\"id\":\"22548\",\"type\":\"BoxZoomTool\"},{\"attributes\":{},\"id\":\"23122\",\"type\":\"Selection\"},{\"attributes\":{\"callback\":null,\"data\":{\"x\":{\"__ndarray__\":\"AAAAAAAAPUAAAAAAAABNQAAAAAAAAFVAAAAAAAAAU0AAAAAAAABLQAAAAAAAgElAAAAAAACAWEAAAAAAAAA5QAAAAAAAAEpAAAAAAAAAR0AAAAAAAAAuQAAAAAAAAFJAAAAAAADAUUAAAAAAAAAqQAAAAAAAADlAAAAAAAAAT0AAAAAAAABWQAAAAAAAwFdAAAAAAACAUEAAAAAAAIBOQAAAAAAAgFFAAAAAAAAATUAAAAAAAEBXQAAAAAAAgEJAAAAAAACAQ0AAAAAAAAAIQAAAAAAAAElAAAAAAAAAFEAAAAAAAIBVQAAAAAAAAElAAAAAAACAQkAAAAAAAAA2QAAAAAAAAEhAAAAAAACAREAAAAAAAMBSQAAAAAAAQFJAAAAAAACATkAAAAAAAABOQAAAAAAAQFFAAAAAAAAANUAAAAAAAEBSQAAAAAAAADRAAAAAAACAVUAAAAAAAAAzQAAAAAAAAEVAAAAAAAAAWUAAAAAAAABBQAAAAAAAACBAAAAAAAAANkAAAAAAAAA5QAAAAAAAQFVAAAAAAABAV0AAAAAAAAA3QAAAAAAAgFVAAAAAAAAAP0AAAAAAAMBYQAAAAAAAAD1AAAAAAADAV0AAAAAAAAA5QAAAAAAAgEhAAAAAAAAAKkAAAAAAAIBJQAAAAAAAgEJAAAAAAAAAJEAAAAAAAEBVQAAAAAAAQFRAAAAAAABAV0AAAAAAAIBTQAAAAAAAADpAAAAAAAAAIEAAAAAAAAAmQAAAAAAAADBAAAAAAAAAKEAAAAAAAABVQAAAAAAAQFRAAAAAAABAWEAAAAAAAAA+QAAAAAAAwFRAAAAAAABAVkAAAAAAAIBLQAAAAAAAgEdAAAAAAADAUEAAAAAAAABWQAAAAAAAwFFAAAAAAACAT0AAAAAAAAAwQAAAAAAAABxAAAAAAAAATUAAAAAAAIBEQAAAAAAAACxAAAAAAAAAVEAAAAAAAIBKQAAAAAAAgE5AAAAAAAAAMEAAAAAAAAAcQAAAAAAAgEdAAAAAAAAAM0AAAAAAAABMQAAAAAAAADpAAAAAAAAAPUAAAAAAAAA1QAAAAAAAQFdAAAAAAAAAHEAAAAAAAAAzQAAAAAAAABRAAAAAAACAWEAAAAAAAABNQAAAAAAAwFRAAAAAAACAVUAAAAAAAABNQAAAAAAAQFNAAAAAAADAUkAAAAAAAAAiQAAAAAAAADlAAAAAAACAV0AAAAAAAABKQAAAAAAAgFBAAAAAAAAAPUAAAAAAAIBWQAAAAAAAwFZAAAAAAABAVkAAAAAAAAA6QAAAAAAAQFJAAAAAAAAAPUAAAAAAAIBPQAAAAAAAAFhAAAAAAAAAIkAAAAAAAIBAQAAAAAAAwFhAAAAAAAAASUAAAAAAAAA7QAAAAAAAQFJAAAAAAACAV0AAAAAAAMBYQAAAAAAAAFZAAAAAAAAAMEAAAAAAAEBYQAAAAAAAgEVAAAAAAAAAM0AAAAAAAAAzQA==\",\"dtype\":\"float64\",\"shape\":[140]},\"y\":{\"__ndarray__\":\"bSkxGdiqPUCaTRXG9VdMQHmU503HQVVAzc79MN1IUkAjbPRBAThIQMYMOykfokpATNR/lCAmV0AXO47dDf41QCml0hUN2klApjBrOYKARkAE1dTsYMInQFTuFUjW01FAEa2yQpOXUUBH2EM9dTsqQJLpjs2nnzZA5kUeb48LTUAFLMH7jR5WQEhS0sMQDFhAIPmcHgjTT0C3cM3bYIJOQEYBy9+3bVJA6nbVh57OS0APzHYqxQBXQNhus1+U8URAmEHG7eEmQ0CEN8Kn22/6P/S+de6LfEhAibKWhgpxF0BHLLUgDNJUQKf5dIZzu0dARCsgguTYQkD9azfJqAM1QLu5dKP6Y0dA6AEDczo7RkBHr8QL+/1SQNKN0bbxbVFALgZqjLExTkCKeMru8n5MQDAULOVn0FFANvhODpcDL0Avk3bdutNRQNn8bKKeVzhAW9RhZA2SVUBMwZ6fd1gxQD/xUqAFo0VAu4jGRTvAWECORz7pI30+QMmfQooOlh9A6VTocjl2MUCyYW5zOlo7QBA+Ukw3rFRAtI2ie1SjV0CYQaXf+AUzQEBEMC+8NlZASphI7W4LPUAL/5a+H75XQMDJeIzZpzpAFy1A22ovWUAs2W/1tZw4QPcx7h9uQEpABTs4t41PKUB4xzGrWnhKQB3i5QrrS0FAV5Xq8zJ2IkBKc/HYC4xVQB20kcpYdVNAbOpdOOeoV0ADEG+EophTQOGj1ftTZzpAsCBJIJCBLUABCDTl/rcgQBgA0zejeSZAEtoh58U5G0DeLNKCX2FVQPAmjQsmXVRAFpPMJEmhWEAcB387YD4/QEV5zUhQk1VAN1QIu1NhVUDbuM1tpTNLQAHWkcDyZUhAnXmDedlAUECAykKFtANWQHli7yhCyVJAXCoErDTWT0DTdbiItQgxQB0w8UKYTRBAzokcpqYjTkAB2nfBN6dAQMM52bxgQChAzikza8pIU0Cr+BJsVI5MQDV/Ck+BGU5A82hX38gqMEAWa8qr+fsXQGl35QaFzUpAK1+GteciNkAXIQIvL59NQBlJDhryHTpAPW1De6tVOkAEwB1Nmos2QP+OLIkBqFdAX9Jp9KLWHUC9KVkMJqk2QB8FeKCIZBBA7abvkL2fWUAmzThwe2ZPQDUw6kEezlVA/G/jHqQkVkC+00spO0ZLQN/aT+fGh1JAfIH2dk3fUkCn6gKELecUQLKSAzQZMEBAnj1+DCkMWEDAHY+2/XlKQNhJXEtxk09AveinD4+nO0Aud0V0eCdWQIP1A0cXu1dAd4DMc6lGVkDa6Dl1Jzk8QNt+v7m7/lFA1gTuzEZXPUDa7Q6EP0dPQAKrNHPSFlhAAlqh5cy0J0AKnfjmjolBQOGhg4kaBllAOab+rL8lSEBnwHLnNpU4QDOqDOPumVFAF5tWCsGEV0D8OLsxFOFYQCaH9IAepVZAnkisnCgBLEBv08ALsolXQF12oRx5akRAH8Lw+JN4M0CACqq6BZwxQA==\",\"dtype\":\"float64\",\"shape\":[140]}},\"selected\":{\"id\":\"23122\",\"type\":\"Selection\"},\"selection_policy\":{\"id\":\"23123\",\"type\":\"UnionRenderers\"}},\"id\":\"22559\",\"type\":\"ColumnDataSource\"},{\"attributes\":{},\"id\":\"22534\",\"type\":\"LinearScale\"},{\"attributes\":{\"source\":{\"id\":\"22564\",\"type\":\"ColumnDataSource\"}},\"id\":\"22568\",\"type\":\"CDSView\"}],\"root_ids\":[\"22525\"]},\"title\":\"Bokeh Application\",\"version\":\"1.4.0\"}};\n",
       "  var render_items = [{\"docid\":\"88403390-4311-404a-bad6-f81cba6f9999\",\"roots\":{\"22525\":\"22a55dbf-05db-4bba-9305-1689fcd86653\"}}];\n",
       "  root.Bokeh.embed.embed_items_notebook(docs_json, render_items);\n",
       "\n",
       "  }\n",
       "  if (root.Bokeh !== undefined) {\n",
       "    embed_document(root);\n",
       "  } else {\n",
       "    var attempts = 0;\n",
       "    var timer = setInterval(function(root) {\n",
       "      if (root.Bokeh !== undefined) {\n",
       "        clearInterval(timer);\n",
       "        embed_document(root);\n",
       "      } else {\n",
       "        attempts++;\n",
       "        if (attempts > 100) {\n",
       "          clearInterval(timer);\n",
       "          console.log(\"Bokeh: ERROR: Unable to run BokehJS code because BokehJS library is missing\");\n",
       "        }\n",
       "      }\n",
       "    }, 10, root)\n",
       "  }\n",
       "})(window);"
      ],
      "application/vnd.bokehjs_exec.v0+json": ""
     },
     "metadata": {
      "application/vnd.bokehjs_exec.v0+json": {
       "id": "22525"
      }
     },
     "output_type": "display_data"
    }
   ],
   "source": [
    "p1 = figure(title = \"Visualising Linear Regression result on testing set\", width=1000)\n",
    "p1.grid.grid_line_alpha=0.3\n",
    "p1.xaxis.axis_label = 'features'\n",
    "p1.yaxis.axis_label = 'Values'\n",
    "\n",
    "p1.cross(X_test.flatten(),Y_test.flatten(), color='green')\n",
    "p1.line(X_test.flatten(),(regressor.predict(X_test)).flatten(), color='red')\n",
    "\n",
    "\n",
    "\n",
    "show(p1)"
   ]
  },
  {
   "cell_type": "markdown",
   "metadata": {},
   "source": [
    "## Step 4: Selecting Model - Polynomial Regression"
   ]
  },
  {
   "cell_type": "code",
   "execution_count": 167,
   "metadata": {},
   "outputs": [],
   "source": [
    "def polyRegression(X_train,X_test,Y_train,Y_test,degree):\n",
    "    polynom = PolynomialFeatures(degree=degree)\n",
    "    X_polynom = polynom.fit_transform(X_train)\n",
    "    ployRegr = LinearRegression()  \n",
    "    ployRegr.fit(X_polynom, Y_train)\n",
    "    return ployRegr.score(polynom.fit_transform(X_test), Y_test)"
   ]
  },
  {
   "cell_type": "markdown",
   "metadata": {},
   "source": [
    "#### <font color=red> Finding the maximum score of polynomial regression for degrees 2 to 100 </font>"
   ]
  },
  {
   "cell_type": "code",
   "execution_count": 168,
   "metadata": {},
   "outputs": [
    {
     "name": "stdout",
     "output_type": "stream",
     "text": [
      "The maximum score is: 0.9915964583277461 for degree: 2\n"
     ]
    }
   ],
   "source": [
    "lst=[]\n",
    "for i in range(2,100):\n",
    "    lst.append(polyRegression(X_train,X_test,Y_train,Y_test,i))\n",
    "print(\"The maximum score is:\",max(lst),\"for degree:\",lst.index(max(lst))+2)"
   ]
  },
  {
   "cell_type": "markdown",
   "metadata": {},
   "source": [
    "#### We found the maximum score of polynomial regression is for degree 2"
   ]
  },
  {
   "cell_type": "code",
   "execution_count": 169,
   "metadata": {},
   "outputs": [],
   "source": [
    "polynom = PolynomialFeatures(degree=2)\n",
    "X_polynom = polynom.fit_transform(X_train)\n",
    "ployRegr = LinearRegression()  "
   ]
  },
  {
   "cell_type": "markdown",
   "metadata": {},
   "source": [
    "## Step 4.1: Training the Model"
   ]
  },
  {
   "cell_type": "code",
   "execution_count": 170,
   "metadata": {},
   "outputs": [
    {
     "data": {
      "text/plain": [
       "LinearRegression(copy_X=True, fit_intercept=True, n_jobs=None, normalize=False)"
      ]
     },
     "execution_count": 170,
     "metadata": {},
     "output_type": "execute_result"
    }
   ],
   "source": [
    "ployRegr.fit(X_polynom, Y_train) #training the algorithm"
   ]
  },
  {
   "cell_type": "markdown",
   "metadata": {},
   "source": [
    "## Step 4.2: Evaluate the Model"
   ]
  },
  {
   "cell_type": "code",
   "execution_count": 171,
   "metadata": {
    "scrolled": true
   },
   "outputs": [
    {
     "data": {
      "text/plain": [
       "0.9915964583277461"
      ]
     },
     "execution_count": 171,
     "metadata": {},
     "output_type": "execute_result"
    }
   ],
   "source": [
    "ployRegr.score(polynom.fit_transform(X_test), Y_test)"
   ]
  },
  {
   "cell_type": "code",
   "execution_count": 172,
   "metadata": {},
   "outputs": [
    {
     "name": "stdout",
     "output_type": "stream",
     "text": [
      "Mean Absolute Error: 2.2287655433468787\n",
      "Mean Squared Error: 7.608301387524093\n",
      "Root Mean Squared Error: 2.7583149543741543\n"
     ]
    }
   ],
   "source": [
    "print('Mean Absolute Error:', metrics.mean_absolute_error(Y_test, ployRegr.predict( polynom.fit_transform(X_test))))  \n",
    "print('Mean Squared Error:', metrics.mean_squared_error(Y_test, ployRegr.predict( polynom.fit_transform(X_test))))  \n",
    "print('Root Mean Squared Error:', np.sqrt(metrics.mean_squared_error(Y_test, ployRegr.predict( polynom.fit_transform(X_test)))))"
   ]
  },
  {
   "cell_type": "markdown",
   "metadata": {},
   "source": [
    "## Step 4.3: Get predictions"
   ]
  },
  {
   "cell_type": "code",
   "execution_count": 173,
   "metadata": {},
   "outputs": [
    {
     "data": {
      "text/html": [
       "<div>\n",
       "<style scoped>\n",
       "    .dataframe tbody tr th:only-of-type {\n",
       "        vertical-align: middle;\n",
       "    }\n",
       "\n",
       "    .dataframe tbody tr th {\n",
       "        vertical-align: top;\n",
       "    }\n",
       "\n",
       "    .dataframe thead th {\n",
       "        text-align: right;\n",
       "    }\n",
       "</style>\n",
       "<table border=\"1\" class=\"dataframe\">\n",
       "  <thead>\n",
       "    <tr style=\"text-align: right;\">\n",
       "      <th></th>\n",
       "      <th>Actual</th>\n",
       "      <th>Predicted</th>\n",
       "    </tr>\n",
       "  </thead>\n",
       "  <tbody>\n",
       "    <tr>\n",
       "      <th>0</th>\n",
       "      <td>29.667360</td>\n",
       "      <td>28.979528</td>\n",
       "    </tr>\n",
       "    <tr>\n",
       "      <th>1</th>\n",
       "      <td>56.687188</td>\n",
       "      <td>57.930708</td>\n",
       "    </tr>\n",
       "    <tr>\n",
       "      <th>2</th>\n",
       "      <td>85.027790</td>\n",
       "      <td>83.886939</td>\n",
       "    </tr>\n",
       "    <tr>\n",
       "      <th>3</th>\n",
       "      <td>73.138500</td>\n",
       "      <td>75.900406</td>\n",
       "    </tr>\n",
       "    <tr>\n",
       "      <th>4</th>\n",
       "      <td>48.437538</td>\n",
       "      <td>53.937442</td>\n",
       "    </tr>\n",
       "    <tr>\n",
       "      <th>...</th>\n",
       "      <td>...</td>\n",
       "      <td>...</td>\n",
       "    </tr>\n",
       "    <tr>\n",
       "      <th>135</th>\n",
       "      <td>14.002263</td>\n",
       "      <td>16.001413</td>\n",
       "    </tr>\n",
       "    <tr>\n",
       "      <th>136</th>\n",
       "      <td>94.151492</td>\n",
       "      <td>96.865054</td>\n",
       "    </tr>\n",
       "    <tr>\n",
       "      <th>137</th>\n",
       "      <td>40.831821</td>\n",
       "      <td>42.955960</td>\n",
       "    </tr>\n",
       "    <tr>\n",
       "      <th>138</th>\n",
       "      <td>19.471008</td>\n",
       "      <td>18.996362</td>\n",
       "    </tr>\n",
       "    <tr>\n",
       "      <th>139</th>\n",
       "      <td>17.609462</td>\n",
       "      <td>18.996362</td>\n",
       "    </tr>\n",
       "  </tbody>\n",
       "</table>\n",
       "<p>140 rows × 2 columns</p>\n",
       "</div>"
      ],
      "text/plain": [
       "        Actual  Predicted\n",
       "0    29.667360  28.979528\n",
       "1    56.687188  57.930708\n",
       "2    85.027790  83.886939\n",
       "3    73.138500  75.900406\n",
       "4    48.437538  53.937442\n",
       "..         ...        ...\n",
       "135  14.002263  16.001413\n",
       "136  94.151492  96.865054\n",
       "137  40.831821  42.955960\n",
       "138  19.471008  18.996362\n",
       "139  17.609462  18.996362\n",
       "\n",
       "[140 rows x 2 columns]"
      ]
     },
     "execution_count": 173,
     "metadata": {},
     "output_type": "execute_result"
    }
   ],
   "source": [
    "Y_predPoly = ployRegr.predict( polynom.fit_transform(X_test))\n",
    "df2 = pd.DataFrame({'Actual': Y_test.flatten(), 'Predicted': Y_pred.flatten()})\n",
    "df2"
   ]
  },
  {
   "cell_type": "code",
   "execution_count": 174,
   "metadata": {},
   "outputs": [
    {
     "data": {
      "text/html": [
       "\n",
       "\n",
       "\n",
       "\n",
       "\n",
       "\n",
       "  <div class=\"bk-root\" id=\"1bf7175d-81aa-44e6-9781-376c5a8a317e\" data-root-id=\"23186\"></div>\n"
      ]
     },
     "metadata": {},
     "output_type": "display_data"
    },
    {
     "data": {
      "application/javascript": [
       "(function(root) {\n",
       "  function embed_document(root) {\n",
       "    \n",
       "  var docs_json = {\"0e345304-e77a-4263-90f1-e5aae0077dc5\":{\"roots\":{\"references\":[{\"attributes\":{\"below\":[{\"id\":\"23197\",\"type\":\"LinearAxis\"}],\"center\":[{\"id\":\"23201\",\"type\":\"Grid\"},{\"id\":\"23206\",\"type\":\"Grid\"},{\"id\":\"23231\",\"type\":\"Legend\"}],\"left\":[{\"id\":\"23202\",\"type\":\"LinearAxis\"}],\"plot_width\":900,\"renderers\":[{\"id\":\"23223\",\"type\":\"GlyphRenderer\"},{\"id\":\"23236\",\"type\":\"GlyphRenderer\"}],\"title\":{\"id\":\"23187\",\"type\":\"Title\"},\"toolbar\":{\"id\":\"23213\",\"type\":\"Toolbar\"},\"x_range\":{\"id\":\"23189\",\"type\":\"DataRange1d\"},\"x_scale\":{\"id\":\"23193\",\"type\":\"LinearScale\"},\"y_range\":{\"id\":\"23191\",\"type\":\"DataRange1d\"},\"y_scale\":{\"id\":\"23195\",\"type\":\"LinearScale\"}},\"id\":\"23186\",\"subtype\":\"Figure\",\"type\":\"Plot\"},{\"attributes\":{\"data_source\":{\"id\":\"23220\",\"type\":\"ColumnDataSource\"},\"glyph\":{\"id\":\"23221\",\"type\":\"Line\"},\"hover_glyph\":null,\"muted_glyph\":null,\"nonselection_glyph\":{\"id\":\"23222\",\"type\":\"Line\"},\"selection_glyph\":null,\"view\":{\"id\":\"23224\",\"type\":\"CDSView\"}},\"id\":\"23223\",\"type\":\"GlyphRenderer\"},{\"attributes\":{},\"id\":\"23207\",\"type\":\"PanTool\"},{\"attributes\":{\"grid_line_alpha\":0.3,\"ticker\":{\"id\":\"23198\",\"type\":\"BasicTicker\"}},\"id\":\"23201\",\"type\":\"Grid\"},{\"attributes\":{},\"id\":\"23193\",\"type\":\"LinearScale\"},{\"attributes\":{},\"id\":\"23208\",\"type\":\"WheelZoomTool\"},{\"attributes\":{},\"id\":\"23195\",\"type\":\"LinearScale\"},{\"attributes\":{\"overlay\":{\"id\":\"23230\",\"type\":\"BoxAnnotation\"}},\"id\":\"23209\",\"type\":\"BoxZoomTool\"},{\"attributes\":{\"bottom_units\":\"screen\",\"fill_alpha\":{\"value\":0.5},\"fill_color\":{\"value\":\"lightgrey\"},\"left_units\":\"screen\",\"level\":\"overlay\",\"line_alpha\":{\"value\":1.0},\"line_color\":{\"value\":\"black\"},\"line_dash\":[4,4],\"line_width\":{\"value\":2},\"render_mode\":\"css\",\"right_units\":\"screen\",\"top_units\":\"screen\"},\"id\":\"23230\",\"type\":\"BoxAnnotation\"},{\"attributes\":{\"axis_label\":\"features\",\"formatter\":{\"id\":\"23229\",\"type\":\"BasicTickFormatter\"},\"ticker\":{\"id\":\"23198\",\"type\":\"BasicTicker\"}},\"id\":\"23197\",\"type\":\"LinearAxis\"},{\"attributes\":{},\"id\":\"23210\",\"type\":\"SaveTool\"},{\"attributes\":{\"source\":{\"id\":\"23220\",\"type\":\"ColumnDataSource\"}},\"id\":\"23224\",\"type\":\"CDSView\"},{\"attributes\":{},\"id\":\"23203\",\"type\":\"BasicTicker\"},{\"attributes\":{},\"id\":\"23227\",\"type\":\"BasicTickFormatter\"},{\"attributes\":{\"items\":[{\"id\":\"23232\",\"type\":\"LegendItem\"},{\"id\":\"23246\",\"type\":\"LegendItem\"}]},\"id\":\"23231\",\"type\":\"Legend\"},{\"attributes\":{},\"id\":\"23212\",\"type\":\"HelpTool\"},{\"attributes\":{},\"id\":\"23812\",\"type\":\"Selection\"},{\"attributes\":{},\"id\":\"23211\",\"type\":\"ResetTool\"},{\"attributes\":{},\"id\":\"23198\",\"type\":\"BasicTicker\"},{\"attributes\":{},\"id\":\"23229\",\"type\":\"BasicTickFormatter\"},{\"attributes\":{\"callback\":null},\"id\":\"23191\",\"type\":\"DataRange1d\"},{\"attributes\":{\"label\":{\"value\":\"target variable\"},\"renderers\":[{\"id\":\"23223\",\"type\":\"GlyphRenderer\"}]},\"id\":\"23232\",\"type\":\"LegendItem\"},{\"attributes\":{\"callback\":null,\"data\":{\"x\":[0,1,2,3,4,5,6,7,8,9,10,11,12,13,14,15,16,17,18,19,20,21,22,23,24,25,26,27,28,29,30,31,32,33,34,35,36,37,38,39,40,41,42,43,44,45,46,47,48,49,50,51,52,53,54,55,56,57,58,59,60,61,62,63,64,65,66,67,68,69,70,71,72,73,74,75,76,77,78,79,80,81,82,83,84,85,86,87,88,89,90,91,92,93,94,95,96,97,98,99,100,101,102,103,104,105,106,107,108,109,110,111,112,113,114,115,116,117,118,119,120,121,122,123,124,125,126,127,128,129,130,131,132,133,134,135,136,137,138,139],\"y\":{\"__ndarray__\":\"8p0HWsL6PED2qXdzIfdMQAvWhZvD+FRAkF9bQqD5UkB7M00a/vdKQJ9abZejeElAYyWQd0F3WED8sLKne/w4QD34t21s+ElAhUb4Z7f5RkAowbzTlQEuQFMkxpUO+lFAg9WgKiq6UUAx1GchTwMqQPywsqd7/DhAcSCizET2TkBJERtIVfhVQPU4IDaUt1dAdkvmErR6UEDTglf2e3ZOQLSGe79FelFA9ql3cyH3TEBWm9VfyzdXQO+7WN+ne0JALfftizl7Q0CGzfyWti8IQAC9IsHa+EhAsEAosGgUFECqc9BxjHhVQAC9IsHa+EhA77tY36d7QkBD//Khxv01QMKBjRRJ+UdAazKDOMt6REDBEDbXu7lSQCJz6wDzOVJA04JX9nt2TkA05Qwgs/ZNQOQ3VlRhOlFABcRd9TT+NEAic+sA8zlSQMiIyEij/jNAqnPQcYx4VUCKTTOcEf8yQAnQzQ6U+kRAAsPaTQr3WEAT43hcTfxAQMqDk2OeByBAQ//yocb9NUD8sLKne/w4QNskqwaoOFVAVpvVX8s3V0CBOohOWP02QKpz0HGMeFVAbRQys+X5PkAydLXiJbdYQPKdB1rC+jxA9TggNpS3V0D8sLKne/w4QGEf2OoReUhAMdRnIU8DKkCfWm2Xo3hJQO+7WN+ne0JAwHDoFeUFJEDbJKsGqDhVQJ3pFVoWOVRAVpvVX8s3V0Av/aUYaXlTQDnsR1QN/DlAyoOTY54HIEA75xJvCAUmQNKbc5ZcADBAtl09yCsEKEAL1oWbw/hUQJ3pFVoWOVRAlNZqDF03WEAw2ZwGVPo9QDyHYDDfuFRAGGBAszk4VkAa0ZfwxndLQCPkQj6AeUdARpoLfpi6UEBJERtIVfhVQIPVoCoqulFAEL7sog12T0DSm3OWXAAwQJ0a0hT2EBxA9ql3cyH3TEBrMoM4y3pEQK1KknpyAixAzprw7jH5U0DclQJENXhKQNOCV/Z7dk5A0ptzllwAMECdGtIU9hAcQCPkQj6AeUdAik0znBH/MkC5buLGj/dLQDnsR1QN/DlA8p0HWsL6PEAFxF31NP40QFab1V/LN1dAnRrSFPYQHECKTTOcEf8yQLBAKLBoFBRAYyWQd0F3WED2qXdzIfdMQDyHYDDfuFRAqnPQcYx4VUD2qXdzIfdMQGCugK2EOVNAwRA217u5UkBF+r28wQYiQPywsqd7/DhAJer6yq93V0A9+LdtbPhJQHZL5hK0elBA8p0HWsL6PEDormUeHnhWQLf9iokCuFZAGGBAszk4VkA57EdUDfw5QCJz6wDzOVJA8p0HWsL6PEAQvuyiDXZPQMSHRaF491dARfq9vMEGIkB0RS6GhHxAQDJ0teIlt1hAAL0iwdr4SEB3J90An/s6QCJz6wDzOVJAJer6yq93V0AydLXiJbdYQEkRG0hV+FVA0ptzllwAMECU1moMXTdYQKhtGOVcekVAik0znBH/MkCKTTOcEf8yQA==\",\"dtype\":\"float64\",\"shape\":[140]}},\"selected\":{\"id\":\"23812\",\"type\":\"Selection\"},\"selection_policy\":{\"id\":\"23813\",\"type\":\"UnionRenderers\"}},\"id\":\"23233\",\"type\":\"ColumnDataSource\"},{\"attributes\":{},\"id\":\"23244\",\"type\":\"Selection\"},{\"attributes\":{\"active_drag\":\"auto\",\"active_inspect\":\"auto\",\"active_multi\":null,\"active_scroll\":\"auto\",\"active_tap\":\"auto\",\"tools\":[{\"id\":\"23207\",\"type\":\"PanTool\"},{\"id\":\"23208\",\"type\":\"WheelZoomTool\"},{\"id\":\"23209\",\"type\":\"BoxZoomTool\"},{\"id\":\"23210\",\"type\":\"SaveTool\"},{\"id\":\"23211\",\"type\":\"ResetTool\"},{\"id\":\"23212\",\"type\":\"HelpTool\"}]},\"id\":\"23213\",\"type\":\"Toolbar\"},{\"attributes\":{\"callback\":null},\"id\":\"23189\",\"type\":\"DataRange1d\"},{\"attributes\":{\"line_color\":\"yellow\",\"line_width\":2,\"x\":{\"field\":\"x\"},\"y\":{\"field\":\"y\"}},\"id\":\"23221\",\"type\":\"Line\"},{\"attributes\":{},\"id\":\"23813\",\"type\":\"UnionRenderers\"},{\"attributes\":{\"text\":\"Actual vs Predicted for Polynomial Regression\"},\"id\":\"23187\",\"type\":\"Title\"},{\"attributes\":{\"dimension\":1,\"grid_line_alpha\":0.3,\"ticker\":{\"id\":\"23203\",\"type\":\"BasicTicker\"}},\"id\":\"23206\",\"type\":\"Grid\"},{\"attributes\":{\"line_alpha\":0.1,\"line_color\":\"#1f77b4\",\"line_width\":1.5,\"x\":{\"field\":\"x\"},\"y\":{\"field\":\"y\"}},\"id\":\"23235\",\"type\":\"Line\"},{\"attributes\":{\"callback\":null,\"data\":{\"x\":[0,1,2,3,4,5,6,7,8,9,10,11,12,13,14,15,16,17,18,19,20,21,22,23,24,25,26,27,28,29,30,31,32,33,34,35,36,37,38,39,40,41,42,43,44,45,46,47,48,49,50,51,52,53,54,55,56,57,58,59,60,61,62,63,64,65,66,67,68,69,70,71,72,73,74,75,76,77,78,79,80,81,82,83,84,85,86,87,88,89,90,91,92,93,94,95,96,97,98,99,100,101,102,103,104,105,106,107,108,109,110,111,112,113,114,115,116,117,118,119,120,121,122,123,124,125,126,127,128,129,130,131,132,133,134,135,136,137,138,139],\"y\":{\"__ndarray__\":\"bSkxGdiqPUCaTRXG9VdMQHmU503HQVVAzc79MN1IUkAjbPRBAThIQMYMOykfokpATNR/lCAmV0AXO47dDf41QCml0hUN2klApjBrOYKARkAE1dTsYMInQFTuFUjW01FAEa2yQpOXUUBH2EM9dTsqQJLpjs2nnzZA5kUeb48LTUAFLMH7jR5WQEhS0sMQDFhAIPmcHgjTT0C3cM3bYIJOQEYBy9+3bVJA6nbVh57OS0APzHYqxQBXQNhus1+U8URAmEHG7eEmQ0CEN8Kn22/6P/S+de6LfEhAibKWhgpxF0BHLLUgDNJUQKf5dIZzu0dARCsgguTYQkD9azfJqAM1QLu5dKP6Y0dA6AEDczo7RkBHr8QL+/1SQNKN0bbxbVFALgZqjLExTkCKeMru8n5MQDAULOVn0FFANvhODpcDL0Avk3bdutNRQNn8bKKeVzhAW9RhZA2SVUBMwZ6fd1gxQD/xUqAFo0VAu4jGRTvAWECORz7pI30+QMmfQooOlh9A6VTocjl2MUCyYW5zOlo7QBA+Ukw3rFRAtI2ie1SjV0CYQaXf+AUzQEBEMC+8NlZASphI7W4LPUAL/5a+H75XQMDJeIzZpzpAFy1A22ovWUAs2W/1tZw4QPcx7h9uQEpABTs4t41PKUB4xzGrWnhKQB3i5QrrS0FAV5Xq8zJ2IkBKc/HYC4xVQB20kcpYdVNAbOpdOOeoV0ADEG+EophTQOGj1ftTZzpAsCBJIJCBLUABCDTl/rcgQBgA0zejeSZAEtoh58U5G0DeLNKCX2FVQPAmjQsmXVRAFpPMJEmhWEAcB387YD4/QEV5zUhQk1VAN1QIu1NhVUDbuM1tpTNLQAHWkcDyZUhAnXmDedlAUECAykKFtANWQHli7yhCyVJAXCoErDTWT0DTdbiItQgxQB0w8UKYTRBAzokcpqYjTkAB2nfBN6dAQMM52bxgQChAzikza8pIU0Cr+BJsVI5MQDV/Ck+BGU5A82hX38gqMEAWa8qr+fsXQGl35QaFzUpAK1+GteciNkAXIQIvL59NQBlJDhryHTpAPW1De6tVOkAEwB1Nmos2QP+OLIkBqFdAX9Jp9KLWHUC9KVkMJqk2QB8FeKCIZBBA7abvkL2fWUAmzThwe2ZPQDUw6kEezlVA/G/jHqQkVkC+00spO0ZLQN/aT+fGh1JAfIH2dk3fUkCn6gKELecUQLKSAzQZMEBAnj1+DCkMWEDAHY+2/XlKQNhJXEtxk09AveinD4+nO0Aud0V0eCdWQIP1A0cXu1dAd4DMc6lGVkDa6Dl1Jzk8QNt+v7m7/lFA1gTuzEZXPUDa7Q6EP0dPQAKrNHPSFlhAAlqh5cy0J0AKnfjmjolBQOGhg4kaBllAOab+rL8lSEBnwHLnNpU4QDOqDOPumVFAF5tWCsGEV0D8OLsxFOFYQCaH9IAepVZAnkisnCgBLEBv08ALsolXQF12oRx5akRAH8Lw+JN4M0CACqq6BZwxQA==\",\"dtype\":\"float64\",\"shape\":[140]}},\"selected\":{\"id\":\"23244\",\"type\":\"Selection\"},\"selection_policy\":{\"id\":\"23245\",\"type\":\"UnionRenderers\"}},\"id\":\"23220\",\"type\":\"ColumnDataSource\"},{\"attributes\":{\"data_source\":{\"id\":\"23233\",\"type\":\"ColumnDataSource\"},\"glyph\":{\"id\":\"23234\",\"type\":\"Line\"},\"hover_glyph\":null,\"muted_glyph\":null,\"nonselection_glyph\":{\"id\":\"23235\",\"type\":\"Line\"},\"selection_glyph\":null,\"view\":{\"id\":\"23237\",\"type\":\"CDSView\"}},\"id\":\"23236\",\"type\":\"GlyphRenderer\"},{\"attributes\":{\"line_alpha\":0.1,\"line_color\":\"#1f77b4\",\"line_width\":2,\"x\":{\"field\":\"x\"},\"y\":{\"field\":\"y\"}},\"id\":\"23222\",\"type\":\"Line\"},{\"attributes\":{},\"id\":\"23245\",\"type\":\"UnionRenderers\"},{\"attributes\":{\"label\":{\"value\":\"predicted value\"},\"renderers\":[{\"id\":\"23236\",\"type\":\"GlyphRenderer\"}]},\"id\":\"23246\",\"type\":\"LegendItem\"},{\"attributes\":{\"line_color\":\"red\",\"line_width\":1.5,\"x\":{\"field\":\"x\"},\"y\":{\"field\":\"y\"}},\"id\":\"23234\",\"type\":\"Line\"},{\"attributes\":{\"axis_label\":\"values\",\"formatter\":{\"id\":\"23227\",\"type\":\"BasicTickFormatter\"},\"ticker\":{\"id\":\"23203\",\"type\":\"BasicTicker\"}},\"id\":\"23202\",\"type\":\"LinearAxis\"},{\"attributes\":{\"source\":{\"id\":\"23233\",\"type\":\"ColumnDataSource\"}},\"id\":\"23237\",\"type\":\"CDSView\"}],\"root_ids\":[\"23186\"]},\"title\":\"Bokeh Application\",\"version\":\"1.4.0\"}};\n",
       "  var render_items = [{\"docid\":\"0e345304-e77a-4263-90f1-e5aae0077dc5\",\"roots\":{\"23186\":\"1bf7175d-81aa-44e6-9781-376c5a8a317e\"}}];\n",
       "  root.Bokeh.embed.embed_items_notebook(docs_json, render_items);\n",
       "\n",
       "  }\n",
       "  if (root.Bokeh !== undefined) {\n",
       "    embed_document(root);\n",
       "  } else {\n",
       "    var attempts = 0;\n",
       "    var timer = setInterval(function(root) {\n",
       "      if (root.Bokeh !== undefined) {\n",
       "        clearInterval(timer);\n",
       "        embed_document(root);\n",
       "      } else {\n",
       "        attempts++;\n",
       "        if (attempts > 100) {\n",
       "          clearInterval(timer);\n",
       "          console.log(\"Bokeh: ERROR: Unable to run BokehJS code because BokehJS library is missing\");\n",
       "        }\n",
       "      }\n",
       "    }, 10, root)\n",
       "  }\n",
       "})(window);"
      ],
      "application/vnd.bokehjs_exec.v0+json": ""
     },
     "metadata": {
      "application/vnd.bokehjs_exec.v0+json": {
       "id": "23186"
      }
     },
     "output_type": "display_data"
    }
   ],
   "source": [
    "p1 = figure(title = \"Actual vs Predicted for Polynomial Regression\", width=900)\n",
    "p1.grid.grid_line_alpha=0.3\n",
    "p1.xaxis.axis_label = 'features'\n",
    "p1.yaxis.axis_label = 'values'\n",
    "\n",
    "p1.line(df2.index,df2['Actual'],color = 'yellow',line_width = 2,legend_label = \"target variable\")\n",
    "p1.line(df2.index,df2['Predicted'] , color = 'red',line_width = 1.5,legend_label = \"predicted value\")\n",
    "\n",
    "show(p1)"
   ]
  },
  {
   "cell_type": "code",
   "execution_count": 175,
   "metadata": {},
   "outputs": [
    {
     "data": {
      "text/html": [
       "\n",
       "\n",
       "\n",
       "\n",
       "\n",
       "\n",
       "  <div class=\"bk-root\" id=\"c597909c-e37d-49e9-9caf-fffe4b8512dd\" data-root-id=\"23874\"></div>\n"
      ]
     },
     "metadata": {},
     "output_type": "display_data"
    },
    {
     "data": {
      "application/javascript": [
       "(function(root) {\n",
       "  function embed_document(root) {\n",
       "    \n",
       "  var docs_json = {\"8be5ee51-7b73-4bb3-8666-8f65629e37cd\":{\"roots\":{\"references\":[{\"attributes\":{\"below\":[{\"id\":\"23885\",\"type\":\"LinearAxis\"}],\"center\":[{\"id\":\"23889\",\"type\":\"Grid\"},{\"id\":\"23894\",\"type\":\"Grid\"}],\"left\":[{\"id\":\"23890\",\"type\":\"LinearAxis\"}],\"plot_width\":1000,\"renderers\":[{\"id\":\"23911\",\"type\":\"GlyphRenderer\"},{\"id\":\"23916\",\"type\":\"GlyphRenderer\"}],\"title\":{\"id\":\"23875\",\"type\":\"Title\"},\"toolbar\":{\"id\":\"23901\",\"type\":\"Toolbar\"},\"x_range\":{\"id\":\"23877\",\"type\":\"DataRange1d\"},\"x_scale\":{\"id\":\"23881\",\"type\":\"LinearScale\"},\"y_range\":{\"id\":\"23879\",\"type\":\"DataRange1d\"},\"y_scale\":{\"id\":\"23883\",\"type\":\"LinearScale\"}},\"id\":\"23874\",\"subtype\":\"Figure\",\"type\":\"Plot\"},{\"attributes\":{},\"id\":\"23891\",\"type\":\"BasicTicker\"},{\"attributes\":{\"callback\":null,\"data\":{\"x\":{\"__ndarray__\":\"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\",\"dtype\":\"float64\",\"shape\":[559]},\"y\":{\"__ndarray__\":\"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\",\"dtype\":\"float64\",\"shape\":[559]}},\"selected\":{\"id\":\"24493\",\"type\":\"Selection\"},\"selection_policy\":{\"id\":\"24494\",\"type\":\"UnionRenderers\"}},\"id\":\"23913\",\"type\":\"ColumnDataSource\"},{\"attributes\":{\"callback\":null},\"id\":\"23879\",\"type\":\"DataRange1d\"},{\"attributes\":{\"callback\":null},\"id\":\"23877\",\"type\":\"DataRange1d\"},{\"attributes\":{\"fill_alpha\":{\"value\":0.1},\"fill_color\":{\"value\":\"#1f77b4\"},\"line_alpha\":{\"value\":0.1},\"line_color\":{\"value\":\"#1f77b4\"},\"x\":{\"field\":\"x\"},\"y\":{\"field\":\"y\"}},\"id\":\"23910\",\"type\":\"Cross\"},{\"attributes\":{},\"id\":\"24492\",\"type\":\"UnionRenderers\"},{\"attributes\":{},\"id\":\"24491\",\"type\":\"Selection\"},{\"attributes\":{},\"id\":\"23896\",\"type\":\"WheelZoomTool\"},{\"attributes\":{\"axis_label\":\"Values\",\"formatter\":{\"id\":\"24487\",\"type\":\"BasicTickFormatter\"},\"ticker\":{\"id\":\"23891\",\"type\":\"BasicTicker\"}},\"id\":\"23890\",\"type\":\"LinearAxis\"},{\"attributes\":{\"active_drag\":\"auto\",\"active_inspect\":\"auto\",\"active_multi\":null,\"active_scroll\":\"auto\",\"active_tap\":\"auto\",\"tools\":[{\"id\":\"23895\",\"type\":\"PanTool\"},{\"id\":\"23896\",\"type\":\"WheelZoomTool\"},{\"id\":\"23897\",\"type\":\"BoxZoomTool\"},{\"id\":\"23898\",\"type\":\"SaveTool\"},{\"id\":\"23899\",\"type\":\"ResetTool\"},{\"id\":\"23900\",\"type\":\"HelpTool\"}]},\"id\":\"23901\",\"type\":\"Toolbar\"},{\"attributes\":{},\"id\":\"23898\",\"type\":\"SaveTool\"},{\"attributes\":{\"source\":{\"id\":\"23908\",\"type\":\"ColumnDataSource\"}},\"id\":\"23912\",\"type\":\"CDSView\"},{\"attributes\":{\"overlay\":{\"id\":\"24490\",\"type\":\"BoxAnnotation\"}},\"id\":\"23897\",\"type\":\"BoxZoomTool\"},{\"attributes\":{},\"id\":\"24489\",\"type\":\"BasicTickFormatter\"},{\"attributes\":{},\"id\":\"23886\",\"type\":\"BasicTicker\"},{\"attributes\":{\"data_source\":{\"id\":\"23908\",\"type\":\"ColumnDataSource\"},\"glyph\":{\"id\":\"23909\",\"type\":\"Cross\"},\"hover_glyph\":null,\"muted_glyph\":null,\"nonselection_glyph\":{\"id\":\"23910\",\"type\":\"Cross\"},\"selection_glyph\":null,\"view\":{\"id\":\"23912\",\"type\":\"CDSView\"}},\"id\":\"23911\",\"type\":\"GlyphRenderer\"},{\"attributes\":{\"axis_label\":\"features\",\"formatter\":{\"id\":\"24489\",\"type\":\"BasicTickFormatter\"},\"ticker\":{\"id\":\"23886\",\"type\":\"BasicTicker\"}},\"id\":\"23885\",\"type\":\"LinearAxis\"},{\"attributes\":{},\"id\":\"23895\",\"type\":\"PanTool\"},{\"attributes\":{\"line_color\":\"red\",\"x\":{\"field\":\"x\"},\"y\":{\"field\":\"y\"}},\"id\":\"23914\",\"type\":\"Line\"},{\"attributes\":{},\"id\":\"24487\",\"type\":\"BasicTickFormatter\"},{\"attributes\":{\"bottom_units\":\"screen\",\"fill_alpha\":{\"value\":0.5},\"fill_color\":{\"value\":\"lightgrey\"},\"left_units\":\"screen\",\"level\":\"overlay\",\"line_alpha\":{\"value\":1.0},\"line_color\":{\"value\":\"black\"},\"line_dash\":[4,4],\"line_width\":{\"value\":2},\"render_mode\":\"css\",\"right_units\":\"screen\",\"top_units\":\"screen\"},\"id\":\"24490\",\"type\":\"BoxAnnotation\"},{\"attributes\":{\"fill_color\":{\"value\":\"blue\"},\"line_color\":{\"value\":\"blue\"},\"x\":{\"field\":\"x\"},\"y\":{\"field\":\"y\"}},\"id\":\"23909\",\"type\":\"Cross\"},{\"attributes\":{\"callback\":null,\"data\":{\"x\":{\"__ndarray__\":\"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\",\"dtype\":\"float64\",\"shape\":[559]},\"y\":{\"__ndarray__\":\"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\",\"dtype\":\"float64\",\"shape\":[559]}},\"selected\":{\"id\":\"24491\",\"type\":\"Selection\"},\"selection_policy\":{\"id\":\"24492\",\"type\":\"UnionRenderers\"}},\"id\":\"23908\",\"type\":\"ColumnDataSource\"},{\"attributes\":{\"source\":{\"id\":\"23913\",\"type\":\"ColumnDataSource\"}},\"id\":\"23917\",\"type\":\"CDSView\"},{\"attributes\":{},\"id\":\"24494\",\"type\":\"UnionRenderers\"},{\"attributes\":{},\"id\":\"23881\",\"type\":\"LinearScale\"},{\"attributes\":{},\"id\":\"24493\",\"type\":\"Selection\"},{\"attributes\":{\"line_alpha\":0.1,\"line_color\":\"#1f77b4\",\"x\":{\"field\":\"x\"},\"y\":{\"field\":\"y\"}},\"id\":\"23915\",\"type\":\"Line\"},{\"attributes\":{},\"id\":\"23883\",\"type\":\"LinearScale\"},{\"attributes\":{},\"id\":\"23899\",\"type\":\"ResetTool\"},{\"attributes\":{\"data_source\":{\"id\":\"23913\",\"type\":\"ColumnDataSource\"},\"glyph\":{\"id\":\"23914\",\"type\":\"Line\"},\"hover_glyph\":null,\"muted_glyph\":null,\"nonselection_glyph\":{\"id\":\"23915\",\"type\":\"Line\"},\"selection_glyph\":null,\"view\":{\"id\":\"23917\",\"type\":\"CDSView\"}},\"id\":\"23916\",\"type\":\"GlyphRenderer\"},{\"attributes\":{\"dimension\":1,\"grid_line_alpha\":0.3,\"ticker\":{\"id\":\"23891\",\"type\":\"BasicTicker\"}},\"id\":\"23894\",\"type\":\"Grid\"},{\"attributes\":{},\"id\":\"23900\",\"type\":\"HelpTool\"},{\"attributes\":{\"grid_line_alpha\":0.3,\"ticker\":{\"id\":\"23886\",\"type\":\"BasicTicker\"}},\"id\":\"23889\",\"type\":\"Grid\"},{\"attributes\":{\"text\":\"Visualising Polynomial Regression result on training set\"},\"id\":\"23875\",\"type\":\"Title\"}],\"root_ids\":[\"23874\"]},\"title\":\"Bokeh Application\",\"version\":\"1.4.0\"}};\n",
       "  var render_items = [{\"docid\":\"8be5ee51-7b73-4bb3-8666-8f65629e37cd\",\"roots\":{\"23874\":\"c597909c-e37d-49e9-9caf-fffe4b8512dd\"}}];\n",
       "  root.Bokeh.embed.embed_items_notebook(docs_json, render_items);\n",
       "\n",
       "  }\n",
       "  if (root.Bokeh !== undefined) {\n",
       "    embed_document(root);\n",
       "  } else {\n",
       "    var attempts = 0;\n",
       "    var timer = setInterval(function(root) {\n",
       "      if (root.Bokeh !== undefined) {\n",
       "        clearInterval(timer);\n",
       "        embed_document(root);\n",
       "      } else {\n",
       "        attempts++;\n",
       "        if (attempts > 100) {\n",
       "          clearInterval(timer);\n",
       "          console.log(\"Bokeh: ERROR: Unable to run BokehJS code because BokehJS library is missing\");\n",
       "        }\n",
       "      }\n",
       "    }, 10, root)\n",
       "  }\n",
       "})(window);"
      ],
      "application/vnd.bokehjs_exec.v0+json": ""
     },
     "metadata": {
      "application/vnd.bokehjs_exec.v0+json": {
       "id": "23874"
      }
     },
     "output_type": "display_data"
    }
   ],
   "source": [
    "p1 = figure(title = \"Visualising Polynomial Regression result on training set\", width=1000)\n",
    "p1.grid.grid_line_alpha=0.3\n",
    "p1.xaxis.axis_label = 'features'\n",
    "p1.yaxis.axis_label = 'Values'\n",
    "\n",
    "p1.cross(X_train.flatten(),Y_train.flatten(), color='blue')\n",
    "p1.line(X_train.flatten(),y = ployRegr.predict(X_polynom).flatten(), color='red')\n",
    "\n",
    "\n",
    "\n",
    "show(p1)"
   ]
  },
  {
   "cell_type": "code",
   "execution_count": 176,
   "metadata": {
    "scrolled": false
   },
   "outputs": [
    {
     "data": {
      "text/html": [
       "\n",
       "\n",
       "\n",
       "\n",
       "\n",
       "\n",
       "  <div class=\"bk-root\" id=\"06939971-45e1-4d0f-987c-d7f7523bd2db\" data-root-id=\"24555\"></div>\n"
      ]
     },
     "metadata": {},
     "output_type": "display_data"
    },
    {
     "data": {
      "application/javascript": [
       "(function(root) {\n",
       "  function embed_document(root) {\n",
       "    \n",
       "  var docs_json = {\"0e26497c-4a15-4f21-bde3-05f5dcd98cef\":{\"roots\":{\"references\":[{\"attributes\":{\"below\":[{\"id\":\"24566\",\"type\":\"LinearAxis\"}],\"center\":[{\"id\":\"24570\",\"type\":\"Grid\"},{\"id\":\"24575\",\"type\":\"Grid\"}],\"left\":[{\"id\":\"24571\",\"type\":\"LinearAxis\"}],\"plot_width\":1000,\"renderers\":[{\"id\":\"24592\",\"type\":\"GlyphRenderer\"},{\"id\":\"24597\",\"type\":\"GlyphRenderer\"}],\"title\":{\"id\":\"24556\",\"type\":\"Title\"},\"toolbar\":{\"id\":\"24582\",\"type\":\"Toolbar\"},\"x_range\":{\"id\":\"24558\",\"type\":\"DataRange1d\"},\"x_scale\":{\"id\":\"24562\",\"type\":\"LinearScale\"},\"y_range\":{\"id\":\"24560\",\"type\":\"DataRange1d\"},\"y_scale\":{\"id\":\"24564\",\"type\":\"LinearScale\"}},\"id\":\"24555\",\"subtype\":\"Figure\",\"type\":\"Plot\"},{\"attributes\":{\"line_color\":\"red\",\"x\":{\"field\":\"x\"},\"y\":{\"field\":\"y\"}},\"id\":\"24595\",\"type\":\"Line\"},{\"attributes\":{},\"id\":\"24567\",\"type\":\"BasicTicker\"},{\"attributes\":{\"fill_alpha\":{\"value\":0.1},\"fill_color\":{\"value\":\"#1f77b4\"},\"line_alpha\":{\"value\":0.1},\"line_color\":{\"value\":\"#1f77b4\"},\"x\":{\"field\":\"x\"},\"y\":{\"field\":\"y\"}},\"id\":\"24591\",\"type\":\"Cross\"},{\"attributes\":{},\"id\":\"24564\",\"type\":\"LinearScale\"},{\"attributes\":{},\"id\":\"24581\",\"type\":\"HelpTool\"},{\"attributes\":{},\"id\":\"24572\",\"type\":\"BasicTicker\"},{\"attributes\":{\"line_alpha\":0.1,\"line_color\":\"#1f77b4\",\"x\":{\"field\":\"x\"},\"y\":{\"field\":\"y\"}},\"id\":\"24596\",\"type\":\"Line\"},{\"attributes\":{\"data_source\":{\"id\":\"24594\",\"type\":\"ColumnDataSource\"},\"glyph\":{\"id\":\"24595\",\"type\":\"Line\"},\"hover_glyph\":null,\"muted_glyph\":null,\"nonselection_glyph\":{\"id\":\"24596\",\"type\":\"Line\"},\"selection_glyph\":null,\"view\":{\"id\":\"24598\",\"type\":\"CDSView\"}},\"id\":\"24597\",\"type\":\"GlyphRenderer\"},{\"attributes\":{\"source\":{\"id\":\"24594\",\"type\":\"ColumnDataSource\"}},\"id\":\"24598\",\"type\":\"CDSView\"},{\"attributes\":{},\"id\":\"25183\",\"type\":\"UnionRenderers\"},{\"attributes\":{\"bottom_units\":\"screen\",\"fill_alpha\":{\"value\":0.5},\"fill_color\":{\"value\":\"lightgrey\"},\"left_units\":\"screen\",\"level\":\"overlay\",\"line_alpha\":{\"value\":1.0},\"line_color\":{\"value\":\"black\"},\"line_dash\":[4,4],\"line_width\":{\"value\":2},\"render_mode\":\"css\",\"right_units\":\"screen\",\"top_units\":\"screen\"},\"id\":\"25181\",\"type\":\"BoxAnnotation\"},{\"attributes\":{},\"id\":\"25182\",\"type\":\"Selection\"},{\"attributes\":{\"callback\":null},\"id\":\"24558\",\"type\":\"DataRange1d\"},{\"attributes\":{\"fill_color\":{\"value\":\"blue\"},\"line_color\":{\"value\":\"blue\"},\"x\":{\"field\":\"x\"},\"y\":{\"field\":\"y\"}},\"id\":\"24590\",\"type\":\"Cross\"},{\"attributes\":{},\"id\":\"24579\",\"type\":\"SaveTool\"},{\"attributes\":{},\"id\":\"25178\",\"type\":\"BasicTickFormatter\"},{\"attributes\":{\"active_drag\":\"auto\",\"active_inspect\":\"auto\",\"active_multi\":null,\"active_scroll\":\"auto\",\"active_tap\":\"auto\",\"tools\":[{\"id\":\"24576\",\"type\":\"PanTool\"},{\"id\":\"24577\",\"type\":\"WheelZoomTool\"},{\"id\":\"24578\",\"type\":\"BoxZoomTool\"},{\"id\":\"24579\",\"type\":\"SaveTool\"},{\"id\":\"24580\",\"type\":\"ResetTool\"},{\"id\":\"24581\",\"type\":\"HelpTool\"}]},\"id\":\"24582\",\"type\":\"Toolbar\"},{\"attributes\":{\"overlay\":{\"id\":\"25181\",\"type\":\"BoxAnnotation\"}},\"id\":\"24578\",\"type\":\"BoxZoomTool\"},{\"attributes\":{},\"id\":\"25185\",\"type\":\"UnionRenderers\"},{\"attributes\":{\"callback\":null,\"data\":{\"x\":{\"__ndarray__\":\"AAAAAAAAPUAAAAAAAABNQAAAAAAAAFVAAAAAAAAAU0AAAAAAAABLQAAAAAAAgElAAAAAAACAWEAAAAAAAAA5QAAAAAAAAEpAAAAAAAAAR0AAAAAAAAAuQAAAAAAAAFJAAAAAAADAUUAAAAAAAAAqQAAAAAAAADlAAAAAAAAAT0AAAAAAAABWQAAAAAAAwFdAAAAAAACAUEAAAAAAAIBOQAAAAAAAgFFAAAAAAAAATUAAAAAAAEBXQAAAAAAAgEJAAAAAAACAQ0AAAAAAAAAIQAAAAAAAAElAAAAAAAAAFEAAAAAAAIBVQAAAAAAAAElAAAAAAACAQkAAAAAAAAA2QAAAAAAAAEhAAAAAAACAREAAAAAAAMBSQAAAAAAAQFJAAAAAAACATkAAAAAAAABOQAAAAAAAQFFAAAAAAAAANUAAAAAAAEBSQAAAAAAAADRAAAAAAACAVUAAAAAAAAAzQAAAAAAAAEVAAAAAAAAAWUAAAAAAAABBQAAAAAAAACBAAAAAAAAANkAAAAAAAAA5QAAAAAAAQFVAAAAAAABAV0AAAAAAAAA3QAAAAAAAgFVAAAAAAAAAP0AAAAAAAMBYQAAAAAAAAD1AAAAAAADAV0AAAAAAAAA5QAAAAAAAgEhAAAAAAAAAKkAAAAAAAIBJQAAAAAAAgEJAAAAAAAAAJEAAAAAAAEBVQAAAAAAAQFRAAAAAAABAV0AAAAAAAIBTQAAAAAAAADpAAAAAAAAAIEAAAAAAAAAmQAAAAAAAADBAAAAAAAAAKEAAAAAAAABVQAAAAAAAQFRAAAAAAABAWEAAAAAAAAA+QAAAAAAAwFRAAAAAAABAVkAAAAAAAIBLQAAAAAAAgEdAAAAAAADAUEAAAAAAAABWQAAAAAAAwFFAAAAAAACAT0AAAAAAAAAwQAAAAAAAABxAAAAAAAAATUAAAAAAAIBEQAAAAAAAACxAAAAAAAAAVEAAAAAAAIBKQAAAAAAAgE5AAAAAAAAAMEAAAAAAAAAcQAAAAAAAgEdAAAAAAAAAM0AAAAAAAABMQAAAAAAAADpAAAAAAAAAPUAAAAAAAAA1QAAAAAAAQFdAAAAAAAAAHEAAAAAAAAAzQAAAAAAAABRAAAAAAACAWEAAAAAAAABNQAAAAAAAwFRAAAAAAACAVUAAAAAAAABNQAAAAAAAQFNAAAAAAADAUkAAAAAAAAAiQAAAAAAAADlAAAAAAACAV0AAAAAAAABKQAAAAAAAgFBAAAAAAAAAPUAAAAAAAIBWQAAAAAAAwFZAAAAAAABAVkAAAAAAAAA6QAAAAAAAQFJAAAAAAAAAPUAAAAAAAIBPQAAAAAAAAFhAAAAAAAAAIkAAAAAAAIBAQAAAAAAAwFhAAAAAAAAASUAAAAAAAAA7QAAAAAAAQFJAAAAAAACAV0AAAAAAAMBYQAAAAAAAAFZAAAAAAAAAMEAAAAAAAEBYQAAAAAAAgEVAAAAAAAAAM0AAAAAAAAAzQA==\",\"dtype\":\"float64\",\"shape\":[140]},\"y\":{\"__ndarray__\":\"bSkxGdiqPUCaTRXG9VdMQHmU503HQVVAzc79MN1IUkAjbPRBAThIQMYMOykfokpATNR/lCAmV0AXO47dDf41QCml0hUN2klApjBrOYKARkAE1dTsYMInQFTuFUjW01FAEa2yQpOXUUBH2EM9dTsqQJLpjs2nnzZA5kUeb48LTUAFLMH7jR5WQEhS0sMQDFhAIPmcHgjTT0C3cM3bYIJOQEYBy9+3bVJA6nbVh57OS0APzHYqxQBXQNhus1+U8URAmEHG7eEmQ0CEN8Kn22/6P/S+de6LfEhAibKWhgpxF0BHLLUgDNJUQKf5dIZzu0dARCsgguTYQkD9azfJqAM1QLu5dKP6Y0dA6AEDczo7RkBHr8QL+/1SQNKN0bbxbVFALgZqjLExTkCKeMru8n5MQDAULOVn0FFANvhODpcDL0Avk3bdutNRQNn8bKKeVzhAW9RhZA2SVUBMwZ6fd1gxQD/xUqAFo0VAu4jGRTvAWECORz7pI30+QMmfQooOlh9A6VTocjl2MUCyYW5zOlo7QBA+Ukw3rFRAtI2ie1SjV0CYQaXf+AUzQEBEMC+8NlZASphI7W4LPUAL/5a+H75XQMDJeIzZpzpAFy1A22ovWUAs2W/1tZw4QPcx7h9uQEpABTs4t41PKUB4xzGrWnhKQB3i5QrrS0FAV5Xq8zJ2IkBKc/HYC4xVQB20kcpYdVNAbOpdOOeoV0ADEG+EophTQOGj1ftTZzpAsCBJIJCBLUABCDTl/rcgQBgA0zejeSZAEtoh58U5G0DeLNKCX2FVQPAmjQsmXVRAFpPMJEmhWEAcB387YD4/QEV5zUhQk1VAN1QIu1NhVUDbuM1tpTNLQAHWkcDyZUhAnXmDedlAUECAykKFtANWQHli7yhCyVJAXCoErDTWT0DTdbiItQgxQB0w8UKYTRBAzokcpqYjTkAB2nfBN6dAQMM52bxgQChAzikza8pIU0Cr+BJsVI5MQDV/Ck+BGU5A82hX38gqMEAWa8qr+fsXQGl35QaFzUpAK1+GteciNkAXIQIvL59NQBlJDhryHTpAPW1De6tVOkAEwB1Nmos2QP+OLIkBqFdAX9Jp9KLWHUC9KVkMJqk2QB8FeKCIZBBA7abvkL2fWUAmzThwe2ZPQDUw6kEezlVA/G/jHqQkVkC+00spO0ZLQN/aT+fGh1JAfIH2dk3fUkCn6gKELecUQLKSAzQZMEBAnj1+DCkMWEDAHY+2/XlKQNhJXEtxk09AveinD4+nO0Aud0V0eCdWQIP1A0cXu1dAd4DMc6lGVkDa6Dl1Jzk8QNt+v7m7/lFA1gTuzEZXPUDa7Q6EP0dPQAKrNHPSFlhAAlqh5cy0J0AKnfjmjolBQOGhg4kaBllAOab+rL8lSEBnwHLnNpU4QDOqDOPumVFAF5tWCsGEV0D8OLsxFOFYQCaH9IAepVZAnkisnCgBLEBv08ALsolXQF12oRx5akRAH8Lw+JN4M0CACqq6BZwxQA==\",\"dtype\":\"float64\",\"shape\":[140]}},\"selected\":{\"id\":\"25182\",\"type\":\"Selection\"},\"selection_policy\":{\"id\":\"25183\",\"type\":\"UnionRenderers\"}},\"id\":\"24589\",\"type\":\"ColumnDataSource\"},{\"attributes\":{\"data_source\":{\"id\":\"24589\",\"type\":\"ColumnDataSource\"},\"glyph\":{\"id\":\"24590\",\"type\":\"Cross\"},\"hover_glyph\":null,\"muted_glyph\":null,\"nonselection_glyph\":{\"id\":\"24591\",\"type\":\"Cross\"},\"selection_glyph\":null,\"view\":{\"id\":\"24593\",\"type\":\"CDSView\"}},\"id\":\"24592\",\"type\":\"GlyphRenderer\"},{\"attributes\":{\"dimension\":1,\"grid_line_alpha\":0.3,\"ticker\":{\"id\":\"24572\",\"type\":\"BasicTicker\"}},\"id\":\"24575\",\"type\":\"Grid\"},{\"attributes\":{},\"id\":\"25184\",\"type\":\"Selection\"},{\"attributes\":{},\"id\":\"24562\",\"type\":\"LinearScale\"},{\"attributes\":{},\"id\":\"24580\",\"type\":\"ResetTool\"},{\"attributes\":{},\"id\":\"25180\",\"type\":\"BasicTickFormatter\"},{\"attributes\":{\"text\":\"Visualising Polynomial Regression result on testing set\"},\"id\":\"24556\",\"type\":\"Title\"},{\"attributes\":{},\"id\":\"24577\",\"type\":\"WheelZoomTool\"},{\"attributes\":{\"source\":{\"id\":\"24589\",\"type\":\"ColumnDataSource\"}},\"id\":\"24593\",\"type\":\"CDSView\"},{\"attributes\":{\"callback\":null,\"data\":{\"x\":{\"__ndarray__\":\"AAAAAAAAPUAAAAAAAABNQAAAAAAAAFVAAAAAAAAAU0AAAAAAAABLQAAAAAAAgElAAAAAAACAWEAAAAAAAAA5QAAAAAAAAEpAAAAAAAAAR0AAAAAAAAAuQAAAAAAAAFJAAAAAAADAUUAAAAAAAAAqQAAAAAAAADlAAAAAAAAAT0AAAAAAAABWQAAAAAAAwFdAAAAAAACAUEAAAAAAAIBOQAAAAAAAgFFAAAAAAAAATUAAAAAAAEBXQAAAAAAAgEJAAAAAAACAQ0AAAAAAAAAIQAAAAAAAAElAAAAAAAAAFEAAAAAAAIBVQAAAAAAAAElAAAAAAACAQkAAAAAAAAA2QAAAAAAAAEhAAAAAAACAREAAAAAAAMBSQAAAAAAAQFJAAAAAAACATkAAAAAAAABOQAAAAAAAQFFAAAAAAAAANUAAAAAAAEBSQAAAAAAAADRAAAAAAACAVUAAAAAAAAAzQAAAAAAAAEVAAAAAAAAAWUAAAAAAAABBQAAAAAAAACBAAAAAAAAANkAAAAAAAAA5QAAAAAAAQFVAAAAAAABAV0AAAAAAAAA3QAAAAAAAgFVAAAAAAAAAP0AAAAAAAMBYQAAAAAAAAD1AAAAAAADAV0AAAAAAAAA5QAAAAAAAgEhAAAAAAAAAKkAAAAAAAIBJQAAAAAAAgEJAAAAAAAAAJEAAAAAAAEBVQAAAAAAAQFRAAAAAAABAV0AAAAAAAIBTQAAAAAAAADpAAAAAAAAAIEAAAAAAAAAmQAAAAAAAADBAAAAAAAAAKEAAAAAAAABVQAAAAAAAQFRAAAAAAABAWEAAAAAAAAA+QAAAAAAAwFRAAAAAAABAVkAAAAAAAIBLQAAAAAAAgEdAAAAAAADAUEAAAAAAAABWQAAAAAAAwFFAAAAAAACAT0AAAAAAAAAwQAAAAAAAABxAAAAAAAAATUAAAAAAAIBEQAAAAAAAACxAAAAAAAAAVEAAAAAAAIBKQAAAAAAAgE5AAAAAAAAAMEAAAAAAAAAcQAAAAAAAgEdAAAAAAAAAM0AAAAAAAABMQAAAAAAAADpAAAAAAAAAPUAAAAAAAAA1QAAAAAAAQFdAAAAAAAAAHEAAAAAAAAAzQAAAAAAAABRAAAAAAACAWEAAAAAAAABNQAAAAAAAwFRAAAAAAACAVUAAAAAAAABNQAAAAAAAQFNAAAAAAADAUkAAAAAAAAAiQAAAAAAAADlAAAAAAACAV0AAAAAAAABKQAAAAAAAgFBAAAAAAAAAPUAAAAAAAIBWQAAAAAAAwFZAAAAAAABAVkAAAAAAAAA6QAAAAAAAQFJAAAAAAAAAPUAAAAAAAIBPQAAAAAAAAFhAAAAAAAAAIkAAAAAAAIBAQAAAAAAAwFhAAAAAAAAASUAAAAAAAAA7QAAAAAAAQFJAAAAAAACAV0AAAAAAAMBYQAAAAAAAAFZAAAAAAAAAMEAAAAAAAEBYQAAAAAAAgEVAAAAAAAAAM0AAAAAAAAAzQA==\",\"dtype\":\"float64\",\"shape\":[140]},\"y\":{\"__ndarray__\":\"87EUZzUQPUCVZS/e4w1NQIev9Y5j9FRAQYvxbjr8UkA0cAPSDBBLQEwdDoMMkUlASv88XB1iWEDYjVypzQY5QHH4Km3GEEpA4pyXw4cRR0BGRawCBM4tQPt+aiFw/1FAMTegnyrAUUCj/sgvdb4pQNiNXKnNBjlAHbhUmMgKT0CHx3Jhwu9VQJi1HceEpldA5bM5gF2DUEC/AnwhpotOQE+6RYvdgFFAlWUv3uMNTUAGe+KGTilXQIaULnurjkJAoX3TObiPQ0C9StQL4YkFQPjX0HNDEUlAJw/zX4XtEkC1pVQdInJVQPjX0HNDEUlAhpQue6uOQkAFvWnPgf41QMkO9eWDEUhABb72Y4iQREDSF2g3E71SQK+RpBCuPlJAvwJ8IaaLTkA044KFdAxOQFcIW+SIQVFACSSXR4H7NECvkaQQrj5SQLG2g3Vi+DNAtaVUHSJyVUD/dC9ZJfUyQPO+V8HZEEVA+SbW4gffWECHGsTGpgxBQCSLZ/PXJh9ABb1pz4H+NUDYjVypzQY5QCpFbZ9GM1VABnvihk4pV0CngfsMZAE3QLWlVB0iclVA3MlriDMUP0CsrdFolqBYQPOxFGc1ED1AmLUdx4SmV0DYjVypzQY5QHgocz9rkUhAo/7IL3W+KUBMHQ6DDJFJQIaULnurjkJAVaOnmVilI0AqRW2fRjNVQBmwLe6MN1RABnvihk4pV0Dc0lMmcnpTQGjVKwhVCTpAJItn89cmH0AlFd8K9K0lQIZrW41w1S9AQN6U51K2J0CHr/WOY/RUQBmwLe6MN1RA0BsYvZwjWEAVqOCcQxI+QM/k7et4tVRAzoipJ4cuVkDQDL9MmY9LQOyKVmeNkUdAIgXV3sjCUECHx3Jhwu9VQDE3oJ8qwFFASwMN6tuJT0CGa1uNcNUvQD2z7pU1FBtAlWUv3uMNTUAFvvZjiJBEQE92e+NaxitAG0Z1k4v4U0BpaScycZBKQL8CfCGmi05AhmtbjXDVL0A9s+6VNRQbQOyKVmeNkUdA/3QvWSX1MkBAP1qiFg9MQGjVKwhVCTpA87EUZzUQPUAJJJdHgfs0QAZ74oZOKVdAPbPulTUUG0D/dC9ZJfUyQCcP81+F7RJASv88XB1iWECVZS/e4w1NQM/k7et4tVRAtaVUHSJyVUCVZS/e4w1NQJrJ6hNaO1NA0hdoNxO9UkDPiO6TgJwhQNiNXKnNBjlA2jJIcO1nV0Bx+CptxhBKQOWzOYBdg1BA87EUZzUQPUD+FFBbRG1WQBhsZvz5q1ZAzoipJ4cuVkBo1SsIVQk6QK+RpBCuPlJA87EUZzUQPUBLAw3q24lPQEADY4sU5VdAz4juk4CcIUAtyF9A3ItAQKyt0WiWoFhA+NfQc0MRSUCcSLocvgs7QK+RpBCuPlJA2jJIcO1nV0CsrdFolqBYQIfHcmHC71VAhmtbjXDVL0DQGxi9nCNYQLNVmPkbkUVA/3QvWSX1MkD/dC9ZJfUyQA==\",\"dtype\":\"float64\",\"shape\":[140]}},\"selected\":{\"id\":\"25184\",\"type\":\"Selection\"},\"selection_policy\":{\"id\":\"25185\",\"type\":\"UnionRenderers\"}},\"id\":\"24594\",\"type\":\"ColumnDataSource\"},{\"attributes\":{\"grid_line_alpha\":0.3,\"ticker\":{\"id\":\"24567\",\"type\":\"BasicTicker\"}},\"id\":\"24570\",\"type\":\"Grid\"},{\"attributes\":{\"axis_label\":\"Values\",\"formatter\":{\"id\":\"25178\",\"type\":\"BasicTickFormatter\"},\"ticker\":{\"id\":\"24572\",\"type\":\"BasicTicker\"}},\"id\":\"24571\",\"type\":\"LinearAxis\"},{\"attributes\":{\"callback\":null},\"id\":\"24560\",\"type\":\"DataRange1d\"},{\"attributes\":{\"axis_label\":\"features\",\"formatter\":{\"id\":\"25180\",\"type\":\"BasicTickFormatter\"},\"ticker\":{\"id\":\"24567\",\"type\":\"BasicTicker\"}},\"id\":\"24566\",\"type\":\"LinearAxis\"},{\"attributes\":{},\"id\":\"24576\",\"type\":\"PanTool\"}],\"root_ids\":[\"24555\"]},\"title\":\"Bokeh Application\",\"version\":\"1.4.0\"}};\n",
       "  var render_items = [{\"docid\":\"0e26497c-4a15-4f21-bde3-05f5dcd98cef\",\"roots\":{\"24555\":\"06939971-45e1-4d0f-987c-d7f7523bd2db\"}}];\n",
       "  root.Bokeh.embed.embed_items_notebook(docs_json, render_items);\n",
       "\n",
       "  }\n",
       "  if (root.Bokeh !== undefined) {\n",
       "    embed_document(root);\n",
       "  } else {\n",
       "    var attempts = 0;\n",
       "    var timer = setInterval(function(root) {\n",
       "      if (root.Bokeh !== undefined) {\n",
       "        clearInterval(timer);\n",
       "        embed_document(root);\n",
       "      } else {\n",
       "        attempts++;\n",
       "        if (attempts > 100) {\n",
       "          clearInterval(timer);\n",
       "          console.log(\"Bokeh: ERROR: Unable to run BokehJS code because BokehJS library is missing\");\n",
       "        }\n",
       "      }\n",
       "    }, 10, root)\n",
       "  }\n",
       "})(window);"
      ],
      "application/vnd.bokehjs_exec.v0+json": ""
     },
     "metadata": {
      "application/vnd.bokehjs_exec.v0+json": {
       "id": "24555"
      }
     },
     "output_type": "display_data"
    }
   ],
   "source": [
    "p1 = figure(title = \"Visualising Polynomial Regression result on testing set\", width=1000)\n",
    "p1.grid.grid_line_alpha=0.3\n",
    "p1.xaxis.axis_label = 'features'\n",
    "p1.yaxis.axis_label = 'Values'\n",
    "\n",
    "p1.cross(X_test.flatten(),Y_test.flatten(), color='blue')\n",
    "p1.line(X_test.flatten(),y = ployRegr.predict(polynom.fit_transform(X_test)).flatten(), color='red')\n",
    "\n",
    "\n",
    "\n",
    "show(p1)"
   ]
  },
  {
   "cell_type": "markdown",
   "metadata": {},
   "source": [
    "#### <font color=red>Because the data is linearly varying, the graph of polynomial regression is also linear instead of being a a curve </font>"
   ]
  },
  {
   "cell_type": "markdown",
   "metadata": {},
   "source": [
    "## Step 5: Selecting Model - Ridge Regression"
   ]
  },
  {
   "cell_type": "code",
   "execution_count": 177,
   "metadata": {},
   "outputs": [],
   "source": [
    "ridgeRegr = RidgeCV(alphas=(1e-15,1e-10,1e-5,1e-2,0.1, 1.0, 5,10,20,30,40,50,60,70,80,90,100),normalize=True)"
   ]
  },
  {
   "cell_type": "markdown",
   "metadata": {},
   "source": [
    "## Step 5.1: Training the Model"
   ]
  },
  {
   "cell_type": "code",
   "execution_count": 178,
   "metadata": {},
   "outputs": [
    {
     "data": {
      "text/plain": [
       "RidgeCV(alphas=array([1.e-15, 1.e-10, 1.e-05, 1.e-02, 1.e-01, 1.e+00, 5.e+00, 1.e+01,\n",
       "       2.e+01, 3.e+01, 4.e+01, 5.e+01, 6.e+01, 7.e+01, 8.e+01, 9.e+01,\n",
       "       1.e+02]),\n",
       "        cv=None, fit_intercept=True, gcv_mode=None, normalize=True,\n",
       "        scoring=None, store_cv_values=False)"
      ]
     },
     "execution_count": 178,
     "metadata": {},
     "output_type": "execute_result"
    }
   ],
   "source": [
    "ridgeRegr.fit(X_train,Y_train)"
   ]
  },
  {
   "cell_type": "markdown",
   "metadata": {},
   "source": [
    "## Step 5.2: Evaluate the Model"
   ]
  },
  {
   "cell_type": "code",
   "execution_count": 179,
   "metadata": {},
   "outputs": [
    {
     "data": {
      "text/plain": [
       "1e-05"
      ]
     },
     "execution_count": 179,
     "metadata": {},
     "output_type": "execute_result"
    }
   ],
   "source": [
    "ridgeRegr.alpha_"
   ]
  },
  {
   "cell_type": "code",
   "execution_count": 180,
   "metadata": {},
   "outputs": [
    {
     "data": {
      "text/plain": [
       "0.9904033259765133"
      ]
     },
     "execution_count": 180,
     "metadata": {},
     "output_type": "execute_result"
    }
   ],
   "source": [
    "ridgeRegr.score(ridgeRegr.predict(X_train),Y_train)"
   ]
  },
  {
   "cell_type": "code",
   "execution_count": 181,
   "metadata": {},
   "outputs": [
    {
     "name": "stdout",
     "output_type": "stream",
     "text": [
      "Mean Absolute Error: 2.207480868963139\n",
      "Mean Squared Error: 7.551684850184807\n",
      "Root Mean Squared Error: 2.74803290558625\n"
     ]
    }
   ],
   "source": [
    "print('Mean Absolute Error:', metrics.mean_absolute_error(Y_test,  ridgeRegr.predict(X_test)))  \n",
    "print('Mean Squared Error:', metrics.mean_squared_error(Y_test,  ridgeRegr.predict(X_test)))  \n",
    "print('Root Mean Squared Error:', np.sqrt(metrics.mean_squared_error(Y_test,  ridgeRegr.predict(X_test))))"
   ]
  },
  {
   "cell_type": "markdown",
   "metadata": {},
   "source": [
    "## Step 5.3: Get predictions"
   ]
  },
  {
   "cell_type": "code",
   "execution_count": 182,
   "metadata": {},
   "outputs": [
    {
     "data": {
      "text/html": [
       "<div>\n",
       "<style scoped>\n",
       "    .dataframe tbody tr th:only-of-type {\n",
       "        vertical-align: middle;\n",
       "    }\n",
       "\n",
       "    .dataframe tbody tr th {\n",
       "        vertical-align: top;\n",
       "    }\n",
       "\n",
       "    .dataframe thead th {\n",
       "        text-align: right;\n",
       "    }\n",
       "</style>\n",
       "<table border=\"1\" class=\"dataframe\">\n",
       "  <thead>\n",
       "    <tr style=\"text-align: right;\">\n",
       "      <th></th>\n",
       "      <th>Actual</th>\n",
       "      <th>Predicted</th>\n",
       "    </tr>\n",
       "  </thead>\n",
       "  <tbody>\n",
       "    <tr>\n",
       "      <th>0</th>\n",
       "      <td>29.667360</td>\n",
       "      <td>28.979731</td>\n",
       "    </tr>\n",
       "    <tr>\n",
       "      <th>1</th>\n",
       "      <td>56.687188</td>\n",
       "      <td>57.930622</td>\n",
       "    </tr>\n",
       "    <tr>\n",
       "      <th>2</th>\n",
       "      <td>85.027790</td>\n",
       "      <td>83.886593</td>\n",
       "    </tr>\n",
       "    <tr>\n",
       "      <th>3</th>\n",
       "      <td>73.138500</td>\n",
       "      <td>75.900141</td>\n",
       "    </tr>\n",
       "    <tr>\n",
       "      <th>4</th>\n",
       "      <td>48.437538</td>\n",
       "      <td>53.937396</td>\n",
       "    </tr>\n",
       "    <tr>\n",
       "      <th>...</th>\n",
       "      <td>...</td>\n",
       "      <td>...</td>\n",
       "    </tr>\n",
       "    <tr>\n",
       "      <th>135</th>\n",
       "      <td>14.002263</td>\n",
       "      <td>16.001746</td>\n",
       "    </tr>\n",
       "    <tr>\n",
       "      <th>136</th>\n",
       "      <td>94.151492</td>\n",
       "      <td>96.864579</td>\n",
       "    </tr>\n",
       "    <tr>\n",
       "      <th>137</th>\n",
       "      <td>40.831821</td>\n",
       "      <td>42.956023</td>\n",
       "    </tr>\n",
       "    <tr>\n",
       "      <th>138</th>\n",
       "      <td>19.471008</td>\n",
       "      <td>18.996666</td>\n",
       "    </tr>\n",
       "    <tr>\n",
       "      <th>139</th>\n",
       "      <td>17.609462</td>\n",
       "      <td>18.996666</td>\n",
       "    </tr>\n",
       "  </tbody>\n",
       "</table>\n",
       "<p>140 rows × 2 columns</p>\n",
       "</div>"
      ],
      "text/plain": [
       "        Actual  Predicted\n",
       "0    29.667360  28.979731\n",
       "1    56.687188  57.930622\n",
       "2    85.027790  83.886593\n",
       "3    73.138500  75.900141\n",
       "4    48.437538  53.937396\n",
       "..         ...        ...\n",
       "135  14.002263  16.001746\n",
       "136  94.151492  96.864579\n",
       "137  40.831821  42.956023\n",
       "138  19.471008  18.996666\n",
       "139  17.609462  18.996666\n",
       "\n",
       "[140 rows x 2 columns]"
      ]
     },
     "execution_count": 182,
     "metadata": {},
     "output_type": "execute_result"
    }
   ],
   "source": [
    "Y_predRidge = ridgeRegr.predict(X_test)\n",
    "df3 = pd.DataFrame({'Actual': Y_test.flatten(), 'Predicted': Y_predRidge.flatten()})\n",
    "df3"
   ]
  },
  {
   "cell_type": "code",
   "execution_count": 183,
   "metadata": {},
   "outputs": [
    {
     "data": {
      "text/html": [
       "\n",
       "\n",
       "\n",
       "\n",
       "\n",
       "\n",
       "  <div class=\"bk-root\" id=\"39f3b50f-f866-439e-a601-e0280d6b0019\" data-root-id=\"25246\"></div>\n"
      ]
     },
     "metadata": {},
     "output_type": "display_data"
    },
    {
     "data": {
      "application/javascript": [
       "(function(root) {\n",
       "  function embed_document(root) {\n",
       "    \n",
       "  var docs_json = {\"48dc206e-68ab-403c-a0e5-82a265f25bee\":{\"roots\":{\"references\":[{\"attributes\":{\"below\":[{\"id\":\"25257\",\"type\":\"LinearAxis\"}],\"center\":[{\"id\":\"25261\",\"type\":\"Grid\"},{\"id\":\"25266\",\"type\":\"Grid\"},{\"id\":\"25291\",\"type\":\"Legend\"}],\"left\":[{\"id\":\"25262\",\"type\":\"LinearAxis\"}],\"plot_width\":900,\"renderers\":[{\"id\":\"25283\",\"type\":\"GlyphRenderer\"},{\"id\":\"25296\",\"type\":\"GlyphRenderer\"}],\"title\":{\"id\":\"25247\",\"type\":\"Title\"},\"toolbar\":{\"id\":\"25273\",\"type\":\"Toolbar\"},\"x_range\":{\"id\":\"25249\",\"type\":\"DataRange1d\"},\"x_scale\":{\"id\":\"25253\",\"type\":\"LinearScale\"},\"y_range\":{\"id\":\"25251\",\"type\":\"DataRange1d\"},\"y_scale\":{\"id\":\"25255\",\"type\":\"LinearScale\"}},\"id\":\"25246\",\"subtype\":\"Figure\",\"type\":\"Plot\"},{\"attributes\":{},\"id\":\"25255\",\"type\":\"LinearScale\"},{\"attributes\":{\"label\":{\"value\":\"target variable\"},\"renderers\":[{\"id\":\"25283\",\"type\":\"GlyphRenderer\"}]},\"id\":\"25292\",\"type\":\"LegendItem\"},{\"attributes\":{},\"id\":\"25305\",\"type\":\"UnionRenderers\"},{\"attributes\":{\"line_color\":\"yellow\",\"line_width\":2,\"x\":{\"field\":\"x\"},\"y\":{\"field\":\"y\"}},\"id\":\"25281\",\"type\":\"Line\"},{\"attributes\":{\"bottom_units\":\"screen\",\"fill_alpha\":{\"value\":0.5},\"fill_color\":{\"value\":\"lightgrey\"},\"left_units\":\"screen\",\"level\":\"overlay\",\"line_alpha\":{\"value\":1.0},\"line_color\":{\"value\":\"black\"},\"line_dash\":[4,4],\"line_width\":{\"value\":2},\"render_mode\":\"css\",\"right_units\":\"screen\",\"top_units\":\"screen\"},\"id\":\"25290\",\"type\":\"BoxAnnotation\"},{\"attributes\":{\"data_source\":{\"id\":\"25280\",\"type\":\"ColumnDataSource\"},\"glyph\":{\"id\":\"25281\",\"type\":\"Line\"},\"hover_glyph\":null,\"muted_glyph\":null,\"nonselection_glyph\":{\"id\":\"25282\",\"type\":\"Line\"},\"selection_glyph\":null,\"view\":{\"id\":\"25284\",\"type\":\"CDSView\"}},\"id\":\"25283\",\"type\":\"GlyphRenderer\"},{\"attributes\":{\"text\":\"Actual vs Predicted for Ridge Regression\"},\"id\":\"25247\",\"type\":\"Title\"},{\"attributes\":{\"data_source\":{\"id\":\"25293\",\"type\":\"ColumnDataSource\"},\"glyph\":{\"id\":\"25294\",\"type\":\"Line\"},\"hover_glyph\":null,\"muted_glyph\":null,\"nonselection_glyph\":{\"id\":\"25295\",\"type\":\"Line\"},\"selection_glyph\":null,\"view\":{\"id\":\"25297\",\"type\":\"CDSView\"}},\"id\":\"25296\",\"type\":\"GlyphRenderer\"},{\"attributes\":{\"callback\":null},\"id\":\"25249\",\"type\":\"DataRange1d\"},{\"attributes\":{},\"id\":\"25267\",\"type\":\"PanTool\"},{\"attributes\":{},\"id\":\"25268\",\"type\":\"WheelZoomTool\"},{\"attributes\":{\"overlay\":{\"id\":\"25290\",\"type\":\"BoxAnnotation\"}},\"id\":\"25269\",\"type\":\"BoxZoomTool\"},{\"attributes\":{},\"id\":\"25270\",\"type\":\"SaveTool\"},{\"attributes\":{\"source\":{\"id\":\"25280\",\"type\":\"ColumnDataSource\"}},\"id\":\"25284\",\"type\":\"CDSView\"},{\"attributes\":{},\"id\":\"25253\",\"type\":\"LinearScale\"},{\"attributes\":{},\"id\":\"25272\",\"type\":\"HelpTool\"},{\"attributes\":{},\"id\":\"25271\",\"type\":\"ResetTool\"},{\"attributes\":{\"callback\":null,\"data\":{\"x\":[0,1,2,3,4,5,6,7,8,9,10,11,12,13,14,15,16,17,18,19,20,21,22,23,24,25,26,27,28,29,30,31,32,33,34,35,36,37,38,39,40,41,42,43,44,45,46,47,48,49,50,51,52,53,54,55,56,57,58,59,60,61,62,63,64,65,66,67,68,69,70,71,72,73,74,75,76,77,78,79,80,81,82,83,84,85,86,87,88,89,90,91,92,93,94,95,96,97,98,99,100,101,102,103,104,105,106,107,108,109,110,111,112,113,114,115,116,117,118,119,120,121,122,123,124,125,126,127,128,129,130,131,132,133,134,135,136,137,138,139],\"y\":{\"__ndarray__\":\"bSkxGdiqPUCaTRXG9VdMQHmU503HQVVAzc79MN1IUkAjbPRBAThIQMYMOykfokpATNR/lCAmV0AXO47dDf41QCml0hUN2klApjBrOYKARkAE1dTsYMInQFTuFUjW01FAEa2yQpOXUUBH2EM9dTsqQJLpjs2nnzZA5kUeb48LTUAFLMH7jR5WQEhS0sMQDFhAIPmcHgjTT0C3cM3bYIJOQEYBy9+3bVJA6nbVh57OS0APzHYqxQBXQNhus1+U8URAmEHG7eEmQ0CEN8Kn22/6P/S+de6LfEhAibKWhgpxF0BHLLUgDNJUQKf5dIZzu0dARCsgguTYQkD9azfJqAM1QLu5dKP6Y0dA6AEDczo7RkBHr8QL+/1SQNKN0bbxbVFALgZqjLExTkCKeMru8n5MQDAULOVn0FFANvhODpcDL0Avk3bdutNRQNn8bKKeVzhAW9RhZA2SVUBMwZ6fd1gxQD/xUqAFo0VAu4jGRTvAWECORz7pI30+QMmfQooOlh9A6VTocjl2MUCyYW5zOlo7QBA+Ukw3rFRAtI2ie1SjV0CYQaXf+AUzQEBEMC+8NlZASphI7W4LPUAL/5a+H75XQMDJeIzZpzpAFy1A22ovWUAs2W/1tZw4QPcx7h9uQEpABTs4t41PKUB4xzGrWnhKQB3i5QrrS0FAV5Xq8zJ2IkBKc/HYC4xVQB20kcpYdVNAbOpdOOeoV0ADEG+EophTQOGj1ftTZzpAsCBJIJCBLUABCDTl/rcgQBgA0zejeSZAEtoh58U5G0DeLNKCX2FVQPAmjQsmXVRAFpPMJEmhWEAcB387YD4/QEV5zUhQk1VAN1QIu1NhVUDbuM1tpTNLQAHWkcDyZUhAnXmDedlAUECAykKFtANWQHli7yhCyVJAXCoErDTWT0DTdbiItQgxQB0w8UKYTRBAzokcpqYjTkAB2nfBN6dAQMM52bxgQChAzikza8pIU0Cr+BJsVI5MQDV/Ck+BGU5A82hX38gqMEAWa8qr+fsXQGl35QaFzUpAK1+GteciNkAXIQIvL59NQBlJDhryHTpAPW1De6tVOkAEwB1Nmos2QP+OLIkBqFdAX9Jp9KLWHUC9KVkMJqk2QB8FeKCIZBBA7abvkL2fWUAmzThwe2ZPQDUw6kEezlVA/G/jHqQkVkC+00spO0ZLQN/aT+fGh1JAfIH2dk3fUkCn6gKELecUQLKSAzQZMEBAnj1+DCkMWEDAHY+2/XlKQNhJXEtxk09AveinD4+nO0Aud0V0eCdWQIP1A0cXu1dAd4DMc6lGVkDa6Dl1Jzk8QNt+v7m7/lFA1gTuzEZXPUDa7Q6EP0dPQAKrNHPSFlhAAlqh5cy0J0AKnfjmjolBQOGhg4kaBllAOab+rL8lSEBnwHLnNpU4QDOqDOPumVFAF5tWCsGEV0D8OLsxFOFYQCaH9IAepVZAnkisnCgBLEBv08ALsolXQF12oRx5akRAH8Lw+JN4M0CACqq6BZwxQA==\",\"dtype\":\"float64\",\"shape\":[140]}},\"selected\":{\"id\":\"25304\",\"type\":\"Selection\"},\"selection_policy\":{\"id\":\"25305\",\"type\":\"UnionRenderers\"}},\"id\":\"25280\",\"type\":\"ColumnDataSource\"},{\"attributes\":{},\"id\":\"25289\",\"type\":\"BasicTickFormatter\"},{\"attributes\":{\"label\":{\"value\":\"predicted value\"},\"renderers\":[{\"id\":\"25296\",\"type\":\"GlyphRenderer\"}]},\"id\":\"25306\",\"type\":\"LegendItem\"},{\"attributes\":{\"source\":{\"id\":\"25293\",\"type\":\"ColumnDataSource\"}},\"id\":\"25297\",\"type\":\"CDSView\"},{\"attributes\":{},\"id\":\"25258\",\"type\":\"BasicTicker\"},{\"attributes\":{\"callback\":null},\"id\":\"25251\",\"type\":\"DataRange1d\"},{\"attributes\":{\"grid_line_alpha\":0.3,\"ticker\":{\"id\":\"25258\",\"type\":\"BasicTicker\"}},\"id\":\"25261\",\"type\":\"Grid\"},{\"attributes\":{\"axis_label\":\"values\",\"formatter\":{\"id\":\"25287\",\"type\":\"BasicTickFormatter\"},\"ticker\":{\"id\":\"25263\",\"type\":\"BasicTicker\"}},\"id\":\"25262\",\"type\":\"LinearAxis\"},{\"attributes\":{},\"id\":\"25263\",\"type\":\"BasicTicker\"},{\"attributes\":{\"line_color\":\"red\",\"line_width\":1.5,\"x\":{\"field\":\"x\"},\"y\":{\"field\":\"y\"}},\"id\":\"25294\",\"type\":\"Line\"},{\"attributes\":{\"active_drag\":\"auto\",\"active_inspect\":\"auto\",\"active_multi\":null,\"active_scroll\":\"auto\",\"active_tap\":\"auto\",\"tools\":[{\"id\":\"25267\",\"type\":\"PanTool\"},{\"id\":\"25268\",\"type\":\"WheelZoomTool\"},{\"id\":\"25269\",\"type\":\"BoxZoomTool\"},{\"id\":\"25270\",\"type\":\"SaveTool\"},{\"id\":\"25271\",\"type\":\"ResetTool\"},{\"id\":\"25272\",\"type\":\"HelpTool\"}]},\"id\":\"25273\",\"type\":\"Toolbar\"},{\"attributes\":{},\"id\":\"25287\",\"type\":\"BasicTickFormatter\"},{\"attributes\":{},\"id\":\"25902\",\"type\":\"Selection\"},{\"attributes\":{},\"id\":\"25903\",\"type\":\"UnionRenderers\"},{\"attributes\":{\"axis_label\":\"features\",\"formatter\":{\"id\":\"25289\",\"type\":\"BasicTickFormatter\"},\"ticker\":{\"id\":\"25258\",\"type\":\"BasicTicker\"}},\"id\":\"25257\",\"type\":\"LinearAxis\"},{\"attributes\":{\"callback\":null,\"data\":{\"x\":[0,1,2,3,4,5,6,7,8,9,10,11,12,13,14,15,16,17,18,19,20,21,22,23,24,25,26,27,28,29,30,31,32,33,34,35,36,37,38,39,40,41,42,43,44,45,46,47,48,49,50,51,52,53,54,55,56,57,58,59,60,61,62,63,64,65,66,67,68,69,70,71,72,73,74,75,76,77,78,79,80,81,82,83,84,85,86,87,88,89,90,91,92,93,94,95,96,97,98,99,100,101,102,103,104,105,106,107,108,109,110,111,112,113,114,115,116,117,118,119,120,121,122,123,124,125,126,127,128,129,130,131,132,133,134,135,136,137,138,139],\"y\":{\"__ndarray__\":\"vO5PrM/6PEALiAigHvdMQOpPIvG9+FRAuK7x5pv5UkDZ5teV/PdKQPNtMw6jeElAAmr3gjl3WEBYrO6Xi/w4QECWv5Br+ElAdKR2gbj5RkC4DPfJwgEuQB5e2eEK+lFA+EmToCa6UUBTypW1fgMqQFis7peL/DhAPik5qkD2TkCCoDr2TvhVQI4tJb+Mt1dAOOU0WrF6UEDxAK0neHZOQNI1TV9CelFAC4gIoB73TEBCBZk8xDdXQMM5ieqre0JAXIqh7zx7Q0Bs+b0+qTAIQKdFp4va+EhAgIEhyNwUFEA2eK5zhnhVQKdFp4va+EhAwzmJ6qt7QkCMuqWI2P01QA31joZJ+UdA9dq59M16RECQmqult7lSQERyHyPvOVJA8QCtJ3h2TkCl2CClr/ZNQKohBx5eOlFA82mNg0f+NEBEch8j7zlSQFoZdX62/jNANniuc4Z4VUDByFx5Jf8yQEIDRneW+kRATpKDBQL3WEDdwORiUvxAQFekooLUByBAjLqliNj9NUBYrO6Xi/w4QBBkaDKiOFVAQgWZPMQ3V0AlC76Naf02QDZ4rnOGeFVA74+AtvH5PkAofj3EHbdYQLzuT6zP+jxAji0lv4y3V0BYrO6Xi/w4QFodGwkSeUhAU8qVtX4DKkDzbTMOo3hJQMM5ieqre0JAvOYDlxgGJEAQZGgyojhVQHYTUC0ROVRAQgWZPMQ3V0AE131pZHlTQPH8Bp0c/DlAV6SigtQHIEDuhzShOgUmQPXWE2pyADBAICllq1wEKEDqTyLxvfhUQHYTUC0ROVRA3FWxQVU3WEBWP2ixYPo9QMQ73K/ZuFRAqLSANzM4VkAmD2QYxXdLQMHMAgSBeUdAXvl6m5W6UECCoDr2TvhVQPhJk6AmulFAilHFLAl2T0D11hNqcgAwQEkG5PBkERxAC4gIoB73TED12rn0zXpEQIVrxr+gAixAUP8J7Cz5U0CMvksTNHhKQPEArSd4dk5A9dYTanIAMEBJBuTwZBEcQMHMAgSBeUdAwchceSX/MkByN/CajfdLQPH8Bp0c/DlAvO5PrM/6PEDzaY2DR/40QEIFmTzEN1dASQbk8GQRHEDByFx5Jf8yQICBIcjcFBRAAmr3gjl3WEALiAigHvdMQMQ73K/ZuFRANniuc4Z4VUALiAigHvdMQN7CNyiAOVNAkJqrpbe5UkCJRdOM9gYiQFis7peL/DhAaBnffah3V0BAlr+Qa/hJQDjlNFqxelBAvO5PrM/6PEDQyMZ4F3hWQPbcDLr7t1ZAqLSANzM4VkDx/AadHPw5QERyHyPvOVJAvO5PrM/6PECKUcUsCXZPQLRBawBx91dAiUXTjPYGIkCRmFjgiXxAQCh+PcQdt1hAp0Wni9r4SECKTR+irfs6QERyHyPvOVJAaBnffah3V0Aofj3EHbdYQIKgOvZO+FVA9dYTanIAMEDcVbFBVTdYQI8r0vleekVAwchceSX/MkDByFx5Jf8yQA==\",\"dtype\":\"float64\",\"shape\":[140]}},\"selected\":{\"id\":\"25902\",\"type\":\"Selection\"},\"selection_policy\":{\"id\":\"25903\",\"type\":\"UnionRenderers\"}},\"id\":\"25293\",\"type\":\"ColumnDataSource\"},{\"attributes\":{\"line_alpha\":0.1,\"line_color\":\"#1f77b4\",\"line_width\":1.5,\"x\":{\"field\":\"x\"},\"y\":{\"field\":\"y\"}},\"id\":\"25295\",\"type\":\"Line\"},{\"attributes\":{},\"id\":\"25304\",\"type\":\"Selection\"},{\"attributes\":{\"dimension\":1,\"grid_line_alpha\":0.3,\"ticker\":{\"id\":\"25263\",\"type\":\"BasicTicker\"}},\"id\":\"25266\",\"type\":\"Grid\"},{\"attributes\":{\"line_alpha\":0.1,\"line_color\":\"#1f77b4\",\"line_width\":2,\"x\":{\"field\":\"x\"},\"y\":{\"field\":\"y\"}},\"id\":\"25282\",\"type\":\"Line\"},{\"attributes\":{\"items\":[{\"id\":\"25292\",\"type\":\"LegendItem\"},{\"id\":\"25306\",\"type\":\"LegendItem\"}]},\"id\":\"25291\",\"type\":\"Legend\"}],\"root_ids\":[\"25246\"]},\"title\":\"Bokeh Application\",\"version\":\"1.4.0\"}};\n",
       "  var render_items = [{\"docid\":\"48dc206e-68ab-403c-a0e5-82a265f25bee\",\"roots\":{\"25246\":\"39f3b50f-f866-439e-a601-e0280d6b0019\"}}];\n",
       "  root.Bokeh.embed.embed_items_notebook(docs_json, render_items);\n",
       "\n",
       "  }\n",
       "  if (root.Bokeh !== undefined) {\n",
       "    embed_document(root);\n",
       "  } else {\n",
       "    var attempts = 0;\n",
       "    var timer = setInterval(function(root) {\n",
       "      if (root.Bokeh !== undefined) {\n",
       "        clearInterval(timer);\n",
       "        embed_document(root);\n",
       "      } else {\n",
       "        attempts++;\n",
       "        if (attempts > 100) {\n",
       "          clearInterval(timer);\n",
       "          console.log(\"Bokeh: ERROR: Unable to run BokehJS code because BokehJS library is missing\");\n",
       "        }\n",
       "      }\n",
       "    }, 10, root)\n",
       "  }\n",
       "})(window);"
      ],
      "application/vnd.bokehjs_exec.v0+json": ""
     },
     "metadata": {
      "application/vnd.bokehjs_exec.v0+json": {
       "id": "25246"
      }
     },
     "output_type": "display_data"
    }
   ],
   "source": [
    "p1 = figure(title = \"Actual vs Predicted for Ridge Regression\", width=900)\n",
    "p1.grid.grid_line_alpha=0.3\n",
    "p1.xaxis.axis_label = 'features'\n",
    "p1.yaxis.axis_label = 'values'\n",
    "\n",
    "p1.line(df3.index,df3['Actual'],color = 'yellow',line_width = 2,legend_label = \"target variable\")\n",
    "p1.line(df3.index,df3['Predicted'] , color = 'red',line_width = 1.5,legend_label = \"predicted value\")\n",
    "\n",
    "show(p1)"
   ]
  },
  {
   "cell_type": "code",
   "execution_count": 184,
   "metadata": {},
   "outputs": [
    {
     "data": {
      "text/html": [
       "\n",
       "\n",
       "\n",
       "\n",
       "\n",
       "\n",
       "  <div class=\"bk-root\" id=\"842de54c-c975-431d-bf2d-fe6bd14c16cb\" data-root-id=\"25964\"></div>\n"
      ]
     },
     "metadata": {},
     "output_type": "display_data"
    },
    {
     "data": {
      "application/javascript": [
       "(function(root) {\n",
       "  function embed_document(root) {\n",
       "    \n",
       "  var docs_json = {\"c243c5a2-9ef4-4a4e-86cb-3e14676b03d0\":{\"roots\":{\"references\":[{\"attributes\":{\"below\":[{\"id\":\"25975\",\"type\":\"LinearAxis\"}],\"center\":[{\"id\":\"25979\",\"type\":\"Grid\"},{\"id\":\"25984\",\"type\":\"Grid\"}],\"left\":[{\"id\":\"25980\",\"type\":\"LinearAxis\"}],\"plot_width\":1000,\"renderers\":[{\"id\":\"26001\",\"type\":\"GlyphRenderer\"},{\"id\":\"26006\",\"type\":\"GlyphRenderer\"}],\"title\":{\"id\":\"25965\",\"type\":\"Title\"},\"toolbar\":{\"id\":\"25991\",\"type\":\"Toolbar\"},\"x_range\":{\"id\":\"25967\",\"type\":\"DataRange1d\"},\"x_scale\":{\"id\":\"25971\",\"type\":\"LinearScale\"},\"y_range\":{\"id\":\"25969\",\"type\":\"DataRange1d\"},\"y_scale\":{\"id\":\"25973\",\"type\":\"LinearScale\"}},\"id\":\"25964\",\"subtype\":\"Figure\",\"type\":\"Plot\"},{\"attributes\":{},\"id\":\"25971\",\"type\":\"LinearScale\"},{\"attributes\":{},\"id\":\"25990\",\"type\":\"HelpTool\"},{\"attributes\":{},\"id\":\"26613\",\"type\":\"Selection\"},{\"attributes\":{},\"id\":\"25989\",\"type\":\"ResetTool\"},{\"attributes\":{},\"id\":\"26609\",\"type\":\"BasicTickFormatter\"},{\"attributes\":{},\"id\":\"26612\",\"type\":\"UnionRenderers\"},{\"attributes\":{},\"id\":\"26611\",\"type\":\"Selection\"},{\"attributes\":{\"callback\":null},\"id\":\"25969\",\"type\":\"DataRange1d\"},{\"attributes\":{\"bottom_units\":\"screen\",\"fill_alpha\":{\"value\":0.5},\"fill_color\":{\"value\":\"lightgrey\"},\"left_units\":\"screen\",\"level\":\"overlay\",\"line_alpha\":{\"value\":1.0},\"line_color\":{\"value\":\"black\"},\"line_dash\":[4,4],\"line_width\":{\"value\":2},\"render_mode\":\"css\",\"right_units\":\"screen\",\"top_units\":\"screen\"},\"id\":\"26610\",\"type\":\"BoxAnnotation\"},{\"attributes\":{},\"id\":\"26614\",\"type\":\"UnionRenderers\"},{\"attributes\":{},\"id\":\"25988\",\"type\":\"SaveTool\"},{\"attributes\":{},\"id\":\"26607\",\"type\":\"BasicTickFormatter\"},{\"attributes\":{\"overlay\":{\"id\":\"26610\",\"type\":\"BoxAnnotation\"}},\"id\":\"25987\",\"type\":\"BoxZoomTool\"},{\"attributes\":{\"axis_label\":\"Values\",\"formatter\":{\"id\":\"26607\",\"type\":\"BasicTickFormatter\"},\"ticker\":{\"id\":\"25981\",\"type\":\"BasicTicker\"}},\"id\":\"25980\",\"type\":\"LinearAxis\"},{\"attributes\":{\"data_source\":{\"id\":\"26003\",\"type\":\"ColumnDataSource\"},\"glyph\":{\"id\":\"26004\",\"type\":\"Line\"},\"hover_glyph\":null,\"muted_glyph\":null,\"nonselection_glyph\":{\"id\":\"26005\",\"type\":\"Line\"},\"selection_glyph\":null,\"view\":{\"id\":\"26007\",\"type\":\"CDSView\"}},\"id\":\"26006\",\"type\":\"GlyphRenderer\"},{\"attributes\":{\"text\":\"Visualising Ridge Regression result on training set\"},\"id\":\"25965\",\"type\":\"Title\"},{\"attributes\":{\"callback\":null,\"data\":{\"x\":{\"__ndarray__\":\"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\",\"dtype\":\"float64\",\"shape\":[559]},\"y\":{\"__ndarray__\":\"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\",\"dtype\":\"float64\",\"shape\":[559]}},\"selected\":{\"id\":\"26611\",\"type\":\"Selection\"},\"selection_policy\":{\"id\":\"26612\",\"type\":\"UnionRenderers\"}},\"id\":\"25998\",\"type\":\"ColumnDataSource\"},{\"attributes\":{\"fill_color\":{\"value\":\"blue\"},\"line_color\":{\"value\":\"blue\"},\"x\":{\"field\":\"x\"},\"y\":{\"field\":\"y\"}},\"id\":\"25999\",\"type\":\"Cross\"},{\"attributes\":{\"source\":{\"id\":\"26003\",\"type\":\"ColumnDataSource\"}},\"id\":\"26007\",\"type\":\"CDSView\"},{\"attributes\":{\"callback\":null},\"id\":\"25967\",\"type\":\"DataRange1d\"},{\"attributes\":{\"axis_label\":\"features\",\"formatter\":{\"id\":\"26609\",\"type\":\"BasicTickFormatter\"},\"ticker\":{\"id\":\"25976\",\"type\":\"BasicTicker\"}},\"id\":\"25975\",\"type\":\"LinearAxis\"},{\"attributes\":{},\"id\":\"25986\",\"type\":\"WheelZoomTool\"},{\"attributes\":{},\"id\":\"25981\",\"type\":\"BasicTicker\"},{\"attributes\":{\"callback\":null,\"data\":{\"x\":{\"__ndarray__\":\"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\",\"dtype\":\"float64\",\"shape\":[559]},\"y\":{\"__ndarray__\":\"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\",\"dtype\":\"float64\",\"shape\":[559]}},\"selected\":{\"id\":\"26613\",\"type\":\"Selection\"},\"selection_policy\":{\"id\":\"26614\",\"type\":\"UnionRenderers\"}},\"id\":\"26003\",\"type\":\"ColumnDataSource\"},{\"attributes\":{},\"id\":\"25985\",\"type\":\"PanTool\"},{\"attributes\":{\"grid_line_alpha\":0.3,\"ticker\":{\"id\":\"25976\",\"type\":\"BasicTicker\"}},\"id\":\"25979\",\"type\":\"Grid\"},{\"attributes\":{\"fill_alpha\":{\"value\":0.1},\"fill_color\":{\"value\":\"#1f77b4\"},\"line_alpha\":{\"value\":0.1},\"line_color\":{\"value\":\"#1f77b4\"},\"x\":{\"field\":\"x\"},\"y\":{\"field\":\"y\"}},\"id\":\"26000\",\"type\":\"Cross\"},{\"attributes\":{\"dimension\":1,\"grid_line_alpha\":0.3,\"ticker\":{\"id\":\"25981\",\"type\":\"BasicTicker\"}},\"id\":\"25984\",\"type\":\"Grid\"},{\"attributes\":{},\"id\":\"25973\",\"type\":\"LinearScale\"},{\"attributes\":{\"source\":{\"id\":\"25998\",\"type\":\"ColumnDataSource\"}},\"id\":\"26002\",\"type\":\"CDSView\"},{\"attributes\":{\"line_color\":\"red\",\"x\":{\"field\":\"x\"},\"y\":{\"field\":\"y\"}},\"id\":\"26004\",\"type\":\"Line\"},{\"attributes\":{\"active_drag\":\"auto\",\"active_inspect\":\"auto\",\"active_multi\":null,\"active_scroll\":\"auto\",\"active_tap\":\"auto\",\"tools\":[{\"id\":\"25985\",\"type\":\"PanTool\"},{\"id\":\"25986\",\"type\":\"WheelZoomTool\"},{\"id\":\"25987\",\"type\":\"BoxZoomTool\"},{\"id\":\"25988\",\"type\":\"SaveTool\"},{\"id\":\"25989\",\"type\":\"ResetTool\"},{\"id\":\"25990\",\"type\":\"HelpTool\"}]},\"id\":\"25991\",\"type\":\"Toolbar\"},{\"attributes\":{\"line_alpha\":0.1,\"line_color\":\"#1f77b4\",\"x\":{\"field\":\"x\"},\"y\":{\"field\":\"y\"}},\"id\":\"26005\",\"type\":\"Line\"},{\"attributes\":{},\"id\":\"25976\",\"type\":\"BasicTicker\"},{\"attributes\":{\"data_source\":{\"id\":\"25998\",\"type\":\"ColumnDataSource\"},\"glyph\":{\"id\":\"25999\",\"type\":\"Cross\"},\"hover_glyph\":null,\"muted_glyph\":null,\"nonselection_glyph\":{\"id\":\"26000\",\"type\":\"Cross\"},\"selection_glyph\":null,\"view\":{\"id\":\"26002\",\"type\":\"CDSView\"}},\"id\":\"26001\",\"type\":\"GlyphRenderer\"}],\"root_ids\":[\"25964\"]},\"title\":\"Bokeh Application\",\"version\":\"1.4.0\"}};\n",
       "  var render_items = [{\"docid\":\"c243c5a2-9ef4-4a4e-86cb-3e14676b03d0\",\"roots\":{\"25964\":\"842de54c-c975-431d-bf2d-fe6bd14c16cb\"}}];\n",
       "  root.Bokeh.embed.embed_items_notebook(docs_json, render_items);\n",
       "\n",
       "  }\n",
       "  if (root.Bokeh !== undefined) {\n",
       "    embed_document(root);\n",
       "  } else {\n",
       "    var attempts = 0;\n",
       "    var timer = setInterval(function(root) {\n",
       "      if (root.Bokeh !== undefined) {\n",
       "        clearInterval(timer);\n",
       "        embed_document(root);\n",
       "      } else {\n",
       "        attempts++;\n",
       "        if (attempts > 100) {\n",
       "          clearInterval(timer);\n",
       "          console.log(\"Bokeh: ERROR: Unable to run BokehJS code because BokehJS library is missing\");\n",
       "        }\n",
       "      }\n",
       "    }, 10, root)\n",
       "  }\n",
       "})(window);"
      ],
      "application/vnd.bokehjs_exec.v0+json": ""
     },
     "metadata": {
      "application/vnd.bokehjs_exec.v0+json": {
       "id": "25964"
      }
     },
     "output_type": "display_data"
    }
   ],
   "source": [
    "p1 = figure(title = \"Visualising Ridge Regression result on training set\", width=1000)\n",
    "p1.grid.grid_line_alpha=0.3\n",
    "p1.xaxis.axis_label = 'features'\n",
    "p1.yaxis.axis_label = 'Values'\n",
    "\n",
    "p1.cross(X_train.flatten(),Y_train.flatten(), color='blue')\n",
    "p1.line(X_train.flatten(),y = ridgeRegr.predict(X_train).flatten(), color='red')\n",
    "\n",
    "\n",
    "\n",
    "show(p1)"
   ]
  },
  {
   "cell_type": "code",
   "execution_count": 185,
   "metadata": {},
   "outputs": [
    {
     "data": {
      "text/html": [
       "\n",
       "\n",
       "\n",
       "\n",
       "\n",
       "\n",
       "  <div class=\"bk-root\" id=\"2a43b072-15ba-4314-94f3-acc571411da4\" data-root-id=\"26675\"></div>\n"
      ]
     },
     "metadata": {},
     "output_type": "display_data"
    },
    {
     "data": {
      "application/javascript": [
       "(function(root) {\n",
       "  function embed_document(root) {\n",
       "    \n",
       "  var docs_json = {\"5d7712cf-c087-41d7-86b6-487220a9a8c9\":{\"roots\":{\"references\":[{\"attributes\":{\"below\":[{\"id\":\"26686\",\"type\":\"LinearAxis\"}],\"center\":[{\"id\":\"26690\",\"type\":\"Grid\"},{\"id\":\"26695\",\"type\":\"Grid\"}],\"left\":[{\"id\":\"26691\",\"type\":\"LinearAxis\"}],\"plot_width\":1000,\"renderers\":[{\"id\":\"26712\",\"type\":\"GlyphRenderer\"},{\"id\":\"26717\",\"type\":\"GlyphRenderer\"}],\"title\":{\"id\":\"26676\",\"type\":\"Title\"},\"toolbar\":{\"id\":\"26702\",\"type\":\"Toolbar\"},\"x_range\":{\"id\":\"26678\",\"type\":\"DataRange1d\"},\"x_scale\":{\"id\":\"26682\",\"type\":\"LinearScale\"},\"y_range\":{\"id\":\"26680\",\"type\":\"DataRange1d\"},\"y_scale\":{\"id\":\"26684\",\"type\":\"LinearScale\"}},\"id\":\"26675\",\"subtype\":\"Figure\",\"type\":\"Plot\"},{\"attributes\":{\"axis_label\":\"Values\",\"formatter\":{\"id\":\"27328\",\"type\":\"BasicTickFormatter\"},\"ticker\":{\"id\":\"26692\",\"type\":\"BasicTicker\"}},\"id\":\"26691\",\"type\":\"LinearAxis\"},{\"attributes\":{},\"id\":\"26692\",\"type\":\"BasicTicker\"},{\"attributes\":{},\"id\":\"27328\",\"type\":\"BasicTickFormatter\"},{\"attributes\":{\"active_drag\":\"auto\",\"active_inspect\":\"auto\",\"active_multi\":null,\"active_scroll\":\"auto\",\"active_tap\":\"auto\",\"tools\":[{\"id\":\"26696\",\"type\":\"PanTool\"},{\"id\":\"26697\",\"type\":\"WheelZoomTool\"},{\"id\":\"26698\",\"type\":\"BoxZoomTool\"},{\"id\":\"26699\",\"type\":\"SaveTool\"},{\"id\":\"26700\",\"type\":\"ResetTool\"},{\"id\":\"26701\",\"type\":\"HelpTool\"}]},\"id\":\"26702\",\"type\":\"Toolbar\"},{\"attributes\":{\"source\":{\"id\":\"26714\",\"type\":\"ColumnDataSource\"}},\"id\":\"26718\",\"type\":\"CDSView\"},{\"attributes\":{\"callback\":null,\"data\":{\"x\":{\"__ndarray__\":\"AAAAAAAAPUAAAAAAAABNQAAAAAAAAFVAAAAAAAAAU0AAAAAAAABLQAAAAAAAgElAAAAAAACAWEAAAAAAAAA5QAAAAAAAAEpAAAAAAAAAR0AAAAAAAAAuQAAAAAAAAFJAAAAAAADAUUAAAAAAAAAqQAAAAAAAADlAAAAAAAAAT0AAAAAAAABWQAAAAAAAwFdAAAAAAACAUEAAAAAAAIBOQAAAAAAAgFFAAAAAAAAATUAAAAAAAEBXQAAAAAAAgEJAAAAAAACAQ0AAAAAAAAAIQAAAAAAAAElAAAAAAAAAFEAAAAAAAIBVQAAAAAAAAElAAAAAAACAQkAAAAAAAAA2QAAAAAAAAEhAAAAAAACAREAAAAAAAMBSQAAAAAAAQFJAAAAAAACATkAAAAAAAABOQAAAAAAAQFFAAAAAAAAANUAAAAAAAEBSQAAAAAAAADRAAAAAAACAVUAAAAAAAAAzQAAAAAAAAEVAAAAAAAAAWUAAAAAAAABBQAAAAAAAACBAAAAAAAAANkAAAAAAAAA5QAAAAAAAQFVAAAAAAABAV0AAAAAAAAA3QAAAAAAAgFVAAAAAAAAAP0AAAAAAAMBYQAAAAAAAAD1AAAAAAADAV0AAAAAAAAA5QAAAAAAAgEhAAAAAAAAAKkAAAAAAAIBJQAAAAAAAgEJAAAAAAAAAJEAAAAAAAEBVQAAAAAAAQFRAAAAAAABAV0AAAAAAAIBTQAAAAAAAADpAAAAAAAAAIEAAAAAAAAAmQAAAAAAAADBAAAAAAAAAKEAAAAAAAABVQAAAAAAAQFRAAAAAAABAWEAAAAAAAAA+QAAAAAAAwFRAAAAAAABAVkAAAAAAAIBLQAAAAAAAgEdAAAAAAADAUEAAAAAAAABWQAAAAAAAwFFAAAAAAACAT0AAAAAAAAAwQAAAAAAAABxAAAAAAAAATUAAAAAAAIBEQAAAAAAAACxAAAAAAAAAVEAAAAAAAIBKQAAAAAAAgE5AAAAAAAAAMEAAAAAAAAAcQAAAAAAAgEdAAAAAAAAAM0AAAAAAAABMQAAAAAAAADpAAAAAAAAAPUAAAAAAAAA1QAAAAAAAQFdAAAAAAAAAHEAAAAAAAAAzQAAAAAAAABRAAAAAAACAWEAAAAAAAABNQAAAAAAAwFRAAAAAAACAVUAAAAAAAABNQAAAAAAAQFNAAAAAAADAUkAAAAAAAAAiQAAAAAAAADlAAAAAAACAV0AAAAAAAABKQAAAAAAAgFBAAAAAAAAAPUAAAAAAAIBWQAAAAAAAwFZAAAAAAABAVkAAAAAAAAA6QAAAAAAAQFJAAAAAAAAAPUAAAAAAAIBPQAAAAAAAAFhAAAAAAAAAIkAAAAAAAIBAQAAAAAAAwFhAAAAAAAAASUAAAAAAAAA7QAAAAAAAQFJAAAAAAACAV0AAAAAAAMBYQAAAAAAAAFZAAAAAAAAAMEAAAAAAAEBYQAAAAAAAgEVAAAAAAAAAM0AAAAAAAAAzQA==\",\"dtype\":\"float64\",\"shape\":[140]},\"y\":{\"__ndarray__\":\"vO5PrM/6PEALiAigHvdMQOpPIvG9+FRAuK7x5pv5UkDZ5teV/PdKQPNtMw6jeElAAmr3gjl3WEBYrO6Xi/w4QECWv5Br+ElAdKR2gbj5RkC4DPfJwgEuQB5e2eEK+lFA+EmToCa6UUBTypW1fgMqQFis7peL/DhAPik5qkD2TkCCoDr2TvhVQI4tJb+Mt1dAOOU0WrF6UEDxAK0neHZOQNI1TV9CelFAC4gIoB73TEBCBZk8xDdXQMM5ieqre0JAXIqh7zx7Q0Bs+b0+qTAIQKdFp4va+EhAgIEhyNwUFEA2eK5zhnhVQKdFp4va+EhAwzmJ6qt7QkCMuqWI2P01QA31joZJ+UdA9dq59M16RECQmqult7lSQERyHyPvOVJA8QCtJ3h2TkCl2CClr/ZNQKohBx5eOlFA82mNg0f+NEBEch8j7zlSQFoZdX62/jNANniuc4Z4VUDByFx5Jf8yQEIDRneW+kRATpKDBQL3WEDdwORiUvxAQFekooLUByBAjLqliNj9NUBYrO6Xi/w4QBBkaDKiOFVAQgWZPMQ3V0AlC76Naf02QDZ4rnOGeFVA74+AtvH5PkAofj3EHbdYQLzuT6zP+jxAji0lv4y3V0BYrO6Xi/w4QFodGwkSeUhAU8qVtX4DKkDzbTMOo3hJQMM5ieqre0JAvOYDlxgGJEAQZGgyojhVQHYTUC0ROVRAQgWZPMQ3V0AE131pZHlTQPH8Bp0c/DlAV6SigtQHIEDuhzShOgUmQPXWE2pyADBAICllq1wEKEDqTyLxvfhUQHYTUC0ROVRA3FWxQVU3WEBWP2ixYPo9QMQ73K/ZuFRAqLSANzM4VkAmD2QYxXdLQMHMAgSBeUdAXvl6m5W6UECCoDr2TvhVQPhJk6AmulFAilHFLAl2T0D11hNqcgAwQEkG5PBkERxAC4gIoB73TED12rn0zXpEQIVrxr+gAixAUP8J7Cz5U0CMvksTNHhKQPEArSd4dk5A9dYTanIAMEBJBuTwZBEcQMHMAgSBeUdAwchceSX/MkByN/CajfdLQPH8Bp0c/DlAvO5PrM/6PEDzaY2DR/40QEIFmTzEN1dASQbk8GQRHEDByFx5Jf8yQICBIcjcFBRAAmr3gjl3WEALiAigHvdMQMQ73K/ZuFRANniuc4Z4VUALiAigHvdMQN7CNyiAOVNAkJqrpbe5UkCJRdOM9gYiQFis7peL/DhAaBnffah3V0BAlr+Qa/hJQDjlNFqxelBAvO5PrM/6PEDQyMZ4F3hWQPbcDLr7t1ZAqLSANzM4VkDx/AadHPw5QERyHyPvOVJAvO5PrM/6PECKUcUsCXZPQLRBawBx91dAiUXTjPYGIkCRmFjgiXxAQCh+PcQdt1hAp0Wni9r4SECKTR+irfs6QERyHyPvOVJAaBnffah3V0Aofj3EHbdYQIKgOvZO+FVA9dYTanIAMEDcVbFBVTdYQI8r0vleekVAwchceSX/MkDByFx5Jf8yQA==\",\"dtype\":\"float64\",\"shape\":[140]}},\"selected\":{\"id\":\"27334\",\"type\":\"Selection\"},\"selection_policy\":{\"id\":\"27335\",\"type\":\"UnionRenderers\"}},\"id\":\"26714\",\"type\":\"ColumnDataSource\"},{\"attributes\":{\"dimension\":1,\"grid_line_alpha\":0.3,\"ticker\":{\"id\":\"26692\",\"type\":\"BasicTicker\"}},\"id\":\"26695\",\"type\":\"Grid\"},{\"attributes\":{},\"id\":\"27330\",\"type\":\"BasicTickFormatter\"},{\"attributes\":{\"text\":\"Visualising Ridge Regression result on testing set\"},\"id\":\"26676\",\"type\":\"Title\"},{\"attributes\":{\"data_source\":{\"id\":\"26709\",\"type\":\"ColumnDataSource\"},\"glyph\":{\"id\":\"26710\",\"type\":\"Cross\"},\"hover_glyph\":null,\"muted_glyph\":null,\"nonselection_glyph\":{\"id\":\"26711\",\"type\":\"Cross\"},\"selection_glyph\":null,\"view\":{\"id\":\"26713\",\"type\":\"CDSView\"}},\"id\":\"26712\",\"type\":\"GlyphRenderer\"},{\"attributes\":{\"fill_color\":{\"value\":\"blue\"},\"line_color\":{\"value\":\"blue\"},\"x\":{\"field\":\"x\"},\"y\":{\"field\":\"y\"}},\"id\":\"26710\",\"type\":\"Cross\"},{\"attributes\":{},\"id\":\"27334\",\"type\":\"Selection\"},{\"attributes\":{\"callback\":null},\"id\":\"26678\",\"type\":\"DataRange1d\"},{\"attributes\":{\"callback\":null},\"id\":\"26680\",\"type\":\"DataRange1d\"},{\"attributes\":{\"callback\":null,\"data\":{\"x\":{\"__ndarray__\":\"AAAAAAAAPUAAAAAAAABNQAAAAAAAAFVAAAAAAAAAU0AAAAAAAABLQAAAAAAAgElAAAAAAACAWEAAAAAAAAA5QAAAAAAAAEpAAAAAAAAAR0AAAAAAAAAuQAAAAAAAAFJAAAAAAADAUUAAAAAAAAAqQAAAAAAAADlAAAAAAAAAT0AAAAAAAABWQAAAAAAAwFdAAAAAAACAUEAAAAAAAIBOQAAAAAAAgFFAAAAAAAAATUAAAAAAAEBXQAAAAAAAgEJAAAAAAACAQ0AAAAAAAAAIQAAAAAAAAElAAAAAAAAAFEAAAAAAAIBVQAAAAAAAAElAAAAAAACAQkAAAAAAAAA2QAAAAAAAAEhAAAAAAACAREAAAAAAAMBSQAAAAAAAQFJAAAAAAACATkAAAAAAAABOQAAAAAAAQFFAAAAAAAAANUAAAAAAAEBSQAAAAAAAADRAAAAAAACAVUAAAAAAAAAzQAAAAAAAAEVAAAAAAAAAWUAAAAAAAABBQAAAAAAAACBAAAAAAAAANkAAAAAAAAA5QAAAAAAAQFVAAAAAAABAV0AAAAAAAAA3QAAAAAAAgFVAAAAAAAAAP0AAAAAAAMBYQAAAAAAAAD1AAAAAAADAV0AAAAAAAAA5QAAAAAAAgEhAAAAAAAAAKkAAAAAAAIBJQAAAAAAAgEJAAAAAAAAAJEAAAAAAAEBVQAAAAAAAQFRAAAAAAABAV0AAAAAAAIBTQAAAAAAAADpAAAAAAAAAIEAAAAAAAAAmQAAAAAAAADBAAAAAAAAAKEAAAAAAAABVQAAAAAAAQFRAAAAAAABAWEAAAAAAAAA+QAAAAAAAwFRAAAAAAABAVkAAAAAAAIBLQAAAAAAAgEdAAAAAAADAUEAAAAAAAABWQAAAAAAAwFFAAAAAAACAT0AAAAAAAAAwQAAAAAAAABxAAAAAAAAATUAAAAAAAIBEQAAAAAAAACxAAAAAAAAAVEAAAAAAAIBKQAAAAAAAgE5AAAAAAAAAMEAAAAAAAAAcQAAAAAAAgEdAAAAAAAAAM0AAAAAAAABMQAAAAAAAADpAAAAAAAAAPUAAAAAAAAA1QAAAAAAAQFdAAAAAAAAAHEAAAAAAAAAzQAAAAAAAABRAAAAAAACAWEAAAAAAAABNQAAAAAAAwFRAAAAAAACAVUAAAAAAAABNQAAAAAAAQFNAAAAAAADAUkAAAAAAAAAiQAAAAAAAADlAAAAAAACAV0AAAAAAAABKQAAAAAAAgFBAAAAAAAAAPUAAAAAAAIBWQAAAAAAAwFZAAAAAAABAVkAAAAAAAAA6QAAAAAAAQFJAAAAAAAAAPUAAAAAAAIBPQAAAAAAAAFhAAAAAAAAAIkAAAAAAAIBAQAAAAAAAwFhAAAAAAAAASUAAAAAAAAA7QAAAAAAAQFJAAAAAAACAV0AAAAAAAMBYQAAAAAAAAFZAAAAAAAAAMEAAAAAAAEBYQAAAAAAAgEVAAAAAAAAAM0AAAAAAAAAzQA==\",\"dtype\":\"float64\",\"shape\":[140]},\"y\":{\"__ndarray__\":\"bSkxGdiqPUCaTRXG9VdMQHmU503HQVVAzc79MN1IUkAjbPRBAThIQMYMOykfokpATNR/lCAmV0AXO47dDf41QCml0hUN2klApjBrOYKARkAE1dTsYMInQFTuFUjW01FAEa2yQpOXUUBH2EM9dTsqQJLpjs2nnzZA5kUeb48LTUAFLMH7jR5WQEhS0sMQDFhAIPmcHgjTT0C3cM3bYIJOQEYBy9+3bVJA6nbVh57OS0APzHYqxQBXQNhus1+U8URAmEHG7eEmQ0CEN8Kn22/6P/S+de6LfEhAibKWhgpxF0BHLLUgDNJUQKf5dIZzu0dARCsgguTYQkD9azfJqAM1QLu5dKP6Y0dA6AEDczo7RkBHr8QL+/1SQNKN0bbxbVFALgZqjLExTkCKeMru8n5MQDAULOVn0FFANvhODpcDL0Avk3bdutNRQNn8bKKeVzhAW9RhZA2SVUBMwZ6fd1gxQD/xUqAFo0VAu4jGRTvAWECORz7pI30+QMmfQooOlh9A6VTocjl2MUCyYW5zOlo7QBA+Ukw3rFRAtI2ie1SjV0CYQaXf+AUzQEBEMC+8NlZASphI7W4LPUAL/5a+H75XQMDJeIzZpzpAFy1A22ovWUAs2W/1tZw4QPcx7h9uQEpABTs4t41PKUB4xzGrWnhKQB3i5QrrS0FAV5Xq8zJ2IkBKc/HYC4xVQB20kcpYdVNAbOpdOOeoV0ADEG+EophTQOGj1ftTZzpAsCBJIJCBLUABCDTl/rcgQBgA0zejeSZAEtoh58U5G0DeLNKCX2FVQPAmjQsmXVRAFpPMJEmhWEAcB387YD4/QEV5zUhQk1VAN1QIu1NhVUDbuM1tpTNLQAHWkcDyZUhAnXmDedlAUECAykKFtANWQHli7yhCyVJAXCoErDTWT0DTdbiItQgxQB0w8UKYTRBAzokcpqYjTkAB2nfBN6dAQMM52bxgQChAzikza8pIU0Cr+BJsVI5MQDV/Ck+BGU5A82hX38gqMEAWa8qr+fsXQGl35QaFzUpAK1+GteciNkAXIQIvL59NQBlJDhryHTpAPW1De6tVOkAEwB1Nmos2QP+OLIkBqFdAX9Jp9KLWHUC9KVkMJqk2QB8FeKCIZBBA7abvkL2fWUAmzThwe2ZPQDUw6kEezlVA/G/jHqQkVkC+00spO0ZLQN/aT+fGh1JAfIH2dk3fUkCn6gKELecUQLKSAzQZMEBAnj1+DCkMWEDAHY+2/XlKQNhJXEtxk09AveinD4+nO0Aud0V0eCdWQIP1A0cXu1dAd4DMc6lGVkDa6Dl1Jzk8QNt+v7m7/lFA1gTuzEZXPUDa7Q6EP0dPQAKrNHPSFlhAAlqh5cy0J0AKnfjmjolBQOGhg4kaBllAOab+rL8lSEBnwHLnNpU4QDOqDOPumVFAF5tWCsGEV0D8OLsxFOFYQCaH9IAepVZAnkisnCgBLEBv08ALsolXQF12oRx5akRAH8Lw+JN4M0CACqq6BZwxQA==\",\"dtype\":\"float64\",\"shape\":[140]}},\"selected\":{\"id\":\"27332\",\"type\":\"Selection\"},\"selection_policy\":{\"id\":\"27333\",\"type\":\"UnionRenderers\"}},\"id\":\"26709\",\"type\":\"ColumnDataSource\"},{\"attributes\":{\"fill_alpha\":{\"value\":0.1},\"fill_color\":{\"value\":\"#1f77b4\"},\"line_alpha\":{\"value\":0.1},\"line_color\":{\"value\":\"#1f77b4\"},\"x\":{\"field\":\"x\"},\"y\":{\"field\":\"y\"}},\"id\":\"26711\",\"type\":\"Cross\"},{\"attributes\":{\"bottom_units\":\"screen\",\"fill_alpha\":{\"value\":0.5},\"fill_color\":{\"value\":\"lightgrey\"},\"left_units\":\"screen\",\"level\":\"overlay\",\"line_alpha\":{\"value\":1.0},\"line_color\":{\"value\":\"black\"},\"line_dash\":[4,4],\"line_width\":{\"value\":2},\"render_mode\":\"css\",\"right_units\":\"screen\",\"top_units\":\"screen\"},\"id\":\"27331\",\"type\":\"BoxAnnotation\"},{\"attributes\":{},\"id\":\"27333\",\"type\":\"UnionRenderers\"},{\"attributes\":{},\"id\":\"26696\",\"type\":\"PanTool\"},{\"attributes\":{},\"id\":\"26697\",\"type\":\"WheelZoomTool\"},{\"attributes\":{\"overlay\":{\"id\":\"27331\",\"type\":\"BoxAnnotation\"}},\"id\":\"26698\",\"type\":\"BoxZoomTool\"},{\"attributes\":{\"source\":{\"id\":\"26709\",\"type\":\"ColumnDataSource\"}},\"id\":\"26713\",\"type\":\"CDSView\"},{\"attributes\":{\"axis_label\":\"features\",\"formatter\":{\"id\":\"27330\",\"type\":\"BasicTickFormatter\"},\"ticker\":{\"id\":\"26687\",\"type\":\"BasicTicker\"}},\"id\":\"26686\",\"type\":\"LinearAxis\"},{\"attributes\":{},\"id\":\"26699\",\"type\":\"SaveTool\"},{\"attributes\":{\"line_color\":\"red\",\"x\":{\"field\":\"x\"},\"y\":{\"field\":\"y\"}},\"id\":\"26715\",\"type\":\"Line\"},{\"attributes\":{},\"id\":\"27332\",\"type\":\"Selection\"},{\"attributes\":{},\"id\":\"26701\",\"type\":\"HelpTool\"},{\"attributes\":{},\"id\":\"26682\",\"type\":\"LinearScale\"},{\"attributes\":{},\"id\":\"27335\",\"type\":\"UnionRenderers\"},{\"attributes\":{},\"id\":\"26684\",\"type\":\"LinearScale\"},{\"attributes\":{},\"id\":\"26700\",\"type\":\"ResetTool\"},{\"attributes\":{\"line_alpha\":0.1,\"line_color\":\"#1f77b4\",\"x\":{\"field\":\"x\"},\"y\":{\"field\":\"y\"}},\"id\":\"26716\",\"type\":\"Line\"},{\"attributes\":{\"data_source\":{\"id\":\"26714\",\"type\":\"ColumnDataSource\"},\"glyph\":{\"id\":\"26715\",\"type\":\"Line\"},\"hover_glyph\":null,\"muted_glyph\":null,\"nonselection_glyph\":{\"id\":\"26716\",\"type\":\"Line\"},\"selection_glyph\":null,\"view\":{\"id\":\"26718\",\"type\":\"CDSView\"}},\"id\":\"26717\",\"type\":\"GlyphRenderer\"},{\"attributes\":{},\"id\":\"26687\",\"type\":\"BasicTicker\"},{\"attributes\":{\"grid_line_alpha\":0.3,\"ticker\":{\"id\":\"26687\",\"type\":\"BasicTicker\"}},\"id\":\"26690\",\"type\":\"Grid\"}],\"root_ids\":[\"26675\"]},\"title\":\"Bokeh Application\",\"version\":\"1.4.0\"}};\n",
       "  var render_items = [{\"docid\":\"5d7712cf-c087-41d7-86b6-487220a9a8c9\",\"roots\":{\"26675\":\"2a43b072-15ba-4314-94f3-acc571411da4\"}}];\n",
       "  root.Bokeh.embed.embed_items_notebook(docs_json, render_items);\n",
       "\n",
       "  }\n",
       "  if (root.Bokeh !== undefined) {\n",
       "    embed_document(root);\n",
       "  } else {\n",
       "    var attempts = 0;\n",
       "    var timer = setInterval(function(root) {\n",
       "      if (root.Bokeh !== undefined) {\n",
       "        clearInterval(timer);\n",
       "        embed_document(root);\n",
       "      } else {\n",
       "        attempts++;\n",
       "        if (attempts > 100) {\n",
       "          clearInterval(timer);\n",
       "          console.log(\"Bokeh: ERROR: Unable to run BokehJS code because BokehJS library is missing\");\n",
       "        }\n",
       "      }\n",
       "    }, 10, root)\n",
       "  }\n",
       "})(window);"
      ],
      "application/vnd.bokehjs_exec.v0+json": ""
     },
     "metadata": {
      "application/vnd.bokehjs_exec.v0+json": {
       "id": "26675"
      }
     },
     "output_type": "display_data"
    }
   ],
   "source": [
    "p1 = figure(title = \"Visualising Ridge Regression result on testing set\", width=1000)\n",
    "p1.grid.grid_line_alpha=0.3\n",
    "p1.xaxis.axis_label = 'features'\n",
    "p1.yaxis.axis_label = 'Values'\n",
    "\n",
    "p1.cross(X_test.flatten(),Y_test.flatten(), color='blue')\n",
    "p1.line(X_test.flatten(),y =  ridgeRegr.predict(X_test).flatten(), color='red')\n",
    "\n",
    "\n",
    "\n",
    "show(p1)"
   ]
  },
  {
   "cell_type": "markdown",
   "metadata": {},
   "source": [
    "### Comparing the three models"
   ]
  },
  {
   "cell_type": "code",
   "execution_count": 186,
   "metadata": {
    "scrolled": true
   },
   "outputs": [
    {
     "name": "stdout",
     "output_type": "stream",
     "text": [
      "Score of Linear Regression Model 0.9916592070219102\n",
      "Score of Polynomial Regression Model 0.9915964583277461\n",
      "Score of Ridge Regression Model 0.9904033259765133\n"
     ]
    }
   ],
   "source": [
    "print(\"Score of Linear Regression Model\",regressor.score(X_test,Y_test))\n",
    "print(\"Score of Polynomial Regression Model\",ployRegr.score(polynom.fit_transform(X_test), Y_test))\n",
    "print(\"Score of Ridge Regression Model\",ridgeRegr.score(ridgeRegr.predict(X_train),Y_train))"
   ]
  },
  {
   "cell_type": "markdown",
   "metadata": {},
   "source": [
    "## Final Insight:\n",
    "#### <font color=red>As in the given dataset, data was linear varying so Linear Regression gave the best score of all the 3 Models</font>"
   ]
  },
  {
   "cell_type": "code",
   "execution_count": null,
   "metadata": {},
   "outputs": [],
   "source": []
  }
 ],
 "metadata": {
  "kernelspec": {
   "display_name": "Python 3",
   "language": "python",
   "name": "python3"
  },
  "language_info": {
   "codemirror_mode": {
    "name": "ipython",
    "version": 3
   },
   "file_extension": ".py",
   "mimetype": "text/x-python",
   "name": "python",
   "nbconvert_exporter": "python",
   "pygments_lexer": "ipython3",
   "version": "3.7.6"
  }
 },
 "nbformat": 4,
 "nbformat_minor": 4
}

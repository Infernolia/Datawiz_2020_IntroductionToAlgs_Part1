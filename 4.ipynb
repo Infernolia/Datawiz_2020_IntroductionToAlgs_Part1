{
  "nbformat": 4,
  "nbformat_minor": 0,
  "metadata": {
    "colab": {
      "name": "Regression",
      "provenance": [],
      "collapsed_sections": []
    },
    "kernelspec": {
      "name": "python3",
      "display_name": "Python 3"
    }
  },
  "cells": [
    {
      "cell_type": "markdown",
      "metadata": {
        "id": "7ypbgcBqiB8T",
        "colab_type": "text"
      },
      "source": [
        "#**Regression:**\n",
        "In this notebook, we will be working on data in order to figure out a relation between the x & y columns of our dataset. This will be done by using a method called regression which basically tries to map out the best line/curve in order to find a suitable correlation between the 2 column of values.\n",
        "\n",
        "The following work has been done by **Anupam Patil**."
      ]
    },
    {
      "cell_type": "markdown",
      "metadata": {
        "id": "MddNEsMwh_Sf",
        "colab_type": "text"
      },
      "source": [
        "\n",
        "---\n",
        "\n"
      ]
    },
    {
      "cell_type": "markdown",
      "metadata": {
        "id": "CFoIgOU-jD_0",
        "colab_type": "text"
      },
      "source": [
        "#Importing all the required libraries:\n",
        "We will be using the sklearn library for doing all the regression computing on our given dataset."
      ]
    },
    {
      "cell_type": "code",
      "metadata": {
        "id": "KCww6ruYzXFE",
        "colab_type": "code",
        "colab": {}
      },
      "source": [
        "import pandas as pd\n",
        "from sklearn.linear_model import LinearRegression \n",
        "from sklearn.linear_model import Ridge \n",
        "from sklearn.model_selection import train_test_split \n",
        "from sklearn.preprocessing import StandardScaler \n",
        "from sklearn.preprocessing import PolynomialFeatures \n",
        "import matplotlib.pyplot as plt\n",
        "import array\n",
        "import numpy as np"
      ],
      "execution_count": null,
      "outputs": []
    },
    {
      "cell_type": "markdown",
      "metadata": {
        "id": "pLgIjG8icu4w",
        "colab_type": "text"
      },
      "source": [
        "#**Setting up our Dataset:**\n",
        "We basically divide our data into 2 segments, Test & Train for x and y each for determining accuracy of each model.<br><br>\n",
        "**A common note for all code segments:**\n",
        "The dataset is divided in a 7:3 Train:Test ratio in order to help deduce accuracy of each regression method by testing it over the test datasets in each case."
      ]
    },
    {
      "cell_type": "code",
      "metadata": {
        "id": "V9p_s0ZXKR85",
        "colab_type": "code",
        "colab": {}
      },
      "source": [
        "data=pd.read_csv(\"datasets_1256_2242_train.csv\")\n",
        "data=data.dropna()\n",
        "data = data.sort_values(by=['x'])\n",
        "x = data.iloc[:, 0:1].values \n",
        "y = data.iloc[:, 1:].values \n",
        "X_train, X_test, y_train, y_test = train_test_split(x, y, \n",
        "                                                    test_size = 0.3)"
      ],
      "execution_count": null,
      "outputs": []
    },
    {
      "cell_type": "markdown",
      "metadata": {
        "id": "qmkOrq2NMOMs",
        "colab_type": "text"
      },
      "source": [
        "#**Linear Regression:**\n",
        "In this code segment, the basic concept is to try and plot a line such that majority of all the plot points pass through it for making future predictions of the required values on the basis of this line, thus giving more accurate results.\n",
        "A graphical illustration has been provided for in-depth understanding of the concept."
      ]
    },
    {
      "cell_type": "code",
      "metadata": {
        "id": "BX04AlMJ1V1V",
        "colab_type": "code",
        "colab": {
          "base_uri": "https://localhost:8080/",
          "height": 348
        },
        "outputId": "52ab2b8f-775b-47bf-829e-06e2254820aa"
      },
      "source": [
        "lin=LinearRegression()\n",
        "lin.fit(X_train,y_train)\n",
        "# finding score for our model \n",
        "score = lin.score(X_test, y_test) \n",
        "print(\"\\n\\nModel accuracy on test dataset for linear regression : \", score*100,\"%\") \n",
        "plt.scatter(list(X_train), list(y_train), color = 'green')\n",
        "plt.plot(list(X_train), lin.predict(list(X_train)), color = 'yellow') \n",
        "plt.xlabel('X')\n",
        "plt.ylabel('Y')\n",
        "plt.title('Linear Regression')\n",
        "plt.show()"
      ],
      "execution_count": null,
      "outputs": [
        {
          "output_type": "stream",
          "text": [
            "\n",
            "\n",
            "Model accuracy on test dataset for linear regression :  99.17527369192665 %\n"
          ],
          "name": "stdout"
        },
        {
          "output_type": "display_data",
          "data": {
            "image/png": "[encoded data removed]",
            "text/plain": [
              "<Figure size 432x288 with 1 Axes>"
            ]
          },
          "metadata": {
            "tags": [],
            "needs_background": "light"
          }
        }
      ]
    },
    {
      "cell_type": "markdown",
      "metadata": {
        "id": "6eUgoV9t10CI",
        "colab_type": "text"
      },
      "source": [
        "#**Polynomial Regression for predicting value of y:**\n",
        "In the following few segments of code, we've implemented polynomial regression, i.e tried to plot a correlation of an exponential value of x with respect to y in order to find the suitable correlation.\n",
        "\n",
        "We've tried to perform polynomial regression for 4 different degrees of x, namely degrees 2,3,4 & 5. \n",
        "\n",
        "In this segment, we've also graphically represented all the data and the regression curve for better understanding of the concept."
      ]
    },
    {
      "cell_type": "code",
      "metadata": {
        "id": "0-ja9i9_4Q1-",
        "colab_type": "code",
        "colab": {
          "base_uri": "https://localhost:8080/",
          "height": 348
        },
        "outputId": "144225bf-fe0d-4dc3-9cdf-7b5c69b37acc"
      },
      "source": [
        "poly = PolynomialFeatures(degree = 2) #using polynomial of degree 2 for regression \n",
        "X_poly = poly.fit_transform(X_train)\n",
        "poly.fit(X_poly, y_train) \n",
        "p = LinearRegression() \n",
        "p.fit(X_poly, y_train) \n",
        "  \n",
        "# obtaining score for our model \n",
        "score = p.score(poly.fit_transform(X_test), y_test) \n",
        "\n",
        "print(\"Model accuracy on test dataset: \", score*100,\"%\") \n",
        "plt.plot(x**2, p.predict(poly.fit_transform(x)), color = 'green') \n",
        "plt.title('Polynomial Regression of Degree 2')\n",
        "plt.xlabel('X^2')\n",
        "plt.ylabel('Y')\n",
        "plt.scatter(x**2, y, color = 'orange')\n",
        "plt.show()"
      ],
      "execution_count": null,
      "outputs": [
        {
          "output_type": "stream",
          "text": [
            "\n",
            "\n",
            "Model accuracy on test dataset:  99.177147695946 %\n"
          ],
          "name": "stdout"
        },
        {
          "output_type": "display_data",
          "data": {
            "image/png": "[encoded data removed]",
            "text/plain": [
              "<Figure size 432x288 with 1 Axes>"
            ]
          },
          "metadata": {
            "tags": [],
            "needs_background": "light"
          }
        }
      ]
    },
    {
      "cell_type": "code",
      "metadata": {
        "id": "FkVINm0r3Hdx",
        "colab_type": "code",
        "colab": {
          "base_uri": "https://localhost:8080/",
          "height": 348
        },
        "outputId": "703cdbc4-4dc3-4127-cd23-6247fac8fa27"
      },
      "source": [
        "poly = PolynomialFeatures(degree = 3) #using polynomial of degree 3 for regression \n",
        "X_poly = poly.fit_transform(X_train)\n",
        "poly.fit(X_poly, y_train) \n",
        "p1 = LinearRegression() \n",
        "p1.fit(X_poly, y_train) \n",
        "# predicting the y_test \n",
        "#y_pred = lin2.predict(X_test) \n",
        "  \n",
        "# finding score for our model \n",
        "score = p1.score(poly.fit_transform(X_test), y_test) \n",
        "print(\"\\n\\nModel accuracy on test dataset: \", score*100,\"%\") \n",
        "plt.plot(x**3, p1.predict(poly.fit_transform(x)), color = 'yellow') \n",
        "plt.title('Polynomial Regression of Degree 3')\n",
        "plt.xlabel('X^3')\n",
        "plt.ylabel('Y')\n",
        "plt.scatter(x**3, y, color = 'red')\n",
        "plt.show()"
      ],
      "execution_count": null,
      "outputs": [
        {
          "output_type": "stream",
          "text": [
            "\n",
            "\n",
            "Model accuracy on test dataset:  99.17897249254665 %\n"
          ],
          "name": "stdout"
        },
        {
          "output_type": "display_data",
          "data": {
            "image/png": "[encoded data removed]",
            "text/plain": [
              "<Figure size 432x288 with 1 Axes>"
            ]
          },
          "metadata": {
            "tags": [],
            "needs_background": "light"
          }
        }
      ]
    },
    {
      "cell_type": "code",
      "metadata": {
        "id": "grHwjlYs3NEs",
        "colab_type": "code",
        "colab": {
          "base_uri": "https://localhost:8080/",
          "height": 348
        },
        "outputId": "b2ba144c-38ca-44bc-dddd-68310831379b"
      },
      "source": [
        "poly = PolynomialFeatures(degree = 4) #using polynomial of degree 4 for regression \n",
        "X_poly = poly.fit_transform(X_train)\n",
        "poly.fit(X_poly, y_train) \n",
        "p2 = LinearRegression() \n",
        "p2.fit(X_poly, y_train) \n",
        "  \n",
        "# finding score for our model \n",
        "score = p2.score(poly.fit_transform(X_test), y_test) \n",
        "print(\"\\n\\nModel accuracy on test dataset: \", score*100,\"%\") \n",
        "plt.plot(x**4, p2.predict(poly.fit_transform(x)), color = 'yellow') \n",
        "plt.title('Polynomial Regression of Degree 4')\n",
        "plt.xlabel('X^4')\n",
        "plt.ylabel('Y')\n",
        "plt.scatter(x**4, y, color = 'blue')\n",
        "plt.show()"
      ],
      "execution_count": null,
      "outputs": [
        {
          "output_type": "stream",
          "text": [
            "\n",
            "\n",
            "Model accuracy on test dataset:  99.17778391833934 %\n"
          ],
          "name": "stdout"
        },
        {
          "output_type": "display_data",
          "data": {
            "image/png": "[encoded data removed]",
            "text/plain": [
              "<Figure size 432x288 with 1 Axes>"
            ]
          },
          "metadata": {
            "tags": [],
            "needs_background": "light"
          }
        }
      ]
    },
    {
      "cell_type": "code",
      "metadata": {
        "id": "v55_sOTD3RgE",
        "colab_type": "code",
        "colab": {
          "base_uri": "https://localhost:8080/",
          "height": 313
        },
        "outputId": "5a8711e9-88ad-439d-f136-7f9a8816d7a7"
      },
      "source": [
        "poly = PolynomialFeatures(degree = 5) #using polynomial of degree 5 for regression \n",
        "X_poly = poly.fit_transform(X_train)\n",
        "poly.fit(X_poly, y_train) \n",
        "p3 = LinearRegression() \n",
        "p3.fit(X_poly, y_train) \n",
        "\n",
        "# finding score for our model \n",
        "score = p3.score(poly.fit_transform(X_test), y_test) \n",
        "print(\"Model accuracy on test dataset: \", score*100,\"%\") \n",
        "plt.plot(x**5, p3.predict(poly.fit_transform(x)), color = 'green') \n",
        "plt.title('Polynomial Regression of Degree 5')\n",
        "plt.xlabel('X^5')\n",
        "plt.ylabel('Y')\n",
        "plt.scatter(x**5, y, color = 'yellow')\n",
        "plt.show()"
      ],
      "execution_count": null,
      "outputs": [
        {
          "output_type": "stream",
          "text": [
            "Model accuracy on test dataset:  99.1692262783805 %\n"
          ],
          "name": "stdout"
        },
        {
          "output_type": "display_data",
          "data": {
            "image/png": "[encoded data removed]",
            "text/plain": [
              "<Figure size 432x288 with 1 Axes>"
            ]
          },
          "metadata": {
            "tags": [],
            "needs_background": "light"
          }
        }
      ]
    },
    {
      "cell_type": "markdown",
      "metadata": {
        "id": "NRj-hKeX2jwa",
        "colab_type": "text"
      },
      "source": [
        "#**Ridge Regression for predicting value of y:**\n",
        "Ridge Regression is a slightly modified variant of Linear regression, where the mean square error term of i.e the cost function is added with a regularized term with a constant 'alpha' such that it predicts a regularized value thus reducing variations in real-life scenarios.\n",
        "\n",
        "Below, we have computed test datasets for 3 different values of alpha i.e 0.5, 0.1 & 0.2 "
      ]
    },
    {
      "cell_type": "markdown",
      "metadata": {
        "id": "HSR3h1LJZdux",
        "colab_type": "text"
      },
      "source": [
        "When alpha=0.5:"
      ]
    },
    {
      "cell_type": "code",
      "metadata": {
        "id": "tdpMwQGU-G1u",
        "colab_type": "code",
        "colab": {
          "base_uri": "https://localhost:8080/",
          "height": 34
        },
        "outputId": "7852fb1b-2057-4678-bc76-8433b3cd26cd"
      },
      "source": [
        "# scaling the inputs  #ridge regression\n",
        "scale = StandardScaler() \n",
        "scaled_x = scale.fit_transform(X_train) \n",
        "  \n",
        "  \n",
        "# training model with 0.5 alpha value \n",
        "modelr = Ridge(alpha = 0.5, normalize = False, tol = 0.001,) \n",
        "modelr.fit(scaled_x, y_train)  \n",
        "  \n",
        "# finding score for our model \n",
        "score = modelr.score(scale.fit_transform(X_test), y_test) \n",
        "print(\"Model accuracy for test dataset: \", score*100,\"%\") "
      ],
      "execution_count": null,
      "outputs": [
        {
          "output_type": "stream",
          "text": [
            "Model accuracy for test dataset:  98.98916230713763 %\n"
          ],
          "name": "stdout"
        }
      ]
    },
    {
      "cell_type": "markdown",
      "metadata": {
        "id": "8QoO6FdXZid4",
        "colab_type": "text"
      },
      "source": [
        "When alpha=0.1:"
      ]
    },
    {
      "cell_type": "code",
      "metadata": {
        "id": "mvBvKBU-s04Q",
        "colab_type": "code",
        "colab": {
          "base_uri": "https://localhost:8080/",
          "height": 34
        },
        "outputId": "6605b36e-c5e3-4366-91f0-e02d9472bb77"
      },
      "source": [
        "# scaling the inputs  #ridge regression\n",
        "scale = StandardScaler() \n",
        "scaled_x = scale.fit_transform(X_train) \n",
        "  \n",
        "  \n",
        "# training model with 0.1 alpha value \n",
        "modelr1 = Ridge(alpha = 0.1, normalize = False, tol = 0.001,) \n",
        "modelr1.fit(scaled_x, y_train) \n",
        "   \n",
        "  \n",
        "# finding score for our model \n",
        "score = modelr1.score(scale.fit_transform(X_test), y_test) \n",
        "print(\"Model accuracy for test dataset when alpha=0.1 : \", score*100,\"%\") "
      ],
      "execution_count": null,
      "outputs": [
        {
          "output_type": "stream",
          "text": [
            "Model accuracy for test dataset when alpha=0.1 :  98.99525097878907 %\n"
          ],
          "name": "stdout"
        }
      ]
    },
    {
      "cell_type": "markdown",
      "metadata": {
        "id": "s_AO0E_vZmT-",
        "colab_type": "text"
      },
      "source": [
        "When alpha=0.2:"
      ]
    },
    {
      "cell_type": "code",
      "metadata": {
        "id": "hVSTq2wC4wL5",
        "colab_type": "code",
        "colab": {
          "base_uri": "https://localhost:8080/",
          "height": 34
        },
        "outputId": "17faa78d-77f3-45a5-d079-b41adebb6277"
      },
      "source": [
        "# scaling the inputs  #ridge regression\n",
        "scale = StandardScaler() \n",
        "scaled_x = scale.fit_transform(X_train) \n",
        "  \n",
        "  \n",
        "# training model with 0.2 alpha value \n",
        "modelr2 = Ridge(alpha = 0.2, normalize = False, tol = 0.001,) \n",
        "modelr2.fit(scaled_x, y_train) \n",
        "  \n",
        "# finding score for our model \n",
        "score = modelr2.score(scale.fit_transform(X_test), y_test) \n",
        "print(\"Model accuracy for test dataset when alpha=0.2 : \", score*100,\"%\") "
      ],
      "execution_count": null,
      "outputs": [
        {
          "output_type": "stream",
          "text": [
            "Model accuracy for test dataset when alpha=0.2 :  98.99373935988075 %\n"
          ],
          "name": "stdout"
        }
      ]
    },
    {
      "cell_type": "markdown",
      "metadata": {
        "id": "P8HyghelQqer",
        "colab_type": "text"
      },
      "source": [
        "#**Conclusion:**\n",
        "The following results were obtained:<br><br>\n",
        "  1) The Linear Regression model had an accuracy of 99.17527369192665 %<br><br>\n",
        "  2) In Polynomial Regression models:<br>\n",
        "    a) Of Degree 2 had an accuracy of 99.177147695946 %<br>\n",
        "    b) Of Degree 3 had an accuracy of 99.17897249254665 %<br>\n",
        "    c) Of Degree 4 had an accuracy of 99.17778391833934 % <br>\n",
        "    d) Of Degree 5 had an accuracy of 99.1692262783805 % <br>\n",
        "<br>\n",
        "  3) In Ridge Regression models with:<br>\n",
        "    a) alpha=0.5, had an accuracy of 98.98916230713763 %<br>\n",
        "    b) alpha=0.1, had an accuracy of 98.99525097878907 %<br>\n",
        "    c) alpha=0.2, had an accuracy of 98.99373935988075 %<br>\n",
        "\n",
        "Therefore, overall we can conclude that **Polynomial Regression model of degree 3 provided the most accuracy** while predicting value of y on the test dataset which we derived from the original dataset.\n"
      ]
    }
  ]
}